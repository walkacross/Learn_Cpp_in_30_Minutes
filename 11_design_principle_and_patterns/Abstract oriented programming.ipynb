{
 "cells": [
  {
   "cell_type": "markdown",
   "id": "63c1401c",
   "metadata": {},
   "source": [
    "# Abstract oriented programming(Dependency Inversion Principle)"
   ]
  },
  {
   "cell_type": "markdown",
   "id": "acaa7657",
   "metadata": {},
   "source": [
    "* 1 What and why Abstract oriented programming\n",
    "* 2 Virtual Functions and Runtime Polymorphism in C++\n",
    "* 3 Dynamic casting\n",
    "* 4 How virtual function work? (VTable and VPtr)\n",
    "* 5 Time efficient solution: Curiously Recurring Template Pattern (CRTP) "
   ]
  },
  {
   "cell_type": "code",
   "execution_count": 1,
   "id": "7bc611f4",
   "metadata": {},
   "outputs": [],
   "source": [
    "#include <iostream>\n",
    "#include <string>"
   ]
  },
  {
   "cell_type": "markdown",
   "id": "ed8855a8",
   "metadata": {},
   "source": [
    "Dependency inversion principle is one of the principles on which most of the design patterns are build upon. Dependency inversion talks about the coupling between the different classes or modules. It focuses on the approach where the higher classes are not dependent on the lower classes instead depend upon the abstraction of the lower classes. The main motto of the dependency inversion is Any higher classes should always depend upon the abstraction of the class rather than the detail.\n",
    "\n",
    "This aims to reduce the coupling between the classes is achieved by introducing abstraction between the layer, thus doesn’t care about the real implementation."
   ]
  },
  {
   "cell_type": "markdown",
   "id": "529963b9",
   "metadata": {},
   "source": [
    "## 2 Virtual function, Abstract class and Polymorphism"
   ]
  },
  {
   "cell_type": "markdown",
   "id": "63630a06",
   "metadata": {},
   "source": [
    "A virtual function is a member function that is declared in the base class using the keyword virtual and is re-defined (Overriden) in the derived class. It tells the compiler to perform late binding where the compiler matches the object with the right called function and executes it during the runtime. This technique of falls under Runtime Polymorphism\n",
    "\n",
    "The term Polymorphism means the ability to take many forms. It occurs if there is a hierarchy of classes that are all related to each other by inheritance. In simple words, when we break down Polymorphism into ‘Poly – Many’ and ‘morphism – Forms’ it means showing different characteristics in different situations. \n",
    "\n",
    "Consider the following simple program as an example of runtime polymorphism. The main thing to note about the program is that the derived class’s function is called using a base class pointer.\n",
    "The idea is that virtual functions are called according to the type of the object instance pointed to or referenced, not according to the type of the pointer or reference.\n",
    "In other words, virtual functions are resolved late, at runtime."
   ]
  },
  {
   "cell_type": "markdown",
   "id": "14be2292",
   "metadata": {},
   "source": [
    "Polymorphism is often referred to as the third pillar of object-oriented programming, after encapsulation and inheritance. Polymorphism is a Greek word that means \"many-shaped\" and it has two distinct aspects:\n",
    "\n",
    "At run time, objects of a derived class may be treated as objects of a base class in places such as method parameters and collections or arrays. When this polymorphism occurs, the object's declared type is no longer identical to its run-time type. Base classes may define and implement virtual methods, and derived classes can override them, which means they provide their own definition and implementation. At run-time, when client code calls the method, the CLR looks up the run-time type of the object, and invokes that override of the virtual method. In your source code you can call a method on a base class, and cause a derived class's version of the method to be executed."
   ]
  },
  {
   "cell_type": "markdown",
   "id": "f239f77d",
   "metadata": {},
   "source": [
    "## 2.1 the attemp version"
   ]
  },
  {
   "cell_type": "code",
   "execution_count": 2,
   "id": "52d2a28c",
   "metadata": {},
   "outputs": [],
   "source": [
    "class Shape {\n",
    "   protected:\n",
    "      int width, height;\n",
    "   public:\n",
    "      Shape( int a=0, int b=0)\n",
    "      {\n",
    "         width = a;\n",
    "         height = b;\n",
    "      }\n",
    "      int area()\n",
    "      {\n",
    "         std::cout << \"Parent class area :\" << std::endl;\n",
    "         return 0;\n",
    "      }\n",
    "};\n",
    "class Rectangle: public Shape{\n",
    "   public:\n",
    "      Rectangle( int a=0, int b=0):Shape(a, b) { }\n",
    "      int area ()\n",
    "      { \n",
    "         std::cout << \"Rectangle class area :\" << std::endl;\n",
    "         return (width * height); \n",
    "      }\n",
    "};\n",
    "class Triangle: public Shape{\n",
    "   public:\n",
    "      Triangle( int a=0, int b=0):Shape(a, b) { }\n",
    "      int area ()\n",
    "      { \n",
    "         std::cout << \"Triangle class area :\" << std::endl;\n",
    "         return (width * height / 2); \n",
    "      }\n",
    "};"
   ]
  },
  {
   "cell_type": "code",
   "execution_count": 3,
   "id": "c7d21f80",
   "metadata": {},
   "outputs": [],
   "source": [
    "void use_shape(Shape* a_shape_object){\n",
    "    a_shape_object->area();\n",
    "}"
   ]
  },
  {
   "cell_type": "code",
   "execution_count": 4,
   "id": "12b7b1b7",
   "metadata": {},
   "outputs": [],
   "source": [
    "Rectangle rec(10,7);\n",
    "Triangle  tri(10,5);"
   ]
  },
  {
   "cell_type": "code",
   "execution_count": 5,
   "id": "c2fa7d20",
   "metadata": {},
   "outputs": [
    {
     "name": "stdout",
     "output_type": "stream",
     "text": [
      "Parent class area :\n"
     ]
    }
   ],
   "source": [
    "use_shape(&rec);"
   ]
  },
  {
   "cell_type": "code",
   "execution_count": 6,
   "id": "8c6d4d9a",
   "metadata": {},
   "outputs": [
    {
     "name": "stdout",
     "output_type": "stream",
     "text": [
      "Parent class area :\n"
     ]
    }
   ],
   "source": [
    "use_shape(&tri);"
   ]
  },
  {
   "cell_type": "markdown",
   "id": "68cada79",
   "metadata": {},
   "source": [
    "## 2.2 the correct version - the role of virtual keyword"
   ]
  },
  {
   "cell_type": "code",
   "execution_count": 7,
   "id": "a97ffdec",
   "metadata": {},
   "outputs": [],
   "source": [
    "class VirtualShape {\n",
    "   protected:\n",
    "      int width, height;\n",
    "   public:\n",
    "      VirtualShape( int a=0, int b=0)\n",
    "      {\n",
    "         width = a;\n",
    "         height = b;\n",
    "      }\n",
    "      virtual int area()\n",
    "      {\n",
    "         std::cout << \"Parent class area :\" << std::endl;\n",
    "         return 0;\n",
    "      }\n",
    "};\n",
    "class secRectangle: public VirtualShape{\n",
    "   public:\n",
    "      secRectangle( int a=0, int b=0):VirtualShape(a, b) { }\n",
    "      int area ()\n",
    "      { \n",
    "         std::cout << \"Rectangle class area :\" << std::endl;\n",
    "         return (width * height); \n",
    "      }\n",
    "};\n",
    "class secTriangle: public VirtualShape{\n",
    "   public:\n",
    "      secTriangle( int a=0, int b=0):VirtualShape(a, b) { }\n",
    "      int area ()\n",
    "      { \n",
    "         std::cout << \"Triangle class area :\" << std::endl;\n",
    "         return (width * height / 2); \n",
    "      }\n",
    "};"
   ]
  },
  {
   "cell_type": "code",
   "execution_count": 8,
   "id": "4e70b7b0",
   "metadata": {},
   "outputs": [],
   "source": [
    "void use_shape(VirtualShape* a_shape_object){\n",
    "    a_shape_object->area();\n",
    "}"
   ]
  },
  {
   "cell_type": "code",
   "execution_count": 9,
   "id": "e8dbc4b3",
   "metadata": {},
   "outputs": [],
   "source": [
    "secRectangle rec2(10,7);\n",
    "secTriangle  tri2(10,5);"
   ]
  },
  {
   "cell_type": "code",
   "execution_count": 10,
   "id": "5c375cfa",
   "metadata": {},
   "outputs": [
    {
     "name": "stdout",
     "output_type": "stream",
     "text": [
      "Rectangle class area :\n"
     ]
    }
   ],
   "source": [
    "use_shape(&rec2);"
   ]
  },
  {
   "cell_type": "code",
   "execution_count": 11,
   "id": "9a2a2788",
   "metadata": {},
   "outputs": [
    {
     "name": "stdout",
     "output_type": "stream",
     "text": [
      "Triangle class area :\n"
     ]
    }
   ],
   "source": [
    "use_shape(&tri2);"
   ]
  },
  {
   "cell_type": "markdown",
   "id": "edb854fc",
   "metadata": {},
   "source": [
    "## 3 Dynamic casting\n",
    "\n",
    "https://www.learncpp.com/cpp-tutorial/dynamic-casting/\n",
    "\n",
    "The need for dynamic_cast\n",
    "\n",
    "When dealing with polymorphism, you’ll often encounter cases where you have a pointer to a base class, but you want to access some information that exists only in a derived class.\n",
    "\n",
    "Consider the following (slightly contrived) program:"
   ]
  },
  {
   "cell_type": "code",
   "execution_count": 12,
   "id": "036b167e",
   "metadata": {},
   "outputs": [],
   "source": [
    "class Base{\n",
    "protected:\n",
    "    int m_value{};\n",
    "\n",
    "public:\n",
    "    Base(int value)\n",
    "        : m_value{value}{\n",
    "    }\n",
    "\n",
    "    virtual ~Base() = default;\n",
    "};\n",
    "\n",
    "class Derived : public Base\n",
    "{\n",
    "protected:\n",
    "    std::string m_name{};\n",
    "\n",
    "public:\n",
    "    Derived(int value, const std::string& name)\n",
    "        : Base{value}, m_name{name}{\n",
    "    }\n",
    "\n",
    "    const std::string& getName() const { return m_name; }\n",
    "};"
   ]
  },
  {
   "cell_type": "code",
   "execution_count": 13,
   "id": "aa6fdab4",
   "metadata": {},
   "outputs": [],
   "source": [
    "Base* getObject(bool returnDerived){\n",
    "    if (returnDerived)\n",
    "        return new Derived{1, \"Apple\"};\n",
    "    else\n",
    "        return new Base{2};\n",
    "};"
   ]
  },
  {
   "cell_type": "code",
   "execution_count": 14,
   "id": "ac6fa85c",
   "metadata": {},
   "outputs": [],
   "source": [
    "int test_main(){\n",
    "    Base* b{ getObject(true) };\n",
    "\n",
    "    // how do we print the Derived object's name here, having only a Base pointer?\n",
    "\n",
    "    delete b;\n",
    "\n",
    "    return 0;\n",
    "}"
   ]
  },
  {
   "cell_type": "code",
   "execution_count": 15,
   "id": "96b6179d",
   "metadata": {},
   "outputs": [],
   "source": [
    "test_main();"
   ]
  },
  {
   "cell_type": "markdown",
   "id": "3b5869e2",
   "metadata": {},
   "source": [
    "In this program, function getObject() always returns a Base pointer, but that pointer may be pointing to either a Base or a Derived object. In the case where the pointer is pointing to a Derived object, how would we call Derived::getName()?"
   ]
  },
  {
   "cell_type": "markdown",
   "id": "33c1c4f0",
   "metadata": {},
   "source": [
    "One way would be to add a virtual function to Base called getName() (so we could call it with a Base pointer/reference, and have it dynamically resolve to Derived::getName()). But what would this function return if you called it with a Base pointer/reference that was actually pointing to a Base object? There isn’t really any value that makes sense. Furthermore, we would be polluting our Base class with things that really should only be the concern of the Derived class.\n",
    "\n",
    "We know that C++ will implicitly let you convert a Derived pointer into a Base pointer (in fact, getObject() does just that). This process is sometimes called upcasting. However, what if there was a way to convert a Base pointer back into a Derived pointer? Then we could call Derived::getName() directly using that pointer, and not have to worry about virtual function resolution at all.\n",
    "\n",
    "## 3.1 dynamic_cast\n",
    "\n",
    "C++ provides a casting operator named dynamic_cast that can be used for just this purpose. Although dynamic casts have a few different capabilities, by far the most common use for dynamic casting is for converting base-class pointers into derived-class pointers. This process is called downcasting.\n",
    "\n",
    "Using dynamic_cast works just like static_cast. Here’s our example main() from above, using a dynamic_cast to convert our Base pointer back into a Derived pointer:"
   ]
  },
  {
   "cell_type": "code",
   "execution_count": 16,
   "id": "b89908d1",
   "metadata": {},
   "outputs": [],
   "source": [
    "int main()\n",
    "{\n",
    "\tBase* b{ getObject(true) };\n",
    "\n",
    "\tDerived* d{ dynamic_cast<Derived*>(b) }; // use dynamic cast to convert Base pointer into Derived pointer\n",
    "\n",
    "\tstd::cout << \"The name of the Derived is: \" << d->getName() << '\\n';\n",
    "\n",
    "\tdelete b;\n",
    "\n",
    "\treturn 0;\n",
    "}"
   ]
  },
  {
   "cell_type": "code",
   "execution_count": 17,
   "id": "cf2d1581",
   "metadata": {},
   "outputs": [
    {
     "name": "stdout",
     "output_type": "stream",
     "text": [
      "The name of the Derived is: Apple\n"
     ]
    }
   ],
   "source": [
    "main();"
   ]
  },
  {
   "cell_type": "markdown",
   "id": "e1091285",
   "metadata": {},
   "source": [
    "## 3.2 dynamic_cast failure\n",
    "\n",
    "The above example works because b is actually pointing to a Derived object, so converting b into a Derived pointer is successful.\n",
    "\n",
    "However, we’ve made quite a dangerous assumption: that b is pointing to a Derived object. What if b wasn’t pointing to a Derived object? This is easily tested by changing the argument to getObject() from true to false. In that case, getObject() will return a Base pointer to a Base object. When we try to dynamic_cast that to a Derived, it will fail, because the conversion can’t be made.\n",
    "\n",
    "If a dynamic_cast fails, the result of the conversion will be a null pointer.\n",
    "\n",
    "Because we haven’t checked for a null pointer result, we access d->getName(), which will try to dereference a null pointer, leading to undefined behavior (probably a crash).\n",
    "\n",
    "In order to make this program safe, we need to ensure the result of the dynamic_cast actually succeeded:"
   ]
  },
  {
   "cell_type": "code",
   "execution_count": 18,
   "id": "8365794c",
   "metadata": {},
   "outputs": [],
   "source": [
    "int main()\n",
    "{\n",
    "\tBase* b{ getObject(true) };\n",
    "\n",
    "\tDerived* d{ dynamic_cast<Derived*>(b) }; // use dynamic cast to convert Base pointer into Derived pointer\n",
    "\n",
    "\tif (d) // make sure d is non-null\n",
    "\t\tstd::cout << \"The name of the Derived is: \" << d->getName() << '\\n';\n",
    "\n",
    "\tdelete b;\n",
    "\n",
    "\treturn 0;\n",
    "}"
   ]
  },
  {
   "cell_type": "code",
   "execution_count": 19,
   "id": "719b271d",
   "metadata": {},
   "outputs": [
    {
     "name": "stdout",
     "output_type": "stream",
     "text": [
      "The name of the Derived is: Apple\n"
     ]
    }
   ],
   "source": [
    "main();"
   ]
  },
  {
   "cell_type": "markdown",
   "id": "c074764c",
   "metadata": {},
   "source": [
    "Note that because dynamic_cast does some consistency checking at runtime (to ensure the conversion can be made), use of dynamic_cast does incur a performance penalty.\n",
    "\n",
    "Also note that there are several cases where downcasting using dynamic_cast will not work:\n",
    "\n",
    "1. With protected or private inheritance.\n",
    "2. For classes that do not declare or inherit any virtual functions (and thus don’t have a virtual table).\n",
    "3. In certain cases involving virtual base classes (see this page for an example of some of these cases, and how to resolve them)."
   ]
  },
  {
   "cell_type": "markdown",
   "id": "cae58c22",
   "metadata": {},
   "source": [
    "## 3.3 Downcasting with static_cast\n",
    "\n",
    "It turns out that downcasting can also be done with static_cast. The main difference is that static_cast does no runtime type checking to ensure that what you’re doing makes sense. This makes using static_cast faster, but more dangerous. If you cast a Base* to a Derived*, it will “succeed” even if the Base pointer isn’t pointing to a Derived object. This will result in undefined behavior when you try to access the resulting Derived pointer (that is actually pointing to a Base object).\n",
    "\n",
    "If you’re absolutely sure that the pointer you’re downcasting will succeed, then using static_cast is acceptable. One way to ensure that you know what type of object you’re pointing to is to use a virtual function. Here’s one (not great) way to do that:"
   ]
  },
  {
   "cell_type": "code",
   "execution_count": 20,
   "id": "912cc3ba",
   "metadata": {},
   "outputs": [],
   "source": [
    "\n",
    "// Class identifier\n",
    "enum class ClassID\n",
    "{\n",
    "\tbase,\n",
    "\tderived\n",
    "\t// Others can be added here later\n",
    "};\n",
    "\n",
    "class Base\n",
    "{\n",
    "protected:\n",
    "\tint m_value{};\n",
    "\n",
    "public:\n",
    "\tBase(int value)\n",
    "\t\t: m_value{value}\n",
    "\t{\n",
    "\t}\n",
    "\n",
    "\tvirtual ~Base() = default;\n",
    "\tvirtual ClassID getClassID() const { return ClassID::base; }\n",
    "};\n",
    "\n",
    "class Derived : public Base\n",
    "{\n",
    "protected:\n",
    "\tstd::string m_name{};\n",
    "\n",
    "public:\n",
    "\tDerived(int value, const std::string& name)\n",
    "\t\t: Base{value}, m_name{name}\n",
    "\t{\n",
    "\t}\n",
    "\n",
    "\tconst std::string& getName() const { return m_name; }\n",
    "\tvirtual ClassID getClassID() const { return ClassID::derived; }\n",
    "\n",
    "};"
   ]
  },
  {
   "cell_type": "code",
   "execution_count": 21,
   "id": "3852b2ca",
   "metadata": {},
   "outputs": [],
   "source": [
    "Base* getObject(bool bReturnDerived)\n",
    "{\n",
    "\tif (bReturnDerived)\n",
    "\t\treturn new Derived{1, \"Apple\"};\n",
    "\telse\n",
    "\t\treturn new Base{2};\n",
    "}"
   ]
  },
  {
   "cell_type": "code",
   "execution_count": 22,
   "id": "1650b6aa",
   "metadata": {},
   "outputs": [],
   "source": [
    "int main()\n",
    "{\n",
    "\tBase* b{ getObject(true) };\n",
    "\n",
    "\tif (b->getClassID() == ClassID::derived)\n",
    "\t{\n",
    "\t\t// We already proved b is pointing to a Derived object, so this should always succeed\n",
    "\t\tDerived* d{ static_cast<Derived*>(b) };\n",
    "\t\tstd::cout << \"The name of the Derived is: \" << d->getName() << '\\n';\n",
    "\t}\n",
    "\n",
    "\tdelete b;\n",
    "\n",
    "\treturn 0;\n",
    "}"
   ]
  },
  {
   "cell_type": "code",
   "execution_count": 23,
   "id": "ec9d8b7b",
   "metadata": {},
   "outputs": [],
   "source": [
    "//main();"
   ]
  },
  {
   "cell_type": "markdown",
   "id": "58a3c0bc",
   "metadata": {},
   "source": [
    "But if you’re going to go through all of the trouble to implement this (and pay the cost of calling a virtual function and processing the result), you might as well just use dynamic_cast.\n",
    "\n",
    "## 3.4 dynamic_cast and references\n",
    "\n",
    "Although all of the above examples show dynamic casting of pointers (which is more common), dynamic_cast can also be used with references. This works analogously to how dynamic_cast works with pointers."
   ]
  },
  {
   "cell_type": "code",
   "execution_count": 24,
   "id": "367c2831",
   "metadata": {},
   "outputs": [
    {
     "name": "stderr",
     "output_type": "stream",
     "text": [
      "\u001b[1minput_line_30:1:7: \u001b[0m\u001b[0;1;31merror: \u001b[0m\u001b[1mredefinition of 'Base'\u001b[0m\n",
      "class Base\n",
      "\u001b[0;1;32m      ^\n",
      "\u001b[0m\u001b[1minput_line_26:9:7: \u001b[0m\u001b[0;1;30mnote: \u001b[0mprevious definition is here\u001b[0m\n",
      "class Base\n",
      "\u001b[0;1;32m      ^\n",
      "\u001b[0m"
     ]
    },
    {
     "ename": "Interpreter Error",
     "evalue": "",
     "output_type": "error",
     "traceback": [
      "Interpreter Error: "
     ]
    }
   ],
   "source": [
    "class Base\n",
    "{\n",
    "protected:\n",
    "\tint m_value;\n",
    "\n",
    "public:\n",
    "\tBase(int value)\n",
    "\t\t: m_value{value}\n",
    "\t{\n",
    "\t}\n",
    "\n",
    "\tvirtual ~Base() = default;\n",
    "};\n",
    "\n",
    "class Derived : public Base\n",
    "{\n",
    "protected:\n",
    "\tstd::string m_name;\n",
    "\n",
    "public:\n",
    "\tDerived(int value, const std::string& name)\n",
    "\t\t: Base{value}, m_name{name}\n",
    "\t{\n",
    "\t}\n",
    "\n",
    "\tconst std::string& getName() const { return m_name; }\n",
    "};"
   ]
  },
  {
   "cell_type": "code",
   "execution_count": null,
   "id": "0f26154f",
   "metadata": {},
   "outputs": [],
   "source": [
    "int main()\n",
    "{\n",
    "\tDerived apple{1, \"Apple\"}; // create an apple\n",
    "\tBase& b{ apple }; // set base reference to object\n",
    "\tDerived& d{ dynamic_cast<Derived&>(b) }; // dynamic cast using a reference instead of a pointer\n",
    "\n",
    "\tstd::cout << \"The name of the Derived is: \" << d.getName() << '\\n'; // we can access Derived::getName through d\n",
    "\n",
    "\treturn 0;\n",
    "}"
   ]
  },
  {
   "cell_type": "markdown",
   "id": "7c739026",
   "metadata": {},
   "source": [
    "Because C++ does not have a “null reference”, dynamic_cast can’t return a null reference upon failure. Instead, if the dynamic_cast of a reference fails, an exception of type std::bad_cast is thrown. We talk about exceptions later in this tutorial.\n",
    "\n",
    "#### dynamic_cast vs static_cast\n",
    "\n",
    "New programmers are sometimes confused about when to use static_cast vs dynamic_cast. The answer is quite simple: use static_cast unless you’re downcasting, in which case dynamic_cast is usually a better choice. However, you should also consider avoiding casting altogether and just use virtual functions.\n",
    "\n",
    "#### Downcasting vs virtual functions\n",
    "\n",
    "There are some developers who believe dynamic_cast is evil and indicative of a bad class design. Instead, these programmers say you should use virtual functions.\n",
    "\n",
    "In general, using a virtual function should be preferred over downcasting. However, there are times when downcasting is the better choice:\n",
    "\n",
    "When you can not modify the base class to add a virtual function (e.g. because the base class is part of the standard library)\n",
    "When you need access to something that is derived-class specific (e.g. an access function that only exists in the derived class)\n",
    "When adding a virtual function to your base class doesn’t make sense (e.g. there is no appropriate value for the base class to return). Using a pure virtual function may be an option here if you don’t need to instantiate the base class."
   ]
  },
  {
   "cell_type": "markdown",
   "id": "cb2301a6",
   "metadata": {},
   "source": [
    "> Run-time type information (RTTI) is a feature of C++ that exposes information about an object’s data type at runtime. This capability is leveraged by dynamic_cast. Because RTTI has a pretty significant space performance cost, some compilers allow you to turn RTTI off as an optimization. Needless to say, if you do this, dynamic_cast won’t function correctly."
   ]
  },
  {
   "cell_type": "markdown",
   "id": "7726e7fa",
   "metadata": {},
   "source": [
    "# 4 How virtual function work? (VTable and VPtr)"
   ]
  },
  {
   "cell_type": "markdown",
   "id": "be7666ca",
   "metadata": {},
   "source": [
    "recall virual function and runtime ployforphism"
   ]
  },
  {
   "cell_type": "code",
   "execution_count": null,
   "id": "904a1d39",
   "metadata": {},
   "outputs": [],
   "source": [
    "// A simple C++ program to demonstrate run-time\n",
    "// polymorphism\n",
    "#include <chrono>\n",
    "#include <iostream>\n",
    "using namespace std;\n",
    "\n",
    "typedef std::chrono::high_resolution_clock Clock;\n",
    "\n",
    "// To store dimensions of an image\n",
    "class Dimension {\n",
    "public:\n",
    "\tDimension(int _X, int _Y)\n",
    "\t{\n",
    "\t\tmX = _X;\n",
    "\t\tmY = _Y;\n",
    "\t}\n",
    "\n",
    "private:\n",
    "\tint mX, mY;\n",
    "};\n",
    "\n",
    "// Base class for all image types\n",
    "class Image {\n",
    "public:\n",
    "\tvirtual void Draw() = 0;\n",
    "\tvirtual Dimension GetDimensionInPixels() = 0;\n",
    "\n",
    "protected:\n",
    "\tint dimensionX;\n",
    "\tint dimensionY;\n",
    "};\n",
    "\n",
    "// For Tiff Images\n",
    "class TiffImage : public Image {\n",
    "public:\n",
    "\tvoid Draw() {}\n",
    "\tDimension GetDimensionInPixels()\n",
    "\t{\n",
    "\t\treturn Dimension(dimensionX, dimensionY);\n",
    "\t}\n",
    "};\n",
    "\n",
    "// There can be more derived classes like PngImage,\n",
    "// BitmapImage, etc\n",
    "\n",
    "// Driver code that calls virtual function\n",
    "int main()\n",
    "{\n",
    "\t// An image type\n",
    "\tImage* pImage = new TiffImage;\n",
    "\n",
    "\t// Store time before virtual function calls\n",
    "\tauto then = Clock::now();\n",
    "\n",
    "\t// Call Draw 1000 times to make sure performance\n",
    "\t// is visible\n",
    "\tfor (int i = 0; i < 1000; ++i)\n",
    "\t\tpImage->Draw();\n",
    "\n",
    "\t// Store time after virtual function calls\n",
    "\tauto now = Clock::now();\n",
    "\n",
    "\tcout << \"Time taken: \"\n",
    "\t\t<< std::chrono::duration_cast<std::chrono::nanoseconds>(now - then).count()\n",
    "\t\t<< \" nanoseconds\" << endl;\n",
    "\n",
    "\treturn 0;\n",
    "}\n",
    "// Time taken: 2613 nanoseconds"
   ]
  },
  {
   "cell_type": "markdown",
   "id": "0e7f197e",
   "metadata": {},
   "source": [
    "When a method is declared virtual, compiler secretly does two things for us: \n",
    "\n",
    "1. Defines a VPtr in first 4 bytes of the class object\n",
    "2. Inserts code in constructor to initialize VPtr to point to the VTable\n",
    "\n",
    "###  What are VTable and VPtr? \n",
    "When a method is declared virtual in a class, compiler creates a virtual table (aka VTable) and stores addresses of virtual methods in that table. A virtual pointer (aka VPtr) is then created and initialized to point to that VTable. A VTable is shared across all the instances of the class, i.e. compiler creates only one instance of VTable to be shared across all the objects of a class. Each instance of the class has its own version of VPtr. If we print the size of a class object containing at least one virtual method, the output will be sizeof(class data) + sizeof(VPtr). \n",
    "Since address of virtual method is stored in VTable, VPtr can be manipulated to make calls to those virtual methods thereby violating principles of encapsulation. See below example: "
   ]
  },
  {
   "cell_type": "code",
   "execution_count": null,
   "id": "601c0065",
   "metadata": {},
   "outputs": [],
   "source": [
    "// A C++ program to demonstrate that we can directly\n",
    "// manipulate VPtr. Note that this program is based\n",
    "// on the assumption that compiler store vPtr in a\n",
    "// specific way to achieve run-time polymorphism.\n",
    "#include <iostream>\n",
    "using namespace std;\n",
    "\n",
    "// A base class with virtual function foo()\n",
    "class CBase {\n",
    "public:\n",
    "\tvirtual void foo() noexcept\n",
    "\t{\n",
    "\t\tcout << \"CBase::Foo() called\" << endl;\n",
    "\t}\n",
    "\n",
    "protected:\n",
    "\tint mData;\n",
    "};\n",
    "\n",
    "// A derived class with its own implementation\n",
    "// of foo()\n",
    "class CDerived : public CBase {\n",
    "public:\n",
    "\tvoid foo() noexcept\n",
    "\t{\n",
    "\t\tcout << \"CDerived::Foo() called\" << endl;\n",
    "\t}\n",
    "\n",
    "private:\n",
    "\tchar cChar;\n",
    "};\n",
    "\n",
    "// Driver code\n",
    "int main()\n",
    "{\n",
    "\t// A base type pointer pointing to derived\n",
    "\tCBase* pBase = new CDerived;\n",
    "\n",
    "\t// Accessing vPtr\n",
    "\tint* pVPtr = *(int**)pBase;\n",
    "\n",
    "\t// Calling virtual method\n",
    "\t((void (*)())pVPtr[0])();\n",
    "\n",
    "\t// Changing vPtr\n",
    "\tdelete pBase;\n",
    "\tpBase = new CBase;\n",
    "\tpVPtr = *(int**)pBase;\n",
    "\n",
    "\t// Calls method for new base object\n",
    "\t((void (*)())pVPtr[0])();\n",
    "\n",
    "\treturn 0;\n",
    "}\n",
    "/*\n",
    "CDerived::Foo() called\n",
    "CBase::Foo() called \n",
    "*/"
   ]
  },
  {
   "cell_type": "markdown",
   "id": "76651fbb",
   "metadata": {},
   "source": [
    "We are able to access vPtr and able to make calls to virtual methods through it. The memory representation of objects is explained here."
   ]
  },
  {
   "cell_type": "markdown",
   "id": "d5977464",
   "metadata": {},
   "source": [
    "### Is it wise to use virtual method? (drawback of virtual function)\n",
    "\n",
    "As it can be seen, through base class pointer, call to derived class method is being dispatched. Everything seems to be working fine. Then what is the problem? \n",
    "If a virtual routine is called many times (order of hundreds of thousands), it drops the performance of system, reason being each time the routine is called, its address needs to be resolved by looking through VTable using VPtr. Extra indirection (pointer dereference) for each call to a virtual method makes accessing VTable a costly operation and it is better to avoid it as much as we can. \n",
    "    "
   ]
  },
  {
   "cell_type": "markdown",
   "id": "82e5abf9",
   "metadata": {},
   "source": [
    "# 5 Time efficient solution: Curiously Recurring Template Pattern (CRTP)"
   ]
  },
  {
   "cell_type": "markdown",
   "id": "8dc4237c",
   "metadata": {},
   "source": [
    "Usage of VPtr and VTable can be avoided altogether through Curiously Recurring Template Pattern (CRTP). CRTP is a design pattern in C++ in which a class X derives from a class template instantiation using X itself as template argument. More generally it is known as F-bound polymorphism."
   ]
  },
  {
   "cell_type": "code",
   "execution_count": null,
   "id": "a880e17f",
   "metadata": {},
   "outputs": [],
   "source": [
    "// Image program (similar to above) to demonstrate\n",
    "// working of CRTP\n",
    "#include <chrono>\n",
    "#include <iostream>\n",
    "using namespace std;\n",
    "\n",
    "typedef std::chrono::high_resolution_clock Clock;\n",
    "\n",
    "// To store dimensions of an image\n",
    "class Dimension {\n",
    "public:\n",
    "\tDimension(int _X, int _Y)\n",
    "\t{\n",
    "\t\tmX = _X;\n",
    "\t\tmY = _Y;\n",
    "\t}\n",
    "\n",
    "private:\n",
    "\tint mX, mY;\n",
    "};\n",
    "\n",
    "// Base class for all image types. The template\n",
    "// parameter T is used to know type of derived\n",
    "// class pointed by pointer.\n",
    "template <class T>\n",
    "class Image {\n",
    "public:\n",
    "\tvoid Draw()\n",
    "\t{\n",
    "\t\t// Dispatch call to exact type\n",
    "\t\tstatic_cast<T*>(this)->Draw();\n",
    "\t}\n",
    "\tDimension GetDimensionInPixels()\n",
    "\t{\n",
    "\t\t// Dispatch call to exact type\n",
    "\t\tstatic_cast<T*>(this)->GetDimensionInPixels();\n",
    "\t}\n",
    "\n",
    "protected:\n",
    "\tint dimensionX, dimensionY;\n",
    "};\n",
    "\n",
    "// For Tiff Images\n",
    "class TiffImage : public Image<TiffImage> {\n",
    "public:\n",
    "\tvoid Draw()\n",
    "\t{\n",
    "\t\t// Uncomment this to check method dispatch\n",
    "\t\t// cout << \"TiffImage::Draw() called\" << endl;\n",
    "\t}\n",
    "\tDimension GetDimensionInPixels()\n",
    "\t{\n",
    "\t\treturn Dimension(dimensionX, dimensionY);\n",
    "\t}\n",
    "};\n",
    "\n",
    "// There can be more derived classes like PngImage,\n",
    "// BitmapImage, etc\n",
    "\n",
    "// Driver code\n",
    "int main()\n",
    "{\n",
    "\t// An Image type pointer pointing to Tiffimage\n",
    "\tImage<TiffImage>* pImage = new TiffImage;\n",
    "\n",
    "\t// Store time before virtual function calls\n",
    "\tauto then = Clock::now();\n",
    "\n",
    "\t// Call Draw 1000 times to make sure performance\n",
    "\t// is visible\n",
    "\tfor (int i = 0; i < 1000; ++i)\n",
    "\t\tpImage->Draw();\n",
    "\n",
    "\t// Store time after virtual function calls\n",
    "\tauto now = Clock::now();\n",
    "\n",
    "\tcout << \"Time taken: \"\n",
    "\t\t<< std::chrono::duration_cast<std::chrono::nanoseconds>(now - then).count()\n",
    "\t\t<< \" nanoseconds\" << endl;\n",
    "\n",
    "\treturn 0;\n",
    "}\n",
    "\n",
    "// Time taken: 732 nanoseconds"
   ]
  },
  {
   "cell_type": "code",
   "execution_count": null,
   "id": "ff0a4a26",
   "metadata": {},
   "outputs": [],
   "source": []
  },
  {
   "cell_type": "code",
   "execution_count": null,
   "id": "df8c0f2b",
   "metadata": {},
   "outputs": [],
   "source": []
  }
 ],
 "metadata": {
  "kernelspec": {
   "display_name": "C++17",
   "language": "C++17",
   "name": "xcpp17"
  },
  "language_info": {
   "codemirror_mode": "text/x-c++src",
   "file_extension": ".cpp",
   "mimetype": "text/x-c++src",
   "name": "c++",
   "version": "17"
  }
 },
 "nbformat": 4,
 "nbformat_minor": 5
}
