{
 "cells": [
  {
   "cell_type": "markdown",
   "id": "09367a9f",
   "metadata": {},
   "source": [
    "# The PIMPL idiom"
   ]
  },
  {
   "cell_type": "markdown",
   "id": "b4be1be0",
   "metadata": {},
   "source": [
    "## motivation\n",
    "\n",
    "When changes are made to a header file, all sources including it needs to be recompiled. In large projects and libraries, it can cause build time issues due to the fact that even when a small change to the implementation is made everyone has to wait some time until they compile their code. One way to solve this problem is by using the PImpl Idiom, which hides the implementation in the headers and includes an interface file that compiles instantly.\n",
    "\n",
    "The PImpl Idiom (Pointer to IMPLementation) is a technique used for separating implementation from the interface. It minimizes header exposure and helps programmers to reduce build dependencies by moving the private data members in a separate class and accessing them through an opaque pointer.\n",
    "\n",
    "> Remove compilation dependencies on internal class implementations and improve compile times."
   ]
  },
  {
   "cell_type": "markdown",
   "id": "a4905735",
   "metadata": {},
   "source": [
    "# How to implement: \n",
    "\n",
    "1. Create a separate class ( or struct ) for implementation\n",
    "2. Put all private members from the header to that class.\n",
    "3. Define an Implementation class ( Impl ) in the header file.\n",
    "4. In the header file create a forward declaration (a pointer), pointing at the implementation class.\n",
    "5. Define a destructor and a copy/assignment operators.\n",
    "The reason to declare explicitly a destructor is that when compiling, the smart pointer ( std::unique_ptr ) checks if in the definition of the type exists a visible destructor and throws a compilation error if it’s only forward declared.\n",
    "\n",
    "Using a smart pointer is a better approach since the pointer takes control over the life cycle of the PImpl."
   ]
  },
  {
   "cell_type": "code",
   "execution_count": 1,
   "id": "a505552b",
   "metadata": {},
   "outputs": [],
   "source": [
    "// foo.h - header file\n",
    "#include <memory>\n",
    "class foo\n",
    "{\n",
    "  public:\n",
    "    foo();\n",
    "    ~foo();\n",
    "    foo(foo&&);\n",
    "    foo& operator=(foo&&);\n",
    "  private:\n",
    "    class impl;\n",
    "    std::unique_ptr<impl> pimpl;\n",
    "};"
   ]
  },
  {
   "cell_type": "code",
   "execution_count": null,
   "id": "14c44022",
   "metadata": {},
   "outputs": [],
   "source": [
    "// foo.cpp - implementation file\n",
    "class foo::impl\n",
    "{\n",
    "  public:\n",
    "    void do_internal_work()\n",
    "    {\n",
    "      internal_data = 5;\n",
    "    }\n",
    "  private:\n",
    "    int internal_data = 0;\n",
    "};\n",
    "\n",
    "foo::foo():pimpl{std::make_unique<impl>()}{\n",
    "  pimpl->do_internal_work();\n",
    "}\n",
    "\n",
    "foo::~foo() = default;\n",
    "foo::foo(foo&&) = default;\n",
    "foo& foo::operator=(foo&&) = default;"
   ]
  },
  {
   "cell_type": "markdown",
   "id": "8dbe1503",
   "metadata": {},
   "source": [
    "## Advantages of PImpl:\n",
    "\n",
    "* Binary Compatibility: The binary interface is independent of the private fields. Making changes to the implementation would not break the dependent code.\n",
    "* Compilation time: Compilation time drops due to the fact that only the implementation file needs to be rebuilt instead of every client recompiling his file.\n",
    "* Data Hiding: Can easily hide certain internal details such as implementation techniques and other libraries used to implement the public interface.\n",
    "\n",
    "## Disadvantages of PImpl:\n",
    "\n",
    "* Memory Management: Possible increase in memory usage due to more memory allocation than with the default structure which can be critical in embedded software development.\n",
    "* Maintenance Effort: The maintenance is becoming more complex due to the additional class in order to use pimpl and additional pointer indirection (Interface can be used only via pointer/reference).\n",
    "* Inheritance: Hidden implementation cannot be inherited, although a class PImpl can."
   ]
  },
  {
   "cell_type": "code",
   "execution_count": null,
   "id": "6532f37c",
   "metadata": {},
   "outputs": [],
   "source": []
  }
 ],
 "metadata": {
  "kernelspec": {
   "display_name": "C++17",
   "language": "C++17",
   "name": "xcpp17"
  },
  "language_info": {
   "codemirror_mode": "text/x-c++src",
   "file_extension": ".cpp",
   "mimetype": "text/x-c++src",
   "name": "c++",
   "version": "17"
  }
 },
 "nbformat": 4,
 "nbformat_minor": 5
}
