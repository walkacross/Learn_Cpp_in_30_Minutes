{
 "cells": [
  {
   "cell_type": "code",
   "execution_count": 1,
   "id": "0110c5a2",
   "metadata": {},
   "outputs": [],
   "source": [
    "#include <memory>\n",
    "#include <iostream>\n",
    "#include <cstdint>"
   ]
  },
  {
   "cell_type": "code",
   "execution_count": 2,
   "id": "913a2f8b",
   "metadata": {},
   "outputs": [],
   "source": [
    "class Resource\n",
    "{\n",
    "public:\n",
    "    int number;\n",
    "    \n",
    "\tResource(int n) {\n",
    "        number = n;\n",
    "        std::cout << \"Resource created with \" << number << std::endl; \n",
    "    }\n",
    "    \n",
    "\t~Resource() { \n",
    "        std::cout << \"Resource destroyed with \" << number << std::endl; \n",
    "    }\n",
    "    \n",
    "    friend std::ostream& operator<<(std::ostream& out, const Resource& res)\n",
    "\t{\n",
    "\t\tout << \"I am a resource\\n\";\n",
    "\t\treturn out;\n",
    "\t}\n",
    "};"
   ]
  },
  {
   "cell_type": "markdown",
   "id": "2b3581f7",
   "metadata": {},
   "source": [
    "# 1 understand basics"
   ]
  },
  {
   "cell_type": "markdown",
   "id": "1f556803",
   "metadata": {},
   "source": [
    "## 1 paradigm 1: the start point is from creatation of a raw data object"
   ]
  },
  {
   "cell_type": "code",
   "execution_count": 3,
   "id": "1b737d56",
   "metadata": {},
   "outputs": [
    {
     "name": "stdout",
     "output_type": "stream",
     "text": [
      "Resource created with 1\n",
      "the attr of res1: 1\n",
      "the raw pointer of res1 is : 0x7fff6ffb57b0\n",
      "the attr of res1 from pointer is : 1\n",
      "dereference pointer of res1 is : I am a resource\n",
      "\n",
      "the attr of res1 from dereferenced pointer is : 1\n",
      "----------------after modification by raw data-----------------------------------\n",
      "the attr of res1: 111\n",
      "the attr of res1 from pointer is : 111\n",
      "the attr of res1 from dereferenced pointer is : 111\n",
      "----------------after modification by pointer-----------------------------------\n",
      "the attr of res1: 11111111\n",
      "the attr of res1 from pointer is : 11111111\n",
      "the attr of res1 from dereferenced pointer is : 11111111\n",
      "Resource destroyed with 11111111\n"
     ]
    }
   ],
   "source": [
    "{\n",
    "Resource res1 = Resource{1};\n",
    "std::cout << \"the attr of res1: \" << res1.number << std::endl;\n",
    "\n",
    "Resource* res1_raw_ptr = &res1;\n",
    "std::cout << \"the raw pointer of res1 is : \" << res1_raw_ptr << std::endl;\n",
    "std::cout << \"the attr of res1 from pointer is : \" << res1_raw_ptr -> number << std::endl;\n",
    "\n",
    "std::cout << \"dereference pointer of res1 is : \" << *res1_raw_ptr << std::endl;\n",
    "std::cout << \"the attr of res1 from dereferenced pointer is : \" << (*res1_raw_ptr).number << std::endl;\n",
    "\n",
    "std::cout << \"----------------after modification by raw data-----------------------------------\" << std::endl;\n",
    "// modify data through pointer\n",
    "res1.number = 111;\n",
    "\n",
    "std::cout << \"the attr of res1: \" << res1.number << std::endl;\n",
    "std::cout << \"the attr of res1 from pointer is : \" << res1_raw_ptr -> number << std::endl;\n",
    "std::cout << \"the attr of res1 from dereferenced pointer is : \" << (*res1_raw_ptr).number << std::endl;\n",
    "\n",
    "std::cout << \"----------------after modification by pointer-----------------------------------\" << std::endl;\n",
    "// modify data through pointer\n",
    "res1_raw_ptr -> number = 11111111;\n",
    "\n",
    "std::cout << \"the attr of res1: \" << res1.number << std::endl;\n",
    "std::cout << \"the attr of res1 from pointer is : \" << res1_raw_ptr -> number << std::endl;\n",
    "std::cout << \"the attr of res1 from dereferenced pointer is : \" << (*res1_raw_ptr).number << std::endl;\n",
    "}"
   ]
  },
  {
   "cell_type": "code",
   "execution_count": 4,
   "id": "c76ba4c8",
   "metadata": {},
   "outputs": [
    {
     "name": "stdout",
     "output_type": "stream",
     "text": [
      "Resource created with 1\n",
      "the attr of res2: 1\n",
      "----------------after modification by raw data-----------------------------------\n",
      "the attr of res2: 222\n",
      "the attr of res1: 1\n",
      "Resource destroyed with 222\n",
      "the attr of res1: 1\n",
      "Resource destroyed with 1\n"
     ]
    }
   ],
   "source": [
    "// copy-by-value\n",
    "{\n",
    "    Resource res1 = Resource{1};\n",
    "\n",
    "    \n",
    "    {\n",
    "    Resource res2 = res1;\n",
    "    std::cout << \"the attr of res2: \" << res2.number << std::endl;\n",
    "\n",
    "    std::cout << \"----------------after modification by raw data-----------------------------------\" << std::endl;\n",
    "    // modify a copy-by-value\n",
    "    res2.number = 222;\n",
    "    std::cout << \"the attr of res2: \" << res2.number << std::endl;\n",
    "    std::cout << \"the attr of res1: \" << res1.number << std::endl;\n",
    "    } //res2 go out of scope, will be destroyed\n",
    "    \n",
    "    std::cout << \"the attr of res1: \" << res1.number << std::endl;\n",
    "}"
   ]
  },
  {
   "cell_type": "code",
   "execution_count": 5,
   "id": "f7d16e00",
   "metadata": {},
   "outputs": [
    {
     "name": "stdout",
     "output_type": "stream",
     "text": [
      "Resource created with 1\n",
      "the attr of res3: 1\n",
      "----------------after modification by raw data-----------------------------------\n",
      "the attr of res3: 333\n",
      "the attr of res1: 333\n",
      "the attr of res1 from pointer: 333\n",
      "the attr of res1: 333\n",
      "the attr of res1 from pointer: 333\n",
      "Resource destroyed with 333\n"
     ]
    }
   ],
   "source": [
    "// copy-by-reference\n",
    "{\n",
    "    Resource res1 = Resource{1};\n",
    "    Resource* res1_raw_ptr = &res1;\n",
    "    \n",
    "    {\n",
    "        Resource& res3 = res1;\n",
    "        std::cout << \"the attr of res3: \" << res3.number << std::endl;\n",
    "    \n",
    "        std::cout << \"----------------after modification by raw data-----------------------------------\" << std::endl;\n",
    "        // modify a copy-by-value\n",
    "        res3.number = 333;\n",
    "        std::cout << \"the attr of res3: \" << res3.number << std::endl;\n",
    "        std::cout << \"the attr of res1: \" << res1.number << std::endl;\n",
    "        std::cout << \"the attr of res1 from pointer: \" << res1_raw_ptr -> number << std::endl;\n",
    "    } // res3 just a alia name of res1, the res1 \n",
    "    \n",
    "    std::cout << \"the attr of res1: \" << res1.number << std::endl;\n",
    "    std::cout << \"the attr of res1 from pointer: \" << res1_raw_ptr -> number << std::endl;\n",
    "}"
   ]
  },
  {
   "cell_type": "markdown",
   "id": "d64f3194",
   "metadata": {},
   "source": [
    "## 2 paradigm 2: the start point is from pointer"
   ]
  },
  {
   "cell_type": "code",
   "execution_count": 6,
   "id": "83574bd6",
   "metadata": {},
   "outputs": [
    {
     "name": "stdout",
     "output_type": "stream",
     "text": [
      "Resource created with 122\n",
      "the attr of resource: 122\n"
     ]
    }
   ],
   "source": [
    "// the res_shared_ptr is a dynamic pointer, which points to a object\n",
    "std::shared_ptr<Resource> res_shared_ptr = std::make_shared<Resource>(122);\n",
    "\n",
    "std::cout << \"the attr of resource: \" << res_shared_ptr -> number << std::endl;"
   ]
  },
  {
   "cell_type": "code",
   "execution_count": 7,
   "id": "2adc0f08",
   "metadata": {},
   "outputs": [
    {
     "name": "stdout",
     "output_type": "stream",
     "text": [
      "dereference pointer of resource is : I am a resource\n",
      "\n",
      "the attr of resource from dereferenced pointer is : 122\n"
     ]
    }
   ],
   "source": [
    "// 2.1 we can dereference a pointer and then get the created object\n",
    "std::cout << \"dereference pointer of resource is : \" << *res_shared_ptr << std::endl;\n",
    "std::cout << \"the attr of resource from dereferenced pointer is : \" << (*res_shared_ptr).number << std::endl;"
   ]
  },
  {
   "cell_type": "code",
   "execution_count": 8,
   "id": "be5862e6",
   "metadata": {},
   "outputs": [
    {
     "name": "stdout",
     "output_type": "stream",
     "text": [
      "dereference pointer of resource is : I am a resource\n",
      "\n",
      "the attr of resource from dereferenced pointer is : 122\n"
     ]
    }
   ],
   "source": [
    "// 2.2 we can get the raw pointer of that created object which the res_shared_ptr points to\n",
    "Resource* res_raw_pointer = res_shared_ptr.get();\n",
    "std::cout << \"dereference pointer of resource is : \" << *res_raw_pointer << std::endl;\n",
    "std::cout << \"the attr of resource from dereferenced pointer is : \" << (*res_raw_pointer).number << std::endl;"
   ]
  },
  {
   "cell_type": "code",
   "execution_count": 9,
   "id": "bac849eb",
   "metadata": {},
   "outputs": [
    {
     "name": "stdout",
     "output_type": "stream",
     "text": [
      "Resource created with 122\n",
      "---------enter a local scope-----------------------\n",
      "the attr of res2: 122\n",
      "----------------after modification by raw data-----------------------------------\n",
      "the attr of res2: 2222222\n",
      "the attr of resource from raw pointer: 122\n",
      "the attr of resource from smart pointer: 122\n",
      "Resource destroyed with 2222222\n",
      "the attr of resource from raw pointer: 122\n",
      "the attr of resource from smart pointer: 122\n",
      "Resource destroyed with 122\n"
     ]
    }
   ],
   "source": [
    "// modify a copy-by-value\n",
    "{\n",
    "    std::shared_ptr<Resource> res_shared_ptr = std::make_shared<Resource>(122);\n",
    "    Resource* res_raw_pointer = res_shared_ptr.get();\n",
    "    {\n",
    "        std::cout << \"---------enter a local scope-----------------------\" << std::endl;\n",
    "        Resource res22 = *res_shared_ptr;\n",
    "        std::cout << \"the attr of res2: \" << res22.number << std::endl;\n",
    "\n",
    "        std::cout << \"----------------after modification by raw data-----------------------------------\" << std::endl;\n",
    "        res22.number = 2222222;\n",
    "        std::cout << \"the attr of res2: \" << res22.number << std::endl;\n",
    "        std::cout << \"the attr of resource from raw pointer: \" << (*res_raw_pointer).number << std::endl;\n",
    "        std::cout << \"the attr of resource from smart pointer: \" << res_shared_ptr -> number << std::endl;\n",
    "    } //res2 go out of scope, will be destroyed|\n",
    "    \n",
    "    std::cout << \"the attr of resource from raw pointer: \" << (*res_raw_pointer).number << std::endl;\n",
    "    std::cout << \"the attr of resource from smart pointer: \" << res_shared_ptr -> number << std::endl;\n",
    "}"
   ]
  },
  {
   "cell_type": "code",
   "execution_count": 10,
   "id": "afb09b84",
   "metadata": {},
   "outputs": [
    {
     "name": "stdout",
     "output_type": "stream",
     "text": [
      "Resource created with 122\n",
      "---------enter a local scope-----------------------\n",
      "the attr of res33: 122\n",
      "----------------after modification by raw data-----------------------------------\n",
      "the attr of res2: 2222222\n",
      "the attr of resource from raw pointer: 2222222\n",
      "the attr of resource from smart pointer: 2222222\n",
      "the attr of resource from raw pointer: 2222222\n",
      "the attr of resource from smart pointer: 2222222\n",
      "Resource destroyed with 2222222\n"
     ]
    }
   ],
   "source": [
    "// modify a copy-by-reference\n",
    "// modify a copy-by-value\n",
    "{\n",
    "    std::shared_ptr<Resource> res_shared_ptr = std::make_shared<Resource>(122);\n",
    "    Resource* res_raw_pointer = res_shared_ptr.get();\n",
    "    {\n",
    "        std::cout << \"---------enter a local scope-----------------------\" << std::endl;\n",
    "        Resource& res33 = *res_shared_ptr;\n",
    "        std::cout << \"the attr of res33: \" << res33.number << std::endl;\n",
    "\n",
    "        std::cout << \"----------------after modification by raw data-----------------------------------\" << std::endl;\n",
    "        res33.number = 2222222;\n",
    "        std::cout << \"the attr of res2: \" << res33.number << std::endl;\n",
    "        std::cout << \"the attr of resource from raw pointer: \" << (*res_raw_pointer).number << std::endl;\n",
    "        std::cout << \"the attr of resource from smart pointer: \" << res_shared_ptr -> number << std::endl;\n",
    "    } //res2 go out of scope, will be destroyed|\n",
    "    \n",
    "    std::cout << \"the attr of resource from raw pointer: \" << (*res_raw_pointer).number << std::endl;\n",
    "    std::cout << \"the attr of resource from smart pointer: \" << res_shared_ptr -> number << std::endl;\n",
    "}"
   ]
  },
  {
   "cell_type": "markdown",
   "id": "977cf968",
   "metadata": {},
   "source": [
    "# 2 object lifetime in function parameter-passing"
   ]
  },
  {
   "cell_type": "code",
   "execution_count": 11,
   "id": "af90ec07",
   "metadata": {},
   "outputs": [],
   "source": [
    "void process_pass_by_value(Resource res){\n",
    "    std::cout << res.number << std::endl;\n",
    "    res.number = 1111;\n",
    "    std::cout << res.number << std::endl;\n",
    "} //local varaiable res go out of scope"
   ]
  },
  {
   "cell_type": "code",
   "execution_count": 12,
   "id": "c2e45781",
   "metadata": {},
   "outputs": [
    {
     "name": "stdout",
     "output_type": "stream",
     "text": [
      "Resource created with 22\n",
      "22\n",
      "1111\n",
      "Resource destroyed with 1111\n",
      "22\n",
      "Resource destroyed with 22\n"
     ]
    }
   ],
   "source": [
    "{\n",
    "    \n",
    "Resource res1{22};\n",
    "\n",
    "process_pass_by_value(res1);\n",
    " \n",
    "std::cout << res1.number << std::endl;\n",
    "} //res1 go out of scope"
   ]
  },
  {
   "cell_type": "code",
   "execution_count": 13,
   "id": "920e7ec4",
   "metadata": {},
   "outputs": [],
   "source": [
    "void process_pass_by_reference(Resource& res){\n",
    "    std::cout << res.number << std::endl;\n",
    "    res.number = 1111;\n",
    "    std::cout << res.number << std::endl;\n",
    "}"
   ]
  },
  {
   "cell_type": "code",
   "execution_count": 14,
   "id": "c3c86179",
   "metadata": {},
   "outputs": [
    {
     "name": "stdout",
     "output_type": "stream",
     "text": [
      "Resource created with 22\n",
      "22\n",
      "1111\n",
      "1111\n",
      "Resource destroyed with 1111\n"
     ]
    }
   ],
   "source": [
    "{\n",
    "Resource res1{22};\n",
    "process_pass_by_reference(res1);\n",
    "std::cout << res1.number << std::endl;\n",
    "}"
   ]
  },
  {
   "cell_type": "markdown",
   "id": "d78cc897",
   "metadata": {},
   "source": [
    "# 3 object as a member variable of another class"
   ]
  },
  {
   "cell_type": "markdown",
   "id": "9f10057e",
   "metadata": {},
   "source": [
    "## 3.1 member variable as a value"
   ]
  },
  {
   "cell_type": "code",
   "execution_count": 15,
   "id": "b1dbe6c6",
   "metadata": {},
   "outputs": [],
   "source": [
    "class Manager{\n",
    "    \n",
    "public:    \n",
    "    int a_number;\n",
    "    Resource res;\n",
    "    \n",
    "    Manager(int a_number, Resource& res):a_number(a_number), res(res){ // what happends here?  copy-by-value\n",
    "        \n",
    "    }\n",
    "}"
   ]
  },
  {
   "cell_type": "code",
   "execution_count": 16,
   "id": "991e6103",
   "metadata": {},
   "outputs": [
    {
     "name": "stdout",
     "output_type": "stream",
     "text": [
      "Resource created with 1\n",
      "the data in another calss: 1\n",
      "the data in another calss: 12345\n",
      "Resource destroyed with 12345\n",
      "the raw data: 1\n",
      "Resource destroyed with 1\n"
     ]
    }
   ],
   "source": [
    "{\n",
    "    Resource res1 = Resource{1};\n",
    "    {\n",
    "        Manager m1 = Manager(123, res1);\n",
    "        std::cout << \"the data in another calss: \"<< m1.res.number << std::endl;\n",
    "    \n",
    "        m1.res.number = 12345;\n",
    "        std::cout << \"the data in another calss: \"<< m1.res.number << std::endl;    \n",
    "    }\n",
    "    std::cout << \"the raw data: \" << res1.number << std::endl;\n",
    "}"
   ]
  },
  {
   "cell_type": "code",
   "execution_count": null,
   "id": "fe0c47d0",
   "metadata": {},
   "outputs": [],
   "source": []
  },
  {
   "cell_type": "code",
   "execution_count": 17,
   "id": "dc98fb3f",
   "metadata": {},
   "outputs": [
    {
     "name": "stdout",
     "output_type": "stream",
     "text": [
      "Resource created with 1\n",
      "the data in another calss: 1\n",
      "the data in another calss: 12345\n",
      "the data from manager copy-by value: 54321\n",
      "the data in another calss: 12345\n",
      "Resource destroyed with 54321\n",
      "Resource destroyed with 12345\n",
      "the raw data: 1\n",
      "Resource destroyed with 1\n"
     ]
    }
   ],
   "source": [
    "{\n",
    "    Resource res1 = Resource{1};\n",
    "    {\n",
    "        Manager m1 = Manager(123, res1);\n",
    "        std::cout << \"the data in another calss: \"<< m1.res.number << std::endl;\n",
    "    \n",
    "        m1.res.number = 12345;\n",
    "        std::cout << \"the data in another calss: \"<< m1.res.number << std::endl;    \n",
    "\n",
    "        Manager copy_by_value_object_from_m1 = m1;\n",
    "        copy_by_value_object_from_m1.res.number = 54321;\n",
    "        std::cout << \"the data from manager copy-by value: \"<< copy_by_value_object_from_m1.res.number << std::endl;\n",
    "\n",
    "        std::cout << \"the data in another calss: \"<< m1.res.number << std::endl;\n",
    "    } // m1 and copy_by_value_object_from_m1 go out of scope here\n",
    "\n",
    "    std::cout << \"the raw data: \" << res1.number << std::endl;\n",
    "}"
   ]
  },
  {
   "cell_type": "markdown",
   "id": "105eaae6",
   "metadata": {},
   "source": [
    "## 3.2 member variable as a reference"
   ]
  },
  {
   "cell_type": "code",
   "execution_count": 18,
   "id": "c417738e",
   "metadata": {},
   "outputs": [],
   "source": [
    "class Manager2{\n",
    "public:\n",
    "    int a_number;\n",
    "    Resource& res;\n",
    "    \n",
    "    Manager2(int a_number, Resource& res):a_number(a_number),res(res){   \n",
    "    }\n",
    "}"
   ]
  },
  {
   "cell_type": "code",
   "execution_count": 19,
   "id": "d2ecad0b",
   "metadata": {},
   "outputs": [
    {
     "name": "stdout",
     "output_type": "stream",
     "text": [
      "Resource created with 2\n",
      "the data in another calss: 2\n",
      "the data in another calss: 12345\n",
      "the raw data: 12345\n"
     ]
    }
   ],
   "source": [
    "{\n",
    "    Resource res2 = Resource{2};\n",
    "    {\n",
    "        Manager2 m2 = Manager2{555, res2};\n",
    "        std::cout << \"the data in another calss: \"<< m2.res.number << std::endl;\n",
    "    \n",
    "        m2.res.number = 12345;\n",
    "        std::cout << \"the data in another calss: \"<< m2.res.number << std::endl;    \n",
    "    }\n",
    "    std::cout << \"the raw data: \" << res2.number << std::endl;\n",
    "}"
   ]
  },
  {
   "cell_type": "code",
   "execution_count": 25,
   "id": "42725b46",
   "metadata": {},
   "outputs": [
    {
     "name": "stdout",
     "output_type": "stream",
     "text": [
      "Resource created with 2\n",
      "the data in another calss: 2\n",
      "the data in another calss: 12345\n",
      "the data from manager copy-by value: 54321\n",
      "the data in another calss: 54321\n",
      "the raw data: 54321\n",
      "Resource destroyed with 54321\n"
     ]
    }
   ],
   "source": [
    "{\n",
    "    Resource res2 = Resource{2};\n",
    "    {\n",
    "        Manager2 m2 = Manager2{555, res2};\n",
    "        std::cout << \"the data in another calss: \"<< m2.res.number << std::endl;\n",
    "    \n",
    "        m2.res.number = 12345;\n",
    "        std::cout << \"the data in another calss: \"<< m2.res.number << std::endl;        \n",
    "\n",
    "        Manager2 copy_by_value_object_from_m2 = m2;\n",
    "        copy_by_value_object_from_m2.res.number = 54321;\n",
    "        std::cout << \"the data from manager copy-by value: \"<< copy_by_value_object_from_m2.res.number << std::endl;\n",
    "\n",
    "        std::cout << \"the data in another calss: \"<< m2.res.number << std::endl;\n",
    "    } // m2 and copy_by_value_object_from_m2 does not go out of scope here, they serve as a reference \n",
    "\n",
    "    std::cout << \"the raw data: \" << res2.number << std::endl;\n",
    "}"
   ]
  },
  {
   "cell_type": "markdown",
   "id": "10f62b03",
   "metadata": {},
   "source": [
    "# 4 vector push_back  pushes value or reference?"
   ]
  },
  {
   "cell_type": "markdown",
   "id": "eb8e8af6",
   "metadata": {},
   "source": [
    "##  1 pushes value"
   ]
  },
  {
   "cell_type": "code",
   "execution_count": 21,
   "id": "041098e4",
   "metadata": {},
   "outputs": [
    {
     "name": "stdout",
     "output_type": "stream",
     "text": [
      "Resource created with 123\n",
      "123\n",
      "-------------\n",
      "------change raw data----------\n",
      "555\n",
      "-------------\n",
      "123\n"
     ]
    }
   ],
   "source": [
    "Resource first_res{123};\n",
    "std::cout << first_res.number << std::endl;\n",
    "std::cout << \"-------------\" << std::endl;\n",
    "\n",
    "std::vector<Resource> vec_value;\n",
    "vec_value.push_back(first_res); // call copy construct function\n",
    "\n",
    "std::cout << \"------change raw data----------\" << std::endl;\n",
    "first_res.number = 555;\n",
    "std::cout << first_res.number << std::endl;\n",
    "std::cout << \"-------------\" << std::endl;\n",
    "\n",
    "\n",
    "std::cout << vec_value.at(0).number << std::endl;"
   ]
  },
  {
   "cell_type": "markdown",
   "id": "99b77bfe",
   "metadata": {},
   "source": [
    "## 2 pushes raw pointer"
   ]
  },
  {
   "cell_type": "code",
   "execution_count": 22,
   "id": "5f7f43c9",
   "metadata": {},
   "outputs": [
    {
     "name": "stdout",
     "output_type": "stream",
     "text": [
      "-------------------------------\n",
      "------change raw data----------\n",
      "555\n",
      "-------------\n",
      "555\n"
     ]
    }
   ],
   "source": [
    "std::vector<Resource*> vec_raw_pointer;\n",
    "vec_raw_pointer.push_back(&first_res);\n",
    "std::cout << \"-------------------------------\" << std::endl;\n",
    "\n",
    "std::cout << \"------change raw data----------\" << std::endl;\n",
    "first_res.number = 555;\n",
    "std::cout << first_res.number << std::endl;\n",
    "std::cout << \"-------------\" << std::endl;\n",
    "\n",
    "std::cout << vec_raw_pointer.at(0)->number << std::endl;"
   ]
  },
  {
   "cell_type": "markdown",
   "id": "4a3c35fd",
   "metadata": {},
   "source": [
    "https://stackoverflow.com/questions/23488326/stdvector-of-references"
   ]
  },
  {
   "cell_type": "markdown",
   "id": "f3ffd964",
   "metadata": {},
   "source": [
    "## 3 pushes shared_ptr"
   ]
  },
  {
   "cell_type": "code",
   "execution_count": 23,
   "id": "d4ee5fa8",
   "metadata": {},
   "outputs": [
    {
     "name": "stdout",
     "output_type": "stream",
     "text": [
      "Resource created with 111\n",
      "111\n",
      "-------------\n",
      "------change raw data----------\n",
      "555\n",
      "-------------\n",
      "555\n"
     ]
    }
   ],
   "source": [
    "std::shared_ptr<Resource> res_ptr = std::make_shared<Resource>(111);\n",
    "\n",
    "std::cout << res_ptr->number << std::endl;\n",
    "std::cout << \"-------------\" << std::endl;\n",
    "\n",
    "\n",
    "std::vector<std::shared_ptr<Resource>> vect_shared_ptr;\n",
    "vect_shared_ptr.push_back(res_ptr);\n",
    "\n",
    "std::cout << \"------change raw data----------\" << std::endl;\n",
    "res_ptr->number = 555;\n",
    "std::cout << res_ptr->number << std::endl;\n",
    "std::cout << \"-------------\" << std::endl;\n",
    "\n",
    "std::cout << vect_shared_ptr.at(0)-> number << std::endl;"
   ]
  },
  {
   "cell_type": "markdown",
   "id": "5486999d",
   "metadata": {},
   "source": [
    "## 4 push raw pointer but from smart pointer"
   ]
  },
  {
   "cell_type": "code",
   "execution_count": 24,
   "id": "b19efbfb",
   "metadata": {},
   "outputs": [
    {
     "name": "stdout",
     "output_type": "stream",
     "text": [
      "Resource created with 111\n",
      "111\n",
      "-------------\n",
      "------change raw data----------\n",
      "555\n",
      "-------------\n",
      "555\n"
     ]
    }
   ],
   "source": [
    "std::shared_ptr<Resource> res_ptr = std::make_shared<Resource>(111);\n",
    "\n",
    "std::cout << res_ptr->number << std::endl;\n",
    "std::cout << \"-------------\" << std::endl;\n",
    "\n",
    "\n",
    "std::vector<Resource*> vect_shared_ptr;\n",
    "vect_shared_ptr.push_back(res_ptr.get());\n",
    "\n",
    "std::cout << \"------change raw data----------\" << std::endl;\n",
    "res_ptr->number = 555;\n",
    "std::cout << res_ptr->number << std::endl;\n",
    "std::cout << \"-------------\" << std::endl;\n",
    "\n",
    "std::cout << vect_shared_ptr.at(0)-> number << std::endl;"
   ]
  },
  {
   "cell_type": "code",
   "execution_count": null,
   "id": "0f464ddf",
   "metadata": {},
   "outputs": [],
   "source": []
  }
 ],
 "metadata": {
  "kernelspec": {
   "display_name": "C++14",
   "language": "C++14",
   "name": "xcpp14"
  },
  "language_info": {
   "codemirror_mode": "text/x-c++src",
   "file_extension": ".cpp",
   "mimetype": "text/x-c++src",
   "name": "c++",
   "version": "14"
  }
 },
 "nbformat": 4,
 "nbformat_minor": 5
}
