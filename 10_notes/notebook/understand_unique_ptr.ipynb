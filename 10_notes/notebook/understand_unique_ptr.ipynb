{
 "cells": [
  {
   "cell_type": "code",
   "execution_count": 1,
   "id": "dff4d529",
   "metadata": {},
   "outputs": [],
   "source": [
    "#include <memory>\n",
    "#include <iostream>\n",
    "#include <map>\n",
    "#include <string>"
   ]
  },
  {
   "cell_type": "code",
   "execution_count": 2,
   "id": "5577b24c",
   "metadata": {},
   "outputs": [],
   "source": [
    "class Resource\n",
    "{\n",
    "public:\n",
    "    int number;\n",
    "    \n",
    "\tResource(int n) {\n",
    "        number = n;\n",
    "        std::cout << \"Resource acquired\\n\"; \n",
    "    }\n",
    "    \n",
    "\t~Resource() { \n",
    "        std::cout << \"Resource destroyed\\n\"; \n",
    "    }\n",
    "    \n",
    "    friend std::ostream& operator<<(std::ostream& out, const Resource& res)\n",
    "\t{\n",
    "\t\tout << \"I am a resource\\n\";\n",
    "\t\treturn out;\n",
    "\t}\n",
    "};"
   ]
  },
  {
   "cell_type": "markdown",
   "id": "45e177b0",
   "metadata": {},
   "source": [
    "# 1 basic operation"
   ]
  },
  {
   "cell_type": "markdown",
   "id": "c15aa9dc",
   "metadata": {},
   "source": [
    "## 1.a How to construct a std::unique_ptr"
   ]
  },
  {
   "cell_type": "markdown",
   "id": "47ef4d8a",
   "metadata": {},
   "source": [
    "method1: use new"
   ]
  },
  {
   "cell_type": "code",
   "execution_count": 3,
   "id": "0e63c0a9",
   "metadata": {},
   "outputs": [
    {
     "name": "stdout",
     "output_type": "stream",
     "text": [
      "Resource acquired\n"
     ]
    }
   ],
   "source": [
    "std::unique_ptr<Resource> res1{new Resource(5)}"
   ]
  },
  {
   "cell_type": "markdown",
   "id": "bf924c9c",
   "metadata": {},
   "source": [
    "method2: use std:make_unique"
   ]
  },
  {
   "cell_type": "code",
   "execution_count": 4,
   "id": "3d4c1718",
   "metadata": {},
   "outputs": [
    {
     "name": "stdout",
     "output_type": "stream",
     "text": [
      "Resource acquired\n"
     ]
    }
   ],
   "source": [
    "std::unique_ptr<Resource> res2 = std::make_unique<Resource>(5);"
   ]
  },
  {
   "cell_type": "code",
   "execution_count": 5,
   "id": "35837c53",
   "metadata": {},
   "outputs": [
    {
     "name": "stdout",
     "output_type": "stream",
     "text": [
      "Resource acquired\n",
      "I am a resource\n",
      "\n",
      "Resource destroyed\n"
     ]
    }
   ],
   "source": [
    "{\n",
    "    std::unique_ptr<Resource> res3 = std::make_unique<Resource>(5);\n",
    "    \n",
    "    //dereference the pointer\n",
    "    std::cout << *res3 << std::endl;\n",
    "}"
   ]
  },
  {
   "cell_type": "markdown",
   "id": "29e2614b",
   "metadata": {},
   "source": [
    "## 1.b how std::unique_ptr work and the lifetime of smart_pointer and  the Resource it point to."
   ]
  },
  {
   "cell_type": "code",
   "execution_count": 6,
   "id": "73a6203b",
   "metadata": {},
   "outputs": [],
   "source": [
    "int do_something1(){\n",
    "    \n",
    "    std::unique_ptr<Resource> res1 =  std::make_unique<Resource>(2);\n",
    "    \n",
    "    std::cout << \"exiting \" << std::endl;\n",
    "    return 0;\n",
    "}; //res1 go out of scope, and then release Resource"
   ]
  },
  {
   "cell_type": "code",
   "execution_count": 7,
   "id": "0620ccf7",
   "metadata": {},
   "outputs": [
    {
     "name": "stdout",
     "output_type": "stream",
     "text": [
      "Resource acquired\n",
      "exiting \n",
      "Resource destroyed\n"
     ]
    }
   ],
   "source": [
    "int a = do_something1();"
   ]
  },
  {
   "cell_type": "markdown",
   "id": "3f611f1d",
   "metadata": {},
   "source": [
    "## 1.c  One resource, one std::unique_ptr: copy construct and copy assgnment disabled"
   ]
  },
  {
   "cell_type": "code",
   "execution_count": 8,
   "id": "def342aa",
   "metadata": {},
   "outputs": [],
   "source": [
    "int test_rule_of_five(){\n",
    "    std::unique_ptr<Resource> p1{ new Resource{22} }; // Resource created here\n",
    "\tstd::unique_ptr<Resource> p2{}; // Start as nullptr\n",
    " \n",
    "\tstd::cout << \"p1 is \" << (static_cast<bool>(p1) ? \"not null\\n\" : \"null\\n\");\n",
    "\tstd::cout << \"p2 is \" << (static_cast<bool>(p2) ? \"not null\\n\" : \"null\\n\");\n",
    " \n",
    "    // //Copy construction is not allowed\n",
    "    //unique_ptr<MyObject> p3(p1);\n",
    "\t\n",
    "    // res2 = res1; // Won't compile: copy assignment is disabled\n",
    "    \n",
    "    // the output of std:move is a rvalue, the call the move assignment operator rather than copy assignment which is disabled \n",
    "\tp2 = std::move(p1); // res2 assumes ownership, res1 is set to null\n",
    " \n",
    "\tstd::cout << \"Ownership transferred\\n\";\n",
    " \n",
    "\tstd::cout << \"p1 is \" << (static_cast<bool>(p1) ? \"not null\\n\" : \"null\\n\");\n",
    "\tstd::cout << \"p2 is \" << (static_cast<bool>(p2) ? \"not null\\n\" : \"null\\n\");\n",
    "     \n",
    "    std::cout << *p2 << std::endl;\n",
    "    \n",
    "\treturn 0;\n",
    "};"
   ]
  },
  {
   "cell_type": "code",
   "execution_count": 9,
   "id": "32accca2",
   "metadata": {},
   "outputs": [
    {
     "name": "stdout",
     "output_type": "stream",
     "text": [
      "Resource acquired\n",
      "p1 is not null\n",
      "p2 is null\n",
      "Ownership transferred\n",
      "p1 is null\n",
      "p2 is not null\n",
      "I am a resource\n",
      "\n",
      "Resource destroyed\n"
     ]
    }
   ],
   "source": [
    "int b = test_rule_of_five();"
   ]
  },
  {
   "cell_type": "markdown",
   "id": "b5d1c8c6",
   "metadata": {},
   "source": [
    "## 1-d: Passing std::unique_ptr to a function"
   ]
  },
  {
   "cell_type": "code",
   "execution_count": 10,
   "id": "7a02a76a",
   "metadata": {},
   "outputs": [],
   "source": [
    "void takeOwnership(std::unique_ptr<Resource> res){\n",
    "     if (res)\n",
    "          std::cout << *res << '\\n';\n",
    "}; // the Resource is destroyed here\n"
   ]
  },
  {
   "cell_type": "code",
   "execution_count": 11,
   "id": "a68b0fa1",
   "metadata": {},
   "outputs": [
    {
     "name": "stdout",
     "output_type": "stream",
     "text": [
      "Resource acquired\n",
      "I am a resource\n",
      "\n",
      "Resource destroyed\n",
      "Ending program\n"
     ]
    }
   ],
   "source": [
    "int test_unique_pointer_as_function_parameter1(){\n",
    "    \n",
    "    auto ptr{ std::make_unique<Resource>(111)};\n",
    " \n",
    "//    takeOwnership(ptr); // This doesn't work, need to use move semantics\n",
    "    takeOwnership(std::move(ptr)); // ok: use move semantics\n",
    " \n",
    "    std::cout << \"Ending program\\n\";\n",
    " \n",
    "    return 0;\n",
    "};\n",
    "\n",
    "int d1 = test_unique_pointer_as_function_parameter1();"
   ]
  },
  {
   "cell_type": "code",
   "execution_count": 12,
   "id": "87544f54",
   "metadata": {},
   "outputs": [],
   "source": [
    "// The function only uses the resource, so we'll accept a pointer to the resource, not a reference to the whole std::unique_ptr<Resource>\n",
    "void justUseResource(Resource* res){\n",
    "    if (res)\n",
    "          std::cout << *res << '\\n';\n",
    "};"
   ]
  },
  {
   "cell_type": "code",
   "execution_count": 13,
   "id": "3a6d93b6",
   "metadata": {},
   "outputs": [
    {
     "name": "stdout",
     "output_type": "stream",
     "text": [
      "Resource acquired\n",
      "I am a resource\n",
      "\n",
      "Ending program\n",
      "Resource destroyed\n"
     ]
    }
   ],
   "source": [
    "int test_unique_pointer_as_function_parameter2(){\n",
    "    \n",
    "    auto ptr{ std::make_unique<Resource>(111)};\n",
    " \n",
    "    justUseResource(ptr.get()); // ok\n",
    " \n",
    "    std::cout << \"Ending program\\n\";\n",
    " \n",
    "    return 0;\n",
    "};\n",
    "\n",
    "int d2 = test_unique_pointer_as_function_parameter2();"
   ]
  },
  {
   "cell_type": "markdown",
   "id": "5ef8d472",
   "metadata": {},
   "source": [
    "## 1-e: Returning std::unique_ptr from a function"
   ]
  },
  {
   "cell_type": "code",
   "execution_count": 14,
   "id": "d638eaa8",
   "metadata": {},
   "outputs": [],
   "source": [
    "std::unique_ptr<Resource> createUniquePointer(){\n",
    "  //create a local unique pointer\n",
    "  std::unique_ptr<Resource> p1(new Resource(111));\n",
    "\n",
    "  return p1; // p1 will surrender ownership\n",
    "};\n"
   ]
  },
  {
   "cell_type": "code",
   "execution_count": 15,
   "id": "73001f60",
   "metadata": {},
   "outputs": [
    {
     "name": "stdout",
     "output_type": "stream",
     "text": [
      "Resource acquired\n",
      "I am a resource\n",
      "\n",
      "program end \n",
      "Resource destroyed\n"
     ]
    }
   ],
   "source": [
    "void test_unique_pointer_as_function_return(){\n",
    "    std::unique_ptr<Resource> a1; //unique_ptr points to nothing\n",
    "    a1=createUniquePointer(); //now a1 owns the object, here call the move assignment operator\n",
    "    \n",
    "    std::cout << *a1 << std::endl;\n",
    "    std::cout << \"program end \" << std::endl;\n",
    "};\n",
    "\n",
    "test_unique_pointer_as_function_return();"
   ]
  },
  {
   "cell_type": "markdown",
   "id": "6fdcc97a",
   "metadata": {},
   "source": [
    "## 1-f: unique_pointer in dict"
   ]
  },
  {
   "cell_type": "code",
   "execution_count": 17,
   "id": "4b44f5a3",
   "metadata": {},
   "outputs": [],
   "source": [
    "using ResourceMap = std::map<std::string, std::unique_ptr<Resource>>;"
   ]
  },
  {
   "cell_type": "code",
   "execution_count": 18,
   "id": "8c4fb482",
   "metadata": {},
   "outputs": [
    {
     "name": "stdout",
     "output_type": "stream",
     "text": [
      "Resource acquired\n",
      "Resource acquired\n",
      "Resource acquired\n"
     ]
    }
   ],
   "source": [
    "ResourceMap myMap;\n",
    "myMap[\"000001\"] = std::make_unique<Resource>(11);\n",
    "myMap[\"000002\"] = std::make_unique<Resource>(21);\n",
    "myMap[\"000003\"] = std::make_unique<Resource>(31);"
   ]
  },
  {
   "cell_type": "code",
   "execution_count": 19,
   "id": "d2404d6b",
   "metadata": {},
   "outputs": [],
   "source": [
    "using RMI = std::map<std::string, std::unique_ptr<Resource>>::iterator;"
   ]
  },
  {
   "cell_type": "code",
   "execution_count": 20,
   "id": "0a95933f",
   "metadata": {},
   "outputs": [],
   "source": [
    "RMI it = myMap.find(\"000002\");"
   ]
  },
  {
   "cell_type": "code",
   "execution_count": 23,
   "id": "66e7918a",
   "metadata": {},
   "outputs": [
    {
     "name": "stdout",
     "output_type": "stream",
     "text": [
      "21\n"
     ]
    }
   ],
   "source": [
    "std::cout << it -> second -> number << std::endl;"
   ]
  },
  {
   "cell_type": "code",
   "execution_count": 25,
   "id": "41197e5d",
   "metadata": {},
   "outputs": [
    {
     "name": "stdout",
     "output_type": "stream",
     "text": [
      "31\n"
     ]
    }
   ],
   "source": [
    "std::cout << (it++) -> second -> number << std::endl;"
   ]
  },
  {
   "cell_type": "code",
   "execution_count": null,
   "id": "052cdcbe",
   "metadata": {},
   "outputs": [],
   "source": []
  }
 ],
 "metadata": {
  "kernelspec": {
   "display_name": "C++14",
   "language": "C++14",
   "name": "xcpp14"
  },
  "language_info": {
   "codemirror_mode": "text/x-c++src",
   "file_extension": ".cpp",
   "mimetype": "text/x-c++src",
   "name": "c++",
   "version": "14"
  }
 },
 "nbformat": 4,
 "nbformat_minor": 5
}
