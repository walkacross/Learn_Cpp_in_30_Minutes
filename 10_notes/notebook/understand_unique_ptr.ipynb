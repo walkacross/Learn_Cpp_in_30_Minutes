{
 "cells": [
  {
   "cell_type": "code",
   "execution_count": 1,
   "id": "ff50aad4",
   "metadata": {},
   "outputs": [],
   "source": [
    "#include <memory>\n",
    "#include <iostream>\n",
    "#include <map>\n",
    "#include <string>"
   ]
  },
  {
   "cell_type": "code",
   "execution_count": 2,
   "id": "79cefb9c",
   "metadata": {},
   "outputs": [],
   "source": [
    "class Resource\n",
    "{\n",
    "public:\n",
    "    int number;\n",
    "    \n",
    "\tResource(int n) {\n",
    "        number = n;\n",
    "        std::cout << \"Resource acquired\\n\"; \n",
    "    }\n",
    "    \n",
    "\t~Resource() { \n",
    "        std::cout << \"Resource destroyed\\n\"; \n",
    "    }\n",
    "    \n",
    "    friend std::ostream& operator<<(std::ostream& out, const Resource& res)\n",
    "\t{\n",
    "\t\tout << \"I am a resource\\n\";\n",
    "\t\treturn out;\n",
    "\t}\n",
    "};"
   ]
  },
  {
   "cell_type": "markdown",
   "id": "1f4e2b35",
   "metadata": {},
   "source": [
    "# 1 basic operation"
   ]
  },
  {
   "cell_type": "markdown",
   "id": "0b68cd8c",
   "metadata": {},
   "source": [
    "## 1.a How to construct a std::unique_ptr"
   ]
  },
  {
   "cell_type": "markdown",
   "id": "8def74fc",
   "metadata": {},
   "source": [
    "method1: use new"
   ]
  },
  {
   "cell_type": "code",
   "execution_count": 3,
   "id": "cb989cea",
   "metadata": {},
   "outputs": [
    {
     "name": "stdout",
     "output_type": "stream",
     "text": [
      "Resource acquired\n"
     ]
    }
   ],
   "source": [
    "std::unique_ptr<Resource> res1{new Resource(5)}"
   ]
  },
  {
   "cell_type": "markdown",
   "id": "2adf046c",
   "metadata": {},
   "source": [
    "method2: use std:make_unique"
   ]
  },
  {
   "cell_type": "code",
   "execution_count": 4,
   "id": "82714a14",
   "metadata": {},
   "outputs": [
    {
     "name": "stdout",
     "output_type": "stream",
     "text": [
      "Resource acquired\n"
     ]
    }
   ],
   "source": [
    "std::unique_ptr<Resource> res2 = std::make_unique<Resource>(5);"
   ]
  },
  {
   "cell_type": "code",
   "execution_count": 5,
   "id": "770818b3",
   "metadata": {},
   "outputs": [
    {
     "name": "stdout",
     "output_type": "stream",
     "text": [
      "Resource acquired\n",
      "I am a resource\n",
      "\n",
      "Resource destroyed\n"
     ]
    }
   ],
   "source": [
    "{\n",
    "    std::unique_ptr<Resource> res3 = std::make_unique<Resource>(5);\n",
    "    \n",
    "    //dereference the pointer\n",
    "    std::cout << *res3 << std::endl;\n",
    "}"
   ]
  },
  {
   "cell_type": "markdown",
   "id": "2f679557",
   "metadata": {},
   "source": [
    "## 1.b how std::unique_ptr work and the lifetime of smart_pointer and  the Resource it point to."
   ]
  },
  {
   "cell_type": "code",
   "execution_count": 6,
   "id": "722b2a0e",
   "metadata": {},
   "outputs": [],
   "source": [
    "int do_something1(){\n",
    "    \n",
    "    std::unique_ptr<Resource> res1 =  std::make_unique<Resource>(2);\n",
    "    \n",
    "    std::cout << \"exiting \" << std::endl;\n",
    "    return 0;\n",
    "}; //res1 go out of scope, and then release Resource"
   ]
  },
  {
   "cell_type": "code",
   "execution_count": 7,
   "id": "586c9944",
   "metadata": {},
   "outputs": [
    {
     "name": "stdout",
     "output_type": "stream",
     "text": [
      "Resource acquired\n",
      "exiting \n",
      "Resource destroyed\n"
     ]
    }
   ],
   "source": [
    "int a = do_something1();"
   ]
  },
  {
   "cell_type": "markdown",
   "id": "34d8e74f",
   "metadata": {},
   "source": [
    "## 1.c  One resource, one std::unique_ptr: copy construct and copy assgnment disabled"
   ]
  },
  {
   "cell_type": "code",
   "execution_count": 8,
   "id": "eeafc31b",
   "metadata": {},
   "outputs": [],
   "source": [
    "int test_rule_of_five(){\n",
    "    std::unique_ptr<Resource> p1{ new Resource{22} }; // Resource created here\n",
    "\tstd::unique_ptr<Resource> p2{}; // Start as nullptr\n",
    " \n",
    "\tstd::cout << \"p1 is \" << (static_cast<bool>(p1) ? \"not null\\n\" : \"null\\n\");\n",
    "\tstd::cout << \"p2 is \" << (static_cast<bool>(p2) ? \"not null\\n\" : \"null\\n\");\n",
    " \n",
    "    // //Copy construction is not allowed\n",
    "    //unique_ptr<MyObject> p3(p1);\n",
    "\t\n",
    "    // res2 = res1; // Won't compile: copy assignment is disabled\n",
    "    \n",
    "    // the output of std:move is a rvalue, the call the move assignment operator rather than copy assignment which is disabled \n",
    "\tp2 = std::move(p1); // res2 assumes ownership, res1 is set to null\n",
    " \n",
    "\tstd::cout << \"Ownership transferred\\n\";\n",
    " \n",
    "\tstd::cout << \"p1 is \" << (static_cast<bool>(p1) ? \"not null\\n\" : \"null\\n\");\n",
    "\tstd::cout << \"p2 is \" << (static_cast<bool>(p2) ? \"not null\\n\" : \"null\\n\");\n",
    "     \n",
    "    std::cout << *p2 << std::endl;\n",
    "    \n",
    "\treturn 0;\n",
    "};"
   ]
  },
  {
   "cell_type": "code",
   "execution_count": 9,
   "id": "8d0e4b10",
   "metadata": {},
   "outputs": [
    {
     "name": "stdout",
     "output_type": "stream",
     "text": [
      "Resource acquired\n",
      "p1 is not null\n",
      "p2 is null\n",
      "Ownership transferred\n",
      "p1 is null\n",
      "p2 is not null\n",
      "I am a resource\n",
      "\n",
      "Resource destroyed\n"
     ]
    }
   ],
   "source": [
    "int b = test_rule_of_five();"
   ]
  },
  {
   "cell_type": "markdown",
   "id": "b98b53c3",
   "metadata": {},
   "source": [
    "## 1-d: Passing std::unique_ptr to a function"
   ]
  },
  {
   "cell_type": "markdown",
   "id": "1cf690a7",
   "metadata": {},
   "source": [
    "Moving a unique_ptr vs. using get()?"
   ]
  },
  {
   "cell_type": "code",
   "execution_count": 10,
   "id": "a18c19e9",
   "metadata": {},
   "outputs": [],
   "source": [
    "void takeOwnership(std::unique_ptr<Resource> res){\n",
    "     if (res)\n",
    "          std::cout << *res << '\\n';\n",
    "}; // the Resource is destroyed here\n"
   ]
  },
  {
   "cell_type": "code",
   "execution_count": 11,
   "id": "248dc833",
   "metadata": {},
   "outputs": [
    {
     "name": "stdout",
     "output_type": "stream",
     "text": [
      "Resource acquired\n",
      "I am a resource\n",
      "\n",
      "Resource destroyed\n",
      "Ending program\n"
     ]
    }
   ],
   "source": [
    "int test_unique_pointer_as_function_parameter1(){\n",
    "    \n",
    "    auto ptr{ std::make_unique<Resource>(111)};\n",
    " \n",
    "//    takeOwnership(ptr); // This doesn't work, need to use move semantics\n",
    "    takeOwnership(std::move(ptr)); // ok: use move semantics\n",
    " \n",
    "    std::cout << \"Ending program\\n\";\n",
    " \n",
    "    return 0;\n",
    "};\n",
    "\n",
    "int d1 = test_unique_pointer_as_function_parameter1();"
   ]
  },
  {
   "cell_type": "code",
   "execution_count": 12,
   "id": "dfff0871",
   "metadata": {},
   "outputs": [],
   "source": [
    "// The function only uses the resource, so we'll accept a pointer to the resource, not a reference to the whole std::unique_ptr<Resource>\n",
    "void justUseResource(Resource* res){\n",
    "    if (res)\n",
    "          std::cout << *res << '\\n';\n",
    "};"
   ]
  },
  {
   "cell_type": "code",
   "execution_count": 36,
   "id": "6c2a92e7",
   "metadata": {},
   "outputs": [
    {
     "name": "stdout",
     "output_type": "stream",
     "text": [
      "Resource acquired\n",
      "I am a resource\n",
      "\n",
      "Ending program\n",
      "Resource destroyed\n"
     ]
    }
   ],
   "source": [
    "int test_unique_pointer_as_function_parameter2(){\n",
    "    \n",
    "    auto ptr{ std::make_unique<Resource>(111)};\n",
    " \n",
    "    justUseResource(ptr.get()); // ok\n",
    " \n",
    "    std::cout << \"Ending program\\n\";\n",
    " \n",
    "    return 0;\n",
    "};\n",
    "\n",
    "int d2 = test_unique_pointer_as_function_parameter2();"
   ]
  },
  {
   "cell_type": "markdown",
   "id": "7f3efbd2",
   "metadata": {},
   "source": [
    "## 1-e: Returning std::unique_ptr from a function"
   ]
  },
  {
   "cell_type": "markdown",
   "id": "ab075231",
   "metadata": {},
   "source": [
    "**return by value, raw pointer to Resource, unique_ptr reference??**"
   ]
  },
  {
   "cell_type": "markdown",
   "id": "68e12029",
   "metadata": {},
   "source": [
    "### case1: return by value: be carefully"
   ]
  },
  {
   "cell_type": "code",
   "execution_count": 14,
   "id": "598beefc",
   "metadata": {},
   "outputs": [],
   "source": [
    "std::unique_ptr<Resource> createUniquePointer(){\n",
    "    // method 1:\n",
    "    /*create a local unique pointer\n",
    "    std::unique_ptr<Resource> p1(new Resource(111));\n",
    "    \n",
    "    Just wanted to add one more point that returning by value should be the default choice here because a named value in the return statement in the worst case, i.e. without elisions in C++11, C++14 and C++17 is treated as an rvalue. So for example the following function compiles with the -fno-elide-constructors flag\n",
    "    return p1; // p1 will surrender ownership\n",
    "    */\n",
    "    \n",
    "    //method2\n",
    "    //return std:move(p1);\n",
    "    \n",
    "    //method3\n",
    "    return std::make_unique<Resource>(111); //call the implicit std:move senmantics \n",
    "    \n",
    "};\n"
   ]
  },
  {
   "cell_type": "code",
   "execution_count": 15,
   "id": "dc95275d",
   "metadata": {},
   "outputs": [
    {
     "name": "stdout",
     "output_type": "stream",
     "text": [
      "Resource acquired\n",
      "I am a resource\n",
      "\n",
      "program end \n",
      "Resource destroyed\n"
     ]
    }
   ],
   "source": [
    "void test_unique_pointer_as_function_return(){\n",
    "    std::unique_ptr<Resource> a1; //unique_ptr points to nothing\n",
    "    a1=createUniquePointer(); //now a1 owns the object, here call the move assignment operator\n",
    "    \n",
    "    std::cout << *a1 << std::endl;\n",
    "    std::cout << \"program end \" << std::endl;\n",
    "};\n",
    "\n",
    "test_unique_pointer_as_function_return();"
   ]
  },
  {
   "cell_type": "markdown",
   "id": "cdb10f91",
   "metadata": {},
   "source": [
    "### case2: return by smart pointer reference: bad idea,"
   ]
  },
  {
   "cell_type": "markdown",
   "id": "13db54d1",
   "metadata": {},
   "source": [
    " it is indicative of bad design. Having a non-const reference means that you can steal the resource or replace it without having to offer separate methods.\n",
    " \n",
    " https://stackoverflow.com/questions/48863969/can-i-pass-a-unique-ptrs-reference-to-a-function"
   ]
  },
  {
   "cell_type": "code",
   "execution_count": 16,
   "id": "a0d41afb",
   "metadata": {},
   "outputs": [],
   "source": [
    "class TmContainer {\n",
    "public:\n",
    "    TmContainer() {\n",
    "        // Create some sort of complex object on heap and store unique_ptr to it\n",
    "        m_time = std::unique_ptr<tm>(new tm());\n",
    "        // Store something meaningful in its fields\n",
    "        m_time->tm_year = 42;\n",
    "    }\n",
    "\n",
    "    std::unique_ptr<tm>& time() { return m_time; }\n",
    "\n",
    "private:\n",
    "    std::unique_ptr<tm> m_time;\n",
    "};"
   ]
  },
  {
   "cell_type": "markdown",
   "id": "4a925509",
   "metadata": {},
   "source": [
    "~~~\n",
    "// Just create a handle to the managed object\n",
    "auto& tm_ptr = tm_container.time();\n",
    "do_something_to_tm(*tm_ptr);\n",
    "\n",
    "// Steal the resource\n",
    "std::unique_ptr<TmContainer> other_tm_ptr = std::move(tm_ptr);\n",
    "\n",
    "// Replace the managed object with another one\n",
    "tm_ptr = std::make_unique<TmContainer>;\n",
    "~~~"
   ]
  },
  {
   "cell_type": "markdown",
   "id": "0e26ff02",
   "metadata": {},
   "source": [
    "### case3: return raw pointer of Resource"
   ]
  },
  {
   "cell_type": "markdown",
   "id": "c73676c9",
   "metadata": {},
   "source": [
    "You should only return and accept smart pointers when you care about their ownership semantics. If you only care about what they're pointing to, you should instead return a reference or a raw pointer."
   ]
  },
  {
   "cell_type": "markdown",
   "id": "93db981e",
   "metadata": {},
   "source": [
    "https://stackoverflow.com/questions/43400850/return-a-unique-ptr-by-reference"
   ]
  },
  {
   "cell_type": "markdown",
   "id": "ea6a3fc3",
   "metadata": {},
   "source": [
    "So I need the users of this class to get access to the order unique_ptr if found. However I'm not going to move the object out of the vector so I'm returning the unique_ptr as const ref. My implementation of the find_order method:\n",
    "\n",
    "~~~\n",
    "class order_collection {\n",
    "    typedef std::unique_ptr<order> ord_ptr;\n",
    "    typedef std::vector<ord_ptr> ord_ptr_vec;\n",
    "    ord_ptr_vec orders;\n",
    "    ord_ptr null_unique;\n",
    "public:\n",
    "    ...\n",
    "    const ord_ptr & find_order(std::string);\n",
    "    ....\n",
    "~~~\n",
    "        \n",
    "~~~\n",
    "const order_collection::ord_ptr & order_collection::find_order(std::string id) {\n",
    "    auto it = std::find_if(orders.begin(),orders.end(),\n",
    "                           [&](const order_collection::ord_ptr & sptr) {\n",
    "                               return sptr->getId() == id;\n",
    "                           });\n",
    "\n",
    "    if (it == orders.end())\n",
    "        return null_unique; // can't return nullptr here\n",
    "    return *it;\n",
    "}\n",
    "~~~"
   ]
  },
  {
   "cell_type": "markdown",
   "id": "26a287e4",
   "metadata": {},
   "source": [
    "Since I'm returning by reference I can't return a nullptr. If I try to do so, I get warning : returning reference to a temporary. And if nothing is found the program crashes. So I added a unique_ptr<order> member variable called null_unique and I return it when find doesn't find an order. This solves the problem and warning is gone and doesn't crash when no order is found.\n",
    "\n",
    "However I'm doubting my solution as it make my class ugly. Is this the best practice for handling this situation?"
   ]
  },
  {
   "cell_type": "markdown",
   "id": "8e26928e",
   "metadata": {},
   "source": [
    "Since you're returning a dummy null_unique, it is clear that the caller of the method doesn't care about the ownership semantics. You can also have a null state: you should therefore return a raw pointer:"
   ]
  },
  {
   "cell_type": "markdown",
   "id": "7cd9e4d6",
   "metadata": {},
   "source": [
    "~~~\n",
    "order* order_collection::find_order(std::string id) {\n",
    "    auto it = std::find_if(orders.begin(),orders.end(),\n",
    "                           [&](const order_collection::ord_ptr & sptr) {\n",
    "                               return sptr->getId() == id;\n",
    "                           });\n",
    "\n",
    "    if (it == orders.end())\n",
    "        return nullptr;\n",
    "    return it->get();\n",
    "}\n",
    "~~~"
   ]
  },
  {
   "cell_type": "markdown",
   "id": "e6ec12ef",
   "metadata": {},
   "source": [
    "It doesn't really make sense to return a unique_ptr here, reference or otherwise. A unique_ptr implies ownership over the object, and those aren't really the semantics being conveyed by this code.\n",
    "\n",
    "As suggested in the comments, simply returning a raw pointer is fine here, provided that your Project Design explicitly prohibits you or anyone on your team from calling delete or delete[] outside the context of the destructor of a Resource-owning object."
   ]
  },
  {
   "cell_type": "markdown",
   "id": "7a397ab2",
   "metadata": {},
   "source": [
    "> +1 for the raw pointer solution. I will also add that it's very common to return iterators to collections for find-like operations. You'd return the end iterator on not found. Perhaps with C++17 people will start moving towards a std::optional approach, though"
   ]
  },
  {
   "cell_type": "markdown",
   "id": "28cb2f5d",
   "metadata": {},
   "source": [
    "## 1-f: unique_pointer in dict"
   ]
  },
  {
   "cell_type": "code",
   "execution_count": 17,
   "id": "ffc691bf",
   "metadata": {},
   "outputs": [],
   "source": [
    "using ResourceMap = std::map<std::string, std::unique_ptr<Resource>>;"
   ]
  },
  {
   "cell_type": "code",
   "execution_count": 18,
   "id": "08612c87",
   "metadata": {},
   "outputs": [
    {
     "name": "stdout",
     "output_type": "stream",
     "text": [
      "Resource acquired\n",
      "Resource acquired\n",
      "Resource acquired\n"
     ]
    }
   ],
   "source": [
    "ResourceMap myMap;\n",
    "myMap[\"000001\"] = std::make_unique<Resource>(11);\n",
    "myMap[\"000002\"] = std::make_unique<Resource>(21);\n",
    "myMap[\"000003\"] = std::make_unique<Resource>(31);"
   ]
  },
  {
   "cell_type": "code",
   "execution_count": 19,
   "id": "dd8dcf33",
   "metadata": {},
   "outputs": [],
   "source": [
    "using RMI = std::map<std::string, std::unique_ptr<Resource>>::iterator;"
   ]
  },
  {
   "cell_type": "code",
   "execution_count": 20,
   "id": "acc9039d",
   "metadata": {},
   "outputs": [],
   "source": [
    "RMI it = myMap.find(\"000002\");"
   ]
  },
  {
   "cell_type": "code",
   "execution_count": 21,
   "id": "fac1a9e5",
   "metadata": {},
   "outputs": [
    {
     "name": "stdout",
     "output_type": "stream",
     "text": [
      "21\n"
     ]
    }
   ],
   "source": [
    "std::cout << it -> second -> number << std::endl;"
   ]
  },
  {
   "cell_type": "code",
   "execution_count": 24,
   "id": "574ff499",
   "metadata": {},
   "outputs": [
    {
     "name": "stdout",
     "output_type": "stream",
     "text": [
      "21\n"
     ]
    }
   ],
   "source": [
    "{\n",
    "    //std::unique_ptr<Resource> a_copy = std::move(it -> second);\n",
    "    std::cout << it -> second -> number << std::endl;\n",
    "}"
   ]
  },
  {
   "cell_type": "code",
   "execution_count": 25,
   "id": "397108ab",
   "metadata": {},
   "outputs": [
    {
     "name": "stdout",
     "output_type": "stream",
     "text": [
      "000001:11\n",
      "000002:21\n",
      "000003:31\n"
     ]
    }
   ],
   "source": [
    "for(auto i = myMap.begin(); i!=myMap.end(); i++){\n",
    "    std::cout <<i->first << \":\" << i->second -> number << std::endl;\n",
    "}"
   ]
  },
  {
   "cell_type": "code",
   "execution_count": 26,
   "id": "ca7de421",
   "metadata": {},
   "outputs": [
    {
     "name": "stdout",
     "output_type": "stream",
     "text": [
      "21\n",
      "Resource destroyed\n"
     ]
    }
   ],
   "source": [
    "{\n",
    "    std::unique_ptr<Resource> a_copy = std::move(it -> second);\n",
    "    std::cout << a_copy -> number << std::endl;\n",
    "}"
   ]
  },
  {
   "cell_type": "code",
   "execution_count": null,
   "id": "0dab3fe2",
   "metadata": {},
   "outputs": [],
   "source": [
    "//for(auto i = myMap.begin(); i!=myMap.end(); i++){\n",
    "//    std::cout <<i->first << \":\" << i->second -> number << std::endl;\n",
    "//}"
   ]
  },
  {
   "cell_type": "markdown",
   "id": "cf19070d",
   "metadata": {},
   "source": [
    "why ? because the value of the 000002 is nullptr because std::move"
   ]
  },
  {
   "cell_type": "markdown",
   "id": "9b2f7070",
   "metadata": {},
   "source": [
    "# 2 understand unique_ptr further"
   ]
  },
  {
   "cell_type": "code",
   "execution_count": null,
   "id": "62e2f7da",
   "metadata": {},
   "outputs": [],
   "source": []
  },
  {
   "cell_type": "markdown",
   "id": "43722532",
   "metadata": {},
   "source": [
    "**std::unique_ptr<T,Deleter>::get**\n",
    "\n",
    "Returns a pointer to the managed object or nullptr if no object is owned."
   ]
  },
  {
   "cell_type": "code",
   "execution_count": 27,
   "id": "ccca5991",
   "metadata": {},
   "outputs": [
    {
     "name": "stdout",
     "output_type": "stream",
     "text": [
      "Resource acquired\n",
      "111\n"
     ]
    }
   ],
   "source": [
    "std::unique_ptr<Resource> up(new Resource{111});\n",
    "std::cout << up->number << std::endl;"
   ]
  },
  {
   "cell_type": "code",
   "execution_count": 30,
   "id": "70df14c5",
   "metadata": {},
   "outputs": [
    {
     "name": "stdout",
     "output_type": "stream",
     "text": [
      "I am a resource\n",
      "\n",
      "111\n"
     ]
    }
   ],
   "source": [
    "Resource* p = up.get();\n",
    "std::cout << *p << std::endl;\n",
    "std::cout << p -> number << std::endl;"
   ]
  },
  {
   "cell_type": "code",
   "execution_count": 32,
   "id": "96b19d26",
   "metadata": {},
   "outputs": [
    {
     "name": "stdout",
     "output_type": "stream",
     "text": [
      "I am a resource\n",
      "\n",
      "22\n"
     ]
    }
   ],
   "source": [
    "p -> number = 22;\n",
    "std::cout << *p << std::endl;\n",
    "std::cout << p -> number << std::endl;"
   ]
  },
  {
   "cell_type": "code",
   "execution_count": 33,
   "id": "15b7a9df",
   "metadata": {},
   "outputs": [
    {
     "name": "stdout",
     "output_type": "stream",
     "text": [
      "22\n"
     ]
    }
   ],
   "source": [
    "std::cout << up->number << std::endl;"
   ]
  },
  {
   "cell_type": "markdown",
   "id": "6795063c",
   "metadata": {},
   "source": [
    "***see***: the research subject of smart pointer is the pointer itself, which mean we can create a pointer which has many attributes we desired. such as the unique_ptr can not be copied constructed and copy assigned."
   ]
  },
  {
   "cell_type": "markdown",
   "id": "efcde94d",
   "metadata": {},
   "source": [
    "> std::unique_ptr is a smart pointer that owns and manages another object through a pointer and disposes of that object when the unique_ptr goes out of scope.\n",
    "\n",
    "The object is disposed of, using the associated deleter when either of the following happens:\n",
    "\n",
    "the managing unique_ptr object is destroyed\n",
    "\n",
    "the managing unique_ptr object is assigned another pointer via operator= or reset()"
   ]
  },
  {
   "cell_type": "markdown",
   "id": "e0ab2947",
   "metadata": {},
   "source": []
  },
  {
   "cell_type": "code",
   "execution_count": null,
   "id": "caba0ddb",
   "metadata": {},
   "outputs": [],
   "source": []
  }
 ],
 "metadata": {
  "kernelspec": {
   "display_name": "C++14",
   "language": "C++14",
   "name": "xcpp14"
  },
  "language_info": {
   "codemirror_mode": "text/x-c++src",
   "file_extension": ".cpp",
   "mimetype": "text/x-c++src",
   "name": "c++",
   "version": "14"
  }
 },
 "nbformat": 4,
 "nbformat_minor": 5
}
