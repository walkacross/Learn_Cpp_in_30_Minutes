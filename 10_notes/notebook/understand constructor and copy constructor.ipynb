{
 "cells": [
  {
   "cell_type": "code",
   "execution_count": 1,
   "id": "d41124bd",
   "metadata": {},
   "outputs": [],
   "source": [
    "#include <iostream>"
   ]
  },
  {
   "cell_type": "markdown",
   "id": "3d31e2df",
   "metadata": {},
   "source": [
    "# 1 understand constructor\n",
    "* 1.1 the important default constructor\n",
    "* 1.2 the explicit constructor and its calling method"
   ]
  },
  {
   "cell_type": "markdown",
   "id": "c1436fbe",
   "metadata": {},
   "source": [
    "### 1.1 the important default constructor"
   ]
  },
  {
   "cell_type": "code",
   "execution_count": 2,
   "id": "ea1b12b5",
   "metadata": {},
   "outputs": [],
   "source": [
    "class Resource{\n",
    "    \n",
    "    public:\n",
    "    \n",
    "    Resource(){\n",
    "        std::cout << \"call default constructor\" << std::endl;\n",
    "    }\n",
    "    \n",
    "    public:\n",
    "    int a;\n",
    "    \n",
    "    private:\n",
    "    int b;\n",
    "}"
   ]
  },
  {
   "cell_type": "code",
   "execution_count": 3,
   "id": "6afff9f3",
   "metadata": {},
   "outputs": [
    {
     "name": "stdout",
     "output_type": "stream",
     "text": [
      "call default constructor\n"
     ]
    }
   ],
   "source": [
    "// 1 the first way to call default constructor\n",
    "Resource a_source;"
   ]
  },
  {
   "cell_type": "code",
   "execution_count": 4,
   "id": "11853090",
   "metadata": {},
   "outputs": [
    {
     "name": "stdout",
     "output_type": "stream",
     "text": [
      "0\n"
     ]
    }
   ],
   "source": [
    "// sometimes, the scalar variable will be initilized to 0;\n",
    "std::cout << a_source.a << std::endl;"
   ]
  },
  {
   "cell_type": "code",
   "execution_count": 5,
   "id": "c4623b0a",
   "metadata": {},
   "outputs": [
    {
     "name": "stdout",
     "output_type": "stream",
     "text": [
      "call default constructor\n"
     ]
    }
   ],
   "source": [
    "// 2 the second way to call default constructor\n",
    "Resource b_source{};"
   ]
  },
  {
   "cell_type": "markdown",
   "id": "31d8641e",
   "metadata": {},
   "source": [
    "### 1.2 the explicit constructor and its calling method"
   ]
  },
  {
   "cell_type": "code",
   "execution_count": 6,
   "id": "d382438d",
   "metadata": {},
   "outputs": [],
   "source": [
    "class AnotherResource{\n",
    "    \n",
    "    public:\n",
    "    \n",
    "    AnotherResource(){\n",
    "        std::cout << \"call default constructor\" << std::endl;\n",
    "    }\n",
    "    \n",
    "    AnotherResource(int a, int b){\n",
    "        std::cout << \"call AnotherResource(int a, int b) constructor\" << std::endl;\n",
    "        this->a = a;\n",
    "        this->b = b; \n",
    "    }\n",
    "    \n",
    "    public:\n",
    "    int a;\n",
    "    \n",
    "    private:\n",
    "    int b;\n",
    "}"
   ]
  },
  {
   "cell_type": "code",
   "execution_count": 7,
   "id": "62415838",
   "metadata": {},
   "outputs": [
    {
     "name": "stdout",
     "output_type": "stream",
     "text": [
      "call AnotherResource(int a, int b) constructor\n"
     ]
    }
   ],
   "source": [
    "AnotherResource b_source(1,2);"
   ]
  },
  {
   "cell_type": "code",
   "execution_count": 8,
   "id": "8434efd1",
   "metadata": {},
   "outputs": [
    {
     "name": "stdout",
     "output_type": "stream",
     "text": [
      "call AnotherResource(int a, int b) constructor\n"
     ]
    }
   ],
   "source": [
    "AnotherResource c_source{2,3};"
   ]
  },
  {
   "cell_type": "code",
   "execution_count": 9,
   "id": "fd8fcce8",
   "metadata": {},
   "outputs": [
    {
     "name": "stdout",
     "output_type": "stream",
     "text": [
      "call AnotherResource(int a, int b) constructor\n"
     ]
    }
   ],
   "source": [
    "AnotherResource d_source = {3,4};"
   ]
  },
  {
   "cell_type": "code",
   "execution_count": 10,
   "id": "c209a82b",
   "metadata": {},
   "outputs": [
    {
     "name": "stdout",
     "output_type": "stream",
     "text": [
      "call AnotherResource(int a, int b) constructor\n"
     ]
    }
   ],
   "source": [
    "AnotherResource e_obj = AnotherResource{4,5};"
   ]
  },
  {
   "cell_type": "code",
   "execution_count": 11,
   "id": "253d8f14",
   "metadata": {},
   "outputs": [
    {
     "name": "stdout",
     "output_type": "stream",
     "text": [
      "call AnotherResource(int a, int b) constructor\n",
      "5\n"
     ]
    }
   ],
   "source": [
    "AnotherResource* ptr = new AnotherResource(5,6);\n",
    "std::cout << ptr-> a << std::endl;\n",
    "delete ptr;"
   ]
  },
  {
   "cell_type": "markdown",
   "id": "d093a1a1",
   "metadata": {},
   "source": [
    "# 2 understand copy constructor\n",
    "understand the all kinds of forms calling copy constructor"
   ]
  },
  {
   "cell_type": "code",
   "execution_count": 12,
   "id": "9659e07e",
   "metadata": {},
   "outputs": [],
   "source": [
    "class AssetResource{\n",
    "    \n",
    "    public:\n",
    "    \n",
    "    AssetResource(){\n",
    "        std::cout << \"call default constructor\" << std::endl;\n",
    "    }\n",
    "    \n",
    "    AssetResource(int a, int b){\n",
    "        std::cout << \"call AnotherResource(int a, int b) constructor\" << std::endl;\n",
    "        this->a = a;\n",
    "        this->b = b; \n",
    "    }\n",
    "    \n",
    "    AssetResource(const AssetResource& other){\n",
    "        std::cout << \"call AssetResource(const AssetResource& other) copy constructor\" << std::endl;\n",
    "        this->a = other.a;\n",
    "        this->b = other.b; \n",
    "    }\n",
    "    \n",
    "    public:\n",
    "    int a;\n",
    "    \n",
    "    private:\n",
    "    int b;\n",
    "}"
   ]
  },
  {
   "cell_type": "code",
   "execution_count": 13,
   "id": "ac50a25a",
   "metadata": {},
   "outputs": [
    {
     "name": "stdout",
     "output_type": "stream",
     "text": [
      "call AnotherResource(int a, int b) constructor\n"
     ]
    }
   ],
   "source": [
    "AssetResource first_asset_obj(1,2);"
   ]
  },
  {
   "cell_type": "markdown",
   "id": "36a05a64",
   "metadata": {},
   "source": [
    "### form1"
   ]
  },
  {
   "cell_type": "code",
   "execution_count": 14,
   "id": "e0cccaf2",
   "metadata": {},
   "outputs": [
    {
     "name": "stdout",
     "output_type": "stream",
     "text": [
      "call AssetResource(const AssetResource& other) copy constructor\n"
     ]
    }
   ],
   "source": [
    "AssetResource another_obj_from_other(first_asset_obj);"
   ]
  },
  {
   "cell_type": "markdown",
   "id": "9a6c6edf",
   "metadata": {},
   "source": [
    "### form2"
   ]
  },
  {
   "cell_type": "code",
   "execution_count": 15,
   "id": "55c8c8ed",
   "metadata": {},
   "outputs": [
    {
     "name": "stdout",
     "output_type": "stream",
     "text": [
      "call AssetResource(const AssetResource& other) copy constructor\n"
     ]
    }
   ],
   "source": [
    "// this is calling the copy constructor rather than the assignment\n",
    "AssetResource third_obj = first_asset_obj;"
   ]
  },
  {
   "cell_type": "markdown",
   "id": "646f2bf8",
   "metadata": {},
   "source": [
    "### form3: first call constructor and then call copy constructor ??"
   ]
  },
  {
   "cell_type": "code",
   "execution_count": 16,
   "id": "c86a6046",
   "metadata": {},
   "outputs": [
    {
     "name": "stdout",
     "output_type": "stream",
     "text": [
      "call AnotherResource(int a, int b) constructor\n"
     ]
    }
   ],
   "source": [
    "AssetResource d_obj = AssetResource{4,5};"
   ]
  },
  {
   "cell_type": "code",
   "execution_count": 17,
   "id": "55752b2d",
   "metadata": {},
   "outputs": [],
   "source": [
    "void print_resource(AssetResource obj){\n",
    "    std::cout << \"the attribute a inside AssetResource: \" << obj.a << std::endl;\n",
    "}"
   ]
  },
  {
   "cell_type": "code",
   "execution_count": 18,
   "id": "6696379b",
   "metadata": {},
   "outputs": [
    {
     "name": "stdout",
     "output_type": "stream",
     "text": [
      "call AssetResource(const AssetResource& other) copy constructor\n",
      "the attribute a inside AssetResource: 1\n"
     ]
    }
   ],
   "source": [
    "print_resource(first_asset_obj);"
   ]
  },
  {
   "cell_type": "code",
   "execution_count": null,
   "id": "b83ab385",
   "metadata": {},
   "outputs": [],
   "source": []
  },
  {
   "cell_type": "code",
   "execution_count": null,
   "id": "9a7379cd",
   "metadata": {},
   "outputs": [],
   "source": []
  }
 ],
 "metadata": {
  "kernelspec": {
   "display_name": "C++17",
   "language": "C++17",
   "name": "xcpp17"
  },
  "language_info": {
   "codemirror_mode": "text/x-c++src",
   "file_extension": ".cpp",
   "mimetype": "text/x-c++src",
   "name": "c++",
   "version": "17"
  }
 },
 "nbformat": 4,
 "nbformat_minor": 5
}
