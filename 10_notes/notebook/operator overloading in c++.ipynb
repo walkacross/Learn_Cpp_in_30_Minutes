{
 "cells": [
  {
   "cell_type": "code",
   "execution_count": null,
   "id": "50809ea2",
   "metadata": {},
   "outputs": [],
   "source": [
    "# operator overloading in c++"
   ]
  },
  {
   "cell_type": "markdown",
   "id": "7d0acb1d",
   "metadata": {},
   "source": [
    "# 1 Class Member Access Operator (->) Overloading"
   ]
  },
  {
   "cell_type": "code",
   "execution_count": null,
   "id": "efbb6c72",
   "metadata": {},
   "outputs": [],
   "source": [
    "https://www.tutorialspoint.com/cplusplus/class_member_access_operator_overloading.htm"
   ]
  }
 ],
 "metadata": {
  "kernelspec": {
   "display_name": "C++17",
   "language": "C++17",
   "name": "xcpp17"
  },
  "language_info": {
   "codemirror_mode": "text/x-c++src",
   "file_extension": ".cpp",
   "mimetype": "text/x-c++src",
   "name": "c++",
   "version": "17"
  }
 },
 "nbformat": 4,
 "nbformat_minor": 5
}
