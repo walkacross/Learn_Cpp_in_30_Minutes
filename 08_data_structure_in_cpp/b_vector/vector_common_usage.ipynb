{
 "cells": [
  {
   "cell_type": "code",
   "execution_count": 1,
   "id": "b6f82cfd",
   "metadata": {},
   "outputs": [],
   "source": [
    "#include <vector>\n",
    "#include <iostream>\n",
    "#include <string>\n",
    "#include <algorithm>"
   ]
  },
  {
   "cell_type": "code",
   "execution_count": 2,
   "id": "8d2eba55",
   "metadata": {},
   "outputs": [],
   "source": [
    "template <typename T>\n",
    "std::ostream & operator << (std::ostream & os, const std::vector<T> & vec)\n",
    "{\n",
    "    for(auto elem : vec)\n",
    "    {\n",
    "        os<<elem<< \" \";\n",
    "    }\n",
    "    return os;\n",
    "}"
   ]
  },
  {
   "cell_type": "markdown",
   "id": "0cff6d84",
   "metadata": {},
   "source": [
    "## 1 create a vector from an existing vector: call copy constructor"
   ]
  },
  {
   "cell_type": "code",
   "execution_count": 3,
   "id": "181ec76f",
   "metadata": {},
   "outputs": [],
   "source": [
    "std::vector<std::string> a_vector = {\"a\",\"ccc\",\"ddd\",\"e\"};"
   ]
  },
  {
   "cell_type": "code",
   "execution_count": 4,
   "id": "1e357137",
   "metadata": {},
   "outputs": [],
   "source": [
    "std::vector<std::string> another(a_vector);"
   ]
  },
  {
   "cell_type": "code",
   "execution_count": 5,
   "id": "7262e760",
   "metadata": {},
   "outputs": [
    {
     "name": "stdout",
     "output_type": "stream",
     "text": [
      "a ccc ddd e \n"
     ]
    }
   ],
   "source": [
    "std::cout << another << std::endl;"
   ]
  },
  {
   "cell_type": "markdown",
   "id": "963806d9",
   "metadata": {},
   "source": [
    "## 2 create a vector from last elements of an existing vector"
   ]
  },
  {
   "cell_type": "code",
   "execution_count": 6,
   "id": "f8fb1e95",
   "metadata": {},
   "outputs": [],
   "source": [
    "std::int64_t n = 3;"
   ]
  },
  {
   "cell_type": "code",
   "execution_count": 7,
   "id": "10b05792",
   "metadata": {},
   "outputs": [
    {
     "name": "stdout",
     "output_type": "stream",
     "text": [
      "3"
     ]
    }
   ],
   "source": [
    "std::cout << std::min(int(n),int(a_vector.size())); "
   ]
  },
  {
   "cell_type": "code",
   "execution_count": 8,
   "id": "d5f5d622",
   "metadata": {},
   "outputs": [],
   "source": [
    "std::vector<std::string> last_n_vector(a_vector.end()-std::min(int(n),int(a_vector.size())), a_vector.end());"
   ]
  },
  {
   "cell_type": "code",
   "execution_count": 9,
   "id": "4bc7938c",
   "metadata": {},
   "outputs": [
    {
     "name": "stdout",
     "output_type": "stream",
     "text": [
      "ccc ddd e \n"
     ]
    }
   ],
   "source": [
    "std::cout << last_n_vector << std::endl;"
   ]
  },
  {
   "cell_type": "markdown",
   "id": "5c2115c2",
   "metadata": {},
   "source": [
    "## 3 concat two vector"
   ]
  },
  {
   "cell_type": "code",
   "execution_count": 10,
   "id": "d92d9cc4",
   "metadata": {},
   "outputs": [],
   "source": [
    "std::vector<int> x = { 1, 2, 7};\n",
    "std::vector<int> y = { 4, 5 };\n",
    " \n",
    "// 1. Copy constructor + vector::insert\n",
    " \n",
    "std::vector<int> v(x);\n",
    "v.insert(v.end(), y.begin(), y.end());"
   ]
  },
  {
   "cell_type": "code",
   "execution_count": 11,
   "id": "2727f2e1",
   "metadata": {},
   "outputs": [
    {
     "name": "stdout",
     "output_type": "stream",
     "text": [
      "1 2 7 4 5 \n"
     ]
    }
   ],
   "source": [
    "std::cout << v << std::endl;"
   ]
  },
  {
   "cell_type": "code",
   "execution_count": null,
   "id": "3d4a9f32",
   "metadata": {},
   "outputs": [],
   "source": []
  }
 ],
 "metadata": {
  "kernelspec": {
   "display_name": "C++17",
   "language": "C++17",
   "name": "xcpp17"
  },
  "language_info": {
   "codemirror_mode": "text/x-c++src",
   "file_extension": ".cpp",
   "mimetype": "text/x-c++src",
   "name": "c++",
   "version": "17"
  }
 },
 "nbformat": 4,
 "nbformat_minor": 5
}
