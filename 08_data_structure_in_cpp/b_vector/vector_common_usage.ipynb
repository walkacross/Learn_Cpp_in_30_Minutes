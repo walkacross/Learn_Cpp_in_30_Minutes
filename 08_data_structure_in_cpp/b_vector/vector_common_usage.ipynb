{
 "cells": [
  {
   "cell_type": "code",
   "execution_count": 1,
   "id": "b6f82cfd",
   "metadata": {},
   "outputs": [],
   "source": [
    "#include <vector>\n",
    "#include <iostream>\n",
    "#include <string>\n",
    "#include <algorithm>\n",
    "#include <memory>"
   ]
  },
  {
   "cell_type": "code",
   "execution_count": 2,
   "id": "8d2eba55",
   "metadata": {},
   "outputs": [],
   "source": [
    "template <typename T>\n",
    "std::ostream & operator << (std::ostream & os, const std::vector<T> & vec)\n",
    "{\n",
    "    for(auto elem : vec)\n",
    "    {\n",
    "        os<<elem<< \" \";\n",
    "    }\n",
    "    return os;\n",
    "}"
   ]
  },
  {
   "cell_type": "markdown",
   "id": "0cff6d84",
   "metadata": {},
   "source": [
    "## 1 create a vector from an existing vector: call copy constructor"
   ]
  },
  {
   "cell_type": "code",
   "execution_count": 3,
   "id": "181ec76f",
   "metadata": {},
   "outputs": [],
   "source": [
    "std::vector<std::string> a_vector = {\"a\",\"ccc\",\"ddd\",\"e\"};"
   ]
  },
  {
   "cell_type": "code",
   "execution_count": 4,
   "id": "1e357137",
   "metadata": {},
   "outputs": [],
   "source": [
    "std::vector<std::string> another(a_vector);"
   ]
  },
  {
   "cell_type": "code",
   "execution_count": 5,
   "id": "7262e760",
   "metadata": {},
   "outputs": [
    {
     "name": "stdout",
     "output_type": "stream",
     "text": [
      "a ccc ddd e \n"
     ]
    }
   ],
   "source": [
    "std::cout << another << std::endl;"
   ]
  },
  {
   "cell_type": "markdown",
   "id": "963806d9",
   "metadata": {},
   "source": [
    "## 2 create a vector from last elements of an existing vector"
   ]
  },
  {
   "cell_type": "code",
   "execution_count": 6,
   "id": "f8fb1e95",
   "metadata": {},
   "outputs": [],
   "source": [
    "std::int64_t n = 3;"
   ]
  },
  {
   "cell_type": "code",
   "execution_count": 7,
   "id": "10b05792",
   "metadata": {},
   "outputs": [
    {
     "name": "stdout",
     "output_type": "stream",
     "text": [
      "3"
     ]
    }
   ],
   "source": [
    "std::cout << std::min(int(n),int(a_vector.size())); "
   ]
  },
  {
   "cell_type": "code",
   "execution_count": 8,
   "id": "d5f5d622",
   "metadata": {},
   "outputs": [],
   "source": [
    "std::vector<std::string> last_n_vector(a_vector.end()-std::min(int(n),int(a_vector.size())), a_vector.end());"
   ]
  },
  {
   "cell_type": "code",
   "execution_count": 9,
   "id": "4bc7938c",
   "metadata": {},
   "outputs": [
    {
     "name": "stdout",
     "output_type": "stream",
     "text": [
      "ccc ddd e \n"
     ]
    }
   ],
   "source": [
    "std::cout << last_n_vector << std::endl;"
   ]
  },
  {
   "cell_type": "markdown",
   "id": "5c2115c2",
   "metadata": {},
   "source": [
    "## 3 concat two vector"
   ]
  },
  {
   "cell_type": "code",
   "execution_count": 10,
   "id": "d92d9cc4",
   "metadata": {},
   "outputs": [],
   "source": [
    "std::vector<int> x = { 1, 2, 7};\n",
    "std::vector<int> y = { 4, 5 };\n",
    " \n",
    "// 1. Copy constructor + vector::insert\n",
    " \n",
    "std::vector<int> v(x);\n",
    "v.insert(v.end(), y.begin(), y.end());"
   ]
  },
  {
   "cell_type": "code",
   "execution_count": 11,
   "id": "2727f2e1",
   "metadata": {},
   "outputs": [
    {
     "name": "stdout",
     "output_type": "stream",
     "text": [
      "1 2 7 4 5 \n"
     ]
    }
   ],
   "source": [
    "std::cout << v << std::endl;"
   ]
  },
  {
   "cell_type": "markdown",
   "id": "b36ab275",
   "metadata": {},
   "source": [
    "# appendix 1: shared_ptr with vector"
   ]
  },
  {
   "cell_type": "markdown",
   "id": "52f6dd3d",
   "metadata": {},
   "source": [
    "https://stackoverflow.com/questions/28733385/c11-vector-of-smart-pointer"
   ]
  },
  {
   "cell_type": "code",
   "execution_count": 12,
   "id": "9e8037fa",
   "metadata": {},
   "outputs": [],
   "source": [
    "class Base {\n",
    "    public:\n",
    "    virtual void f() { std::cout << \"Base::f()\" << std::endl;}\n",
    "    //virtual ~Base() = default; // to silence -Wall warnings\n",
    "}"
   ]
  },
  {
   "cell_type": "code",
   "execution_count": 13,
   "id": "5a2d0467",
   "metadata": {},
   "outputs": [],
   "source": [
    "class Derived: public Base {\n",
    "    void f() override { std::cout << \"Derived::f()\" << std::endl;}\n",
    "};"
   ]
  },
  {
   "cell_type": "code",
   "execution_count": 14,
   "id": "d7418faf",
   "metadata": {},
   "outputs": [
    {
     "name": "stdout",
     "output_type": "stream",
     "text": [
      "Base::f()\n",
      "Derived::f()\n"
     ]
    }
   ],
   "source": [
    "{\n",
    "    std::vector<std::shared_ptr<Base>> vsp; // access Derived via shared_ptr to Base\n",
    "\n",
    "    std::shared_ptr<Base> base = std::make_shared<Base>();\n",
    "    std::shared_ptr<Derived> derived = std::make_shared<Derived>();\n",
    "\n",
    "    vsp.push_back(base);\n",
    "    vsp.push_back(derived);\n",
    "\n",
    "    for(auto&& elem: vsp)\n",
    "        elem->f(); // virtual dispatch\n",
    "}"
   ]
  },
  {
   "cell_type": "markdown",
   "id": "442d6c65",
   "metadata": {},
   "source": [
    "## appendix 2: access std::unique_ptr element from vector"
   ]
  },
  {
   "cell_type": "markdown",
   "id": "32d72f6e",
   "metadata": {},
   "source": [
    "https://stackoverflow.com/questions/20773351/error-after-trying-to-get-unique-ptr-element-from-vector\n",
    "\n",
    "https://stackoverflow.com/questions/47478481/access-unique-ptr-elements-in-container"
   ]
  },
  {
   "cell_type": "markdown",
   "id": "d1d52a64",
   "metadata": {},
   "source": [
    "### take ownership solution\n",
    "\n",
    "unique_ptr cannot be copied or assigned. It needs to be move copied or move assigned. You can achieve this by use of std::move:\n",
    "\n",
    "~~~\n",
    "std::unique_ptr<A> a = std::move(vec_a.at(0));\n",
    "~~~\n",
    "\n",
    "The call to std::move essentially allows you to treat the RHS as an rvalue, which can then be used in unique_ptr'a move copy constructor.\n",
    "\n",
    "Note that after this, you will have to be careful with the first element of vec_a.\n",
    "\n",
    "### not take ownership solution\n",
    "\n",
    "#### approch 1:  get the raw pointer from the unique_ptr\n",
    "If you don't want to take ownership of the pointer away from the vector, simply access the managed pointer directly:\n",
    "\n",
    "In modern C++ raw pointers denote non-owning relationships, so use xxx.get() to get the raw pointer from the unique_ptr\n",
    "\n",
    "~~~\n",
    "A* a = vec_a.at(0).get();\n",
    "~~~\n",
    "**You have to be careful not to use a after the object it points to has ceased to exist.**\n",
    "\n",
    "#### approch 2: get a reference to the pointed-to object\n",
    "If you are certain that all objects in the container are non-null, then obtaining a reference to the pointed-to object is a perfectly valid approach.\n",
    "~~~\n",
    "const A& pointed_to_object_reference = *vec_a.at(0);\n",
    "~~~\n",
    "\n",
    "#### approch 3: get a reference to the unique_ptr itself\n",
    "Obtain a reference to the unique_ptr itself, which allows you to assign a value to it in the event you want to change the object it points to.\n",
    "~~~\n",
    "std::unique_ptr<A>& unique_ptr_reference = vec_a.at(0);\n",
    "~~~\n"
   ]
  },
  {
   "cell_type": "code",
   "execution_count": 15,
   "id": "3caa6dda",
   "metadata": {},
   "outputs": [
    {
     "name": "stdout",
     "output_type": "stream",
     "text": [
      "Base::f()\n",
      "is null\n",
      "vec_a.at(0) is a nullptr now\n",
      "Base::f()\n",
      "not null\n",
      "Base::f()\n",
      "Base::f()\n"
     ]
    }
   ],
   "source": [
    "{\n",
    "  std::vector<std::unique_ptr<Base>> vec_a;\n",
    "  std::unique_ptr<Base> tmp_a = std::unique_ptr<Base>(new Base());\n",
    "\n",
    "  vec_a.push_back(std::move(tmp_a));\n",
    "\n",
    "  vec_a.push_back(std::unique_ptr<Base>(new Base()));\n",
    "    \n",
    "  // how to access the unique_ptr from a vector?\n",
    "  std::unique_ptr<Base> a = std::move(vec_a.at(0));\n",
    "  a->f();\n",
    "  \n",
    "  // check nullptr\n",
    "  if (static_cast<bool>(vec_a.at(0))){\n",
    "      std::cout << \"not null\" << std::endl;\n",
    "  } else {\n",
    "      std::cout << \"is null\" << std::endl;\n",
    "  }\n",
    "    \n",
    "  // another approch to check    \n",
    "  if (vec_a.at(0)){\n",
    "      std::cout << \"vec_a.at(0) is not a nullptr\" << std::endl; \n",
    "  } else {\n",
    "      std::cout << \"vec_a.at(0) is a nullptr now\" << std::endl;\n",
    "  }\n",
    "      \n",
    "  Base* raw_ptr = vec_a.at(1).get();\n",
    "  raw_ptr->f();\n",
    "  \n",
    "  if (static_cast<bool>(vec_a.at(1))){\n",
    "      std::cout << \"not null\" << std::endl;\n",
    "  } else {\n",
    "      std::cout << \"is null\" << std::endl;\n",
    "  }\n",
    "\n",
    "  Base& pointed_to_object_reference = *vec_a.at(1);\n",
    "  pointed_to_object_reference.f();\n",
    "  \n",
    "  std::unique_ptr<Base>& unique_ptr_reference = vec_a.at(1);\n",
    "  unique_ptr_reference->f();\n",
    "}"
   ]
  },
  {
   "cell_type": "code",
   "execution_count": null,
   "id": "4cd27aaf",
   "metadata": {},
   "outputs": [],
   "source": []
  }
 ],
 "metadata": {
  "kernelspec": {
   "display_name": "C++17",
   "language": "C++17",
   "name": "xcpp17"
  },
  "language_info": {
   "codemirror_mode": "text/x-c++src",
   "file_extension": ".cpp",
   "mimetype": "text/x-c++src",
   "name": "c++",
   "version": "17"
  }
 },
 "nbformat": 4,
 "nbformat_minor": 5
}
