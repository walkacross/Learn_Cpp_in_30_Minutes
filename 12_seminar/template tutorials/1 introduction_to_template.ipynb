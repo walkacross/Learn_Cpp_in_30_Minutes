{
 "cells": [
  {
   "cell_type": "markdown",
   "id": "13ee02bc",
   "metadata": {},
   "source": [
    "# introduction to template"
   ]
  },
  {
   "cell_type": "markdown",
   "id": "6e53be2f",
   "metadata": {},
   "source": [
    "# 1 motivation"
   ]
  },
  {
   "cell_type": "markdown",
   "id": "70aeb6a7",
   "metadata": {},
   "source": [
    "As a strongly-typed language, C++ requires all variables to have a specific type, either explicitly declared by the programmer or deduced by the compiler. However, many data structures and algorithms look the same no matter what type they are operating on. Templates enable you to define the operations of a class or function, and let the user specify what concrete types those operations should work on.\n",
    "\n",
    "in short, Function templates are special functions that can operate with generic types. This allows us to create a function template whose functionality can be adapted to more than one type or class without repeating the entire code for each type.\n",
    "\n",
    "**In C++ this can be achieved using template parameters. A template parameter is a special kind of parameter that can be used to pass a type as argument: just like regular function parameters can be used to pass values to a function, template parameters allow to pass also types to a function. These function templates can use these parameters as if they were any other regular type.**"
   ]
  },
  {
   "cell_type": "markdown",
   "id": "55316072",
   "metadata": {},
   "source": [
    "# 2 how to declare and define template function?"
   ]
  },
  {
   "cell_type": "markdown",
   "id": "773bdcf3",
   "metadata": {},
   "source": [
    "The format for declaring function templates with type parameters is:\n",
    "~~~\n",
    "template <class identifier> function_declaration;\n",
    "template <typename identifier> function_declaration;\n",
    "~~~\n",
    "The only difference between both prototypes is the use of either the keyword class or the keyword typename. Its use is indistinct, since both expressions have exactly the same meaning and behave exactly the same way.\n",
    "\n",
    "For example, to create a template function that returns the greater one of two objects we could use:\n"
   ]
  },
  {
   "cell_type": "code",
   "execution_count": 2,
   "id": "cf1a3f7f",
   "metadata": {},
   "outputs": [],
   "source": [
    "template <class myType>\n",
    "myType GetMax (myType a, myType b) {\n",
    " return (a>b?a:b);\n",
    "}"
   ]
  },
  {
   "cell_type": "markdown",
   "id": "3dc4660c",
   "metadata": {},
   "source": [
    "Here we have created a template function with myType as its template parameter. This template parameter represents a type that has not yet been specified, but that can be used in the template function as if it were a regular type. As you can see, the function template GetMax returns the greater of two parameters of this still-undefined type.\n",
    "\n",
    "To use this function template we use the following format for the function call:\n",
    "~~~\n",
    "function_name <type> (parameters);\n",
    "~~~\n",
    "\n",
    "For example, to call GetMax to compare two integer values of type int we can write:\n",
    "~~~\n",
    "int x,y;\n",
    "GetMax <int> (x,y);\n",
    "~~~"
   ]
  },
  {
   "cell_type": "markdown",
   "id": "60437708",
   "metadata": {},
   "source": [
    "# 3 how to use it?"
   ]
  },
  {
   "cell_type": "markdown",
   "id": "e5a16765",
   "metadata": {},
   "source": [
    "When the compiler encounters this call to a template function, it uses the template to automatically generate a function replacing each appearance of myType by the type passed as the actual template parameter (int in this case) and then calls it. This process is automatically performed by the compiler and is invisible to the programmer.\n",
    "\n",
    "Here is the entire example:"
   ]
  },
  {
   "cell_type": "code",
   "execution_count": 6,
   "id": "5e330471",
   "metadata": {},
   "outputs": [],
   "source": [
    "// function template\n",
    "#include <iostream>\n",
    "using namespace std;"
   ]
  },
  {
   "cell_type": "code",
   "execution_count": 7,
   "id": "66b4e1ef",
   "metadata": {},
   "outputs": [],
   "source": [
    "template <class T>\n",
    "T GetMax (T a, T b) {\n",
    "  T result;\n",
    "  result = (a>b)? a : b;\n",
    "  return (result);\n",
    "};"
   ]
  },
  {
   "cell_type": "code",
   "execution_count": 8,
   "id": "d14d000d",
   "metadata": {},
   "outputs": [],
   "source": [
    "int main () {\n",
    "  int i=5, j=6, k;\n",
    "  long l=10, m=5, n;\n",
    "  k=GetMax<int>(i,j);\n",
    "  n=GetMax<long>(l,m);\n",
    "  cout << k << endl;\n",
    "  cout << n << endl;\n",
    "  return 0;\n",
    "};"
   ]
  },
  {
   "cell_type": "code",
   "execution_count": 9,
   "id": "f385cc31",
   "metadata": {},
   "outputs": [
    {
     "name": "stdout",
     "output_type": "stream",
     "text": [
      "6\n",
      "10\n"
     ]
    }
   ],
   "source": [
    "main();"
   ]
  },
  {
   "cell_type": "markdown",
   "id": "e5b740ad",
   "metadata": {},
   "source": [
    "In this case, we have used T as the template parameter name instead of myType because it is shorter and in fact is a very common template parameter name. But you can use any identifier you like.\n",
    "\n",
    "In the example above we used the function template GetMax() twice. The first time with arguments of type int and the second one with arguments of type long. The compiler has instantiated and then called each time the appropriate version of the function.\n",
    "\n",
    "As you can see, the type T is used within the GetMax() template function even to declare new objects of that type:\n",
    "~~~\n",
    "T result;\n",
    "~~~\n",
    "Therefore, result will be an object of the same type as the parameters a and b when the function template is instantiated with a specific type."
   ]
  },
  {
   "cell_type": "markdown",
   "id": "17e48113",
   "metadata": {},
   "source": [
    "# 4 how template work?"
   ]
  },
  {
   "cell_type": "markdown",
   "id": "35d7ede2",
   "metadata": {},
   "source": [
    "![](https://media.geeksforgeeks.org/wp-content/cdn-uploads/gq/2014/06/templates-cpp.jpg)"
   ]
  },
  {
   "cell_type": "markdown",
   "id": "7ac94b56",
   "metadata": {},
   "source": [
    "# 5 Class templates\n",
    "We also have the possibility to write class templates, so that a class can have members that use template parameters as types. For example:"
   ]
  },
  {
   "cell_type": "code",
   "execution_count": 13,
   "id": "48335e2b",
   "metadata": {},
   "outputs": [],
   "source": [
    "template <class T>\n",
    "class mypair {\n",
    "    T values [2];\n",
    "  public:\n",
    "    mypair (T first, T second)\n",
    "    {\n",
    "      values[0]=first; values[1]=second;\n",
    "    }\n",
    "};"
   ]
  },
  {
   "cell_type": "markdown",
   "id": "3319ce20",
   "metadata": {},
   "source": [
    "The class that we have just defined serves to store two elements of any valid type. For example, if we wanted to declare an object of this class to store two integer values of type int with the values 115 and 36 we would write:\n",
    "~~~\n",
    "mypair<int> myobject (115, 36); \n",
    "~~~\n",
    "\n",
    "this same class would also be used to create an object to store any other type:\n",
    "~~~\n",
    "mypair<double> myfloats (3.0, 2.18); \n",
    "~~~\n",
    "\n",
    "The only member function in the previous class template has been defined inline within the class declaration itself. In case that we define a function member outside the declaration of the class template, we must always precede that definition with the template <...> prefix:"
   ]
  },
  {
   "cell_type": "code",
   "execution_count": 15,
   "id": "c8022d1d",
   "metadata": {},
   "outputs": [],
   "source": [
    "template <class T>\n",
    "class mypair {\n",
    "    T a, b;\n",
    "  public:\n",
    "    mypair (T first, T second)\n",
    "      {a=first; b=second;}\n",
    "    T getmax ();\n",
    "};\n",
    "\n",
    "template <class T>\n",
    "T mypair<T>::getmax ()\n",
    "{\n",
    "  T retval;\n",
    "  retval = a>b? a : b;\n",
    "  return retval;\n",
    "};\n",
    "\n",
    "int main () {\n",
    "  mypair <int> myobject (100, 75);\n",
    "  cout << myobject.getmax();\n",
    "  return 0;\n",
    "};"
   ]
  },
  {
   "cell_type": "code",
   "execution_count": 16,
   "id": "70a65aa5",
   "metadata": {},
   "outputs": [
    {
     "name": "stdout",
     "output_type": "stream",
     "text": [
      "100"
     ]
    }
   ],
   "source": [
    "main();"
   ]
  },
  {
   "cell_type": "markdown",
   "id": "2cdefdc6",
   "metadata": {},
   "source": [
    "# Q&A"
   ]
  },
  {
   "cell_type": "markdown",
   "id": "ebdc4198",
   "metadata": {},
   "source": [
    "## 1 What is the difference between function overloading and templates? \n",
    "\n",
    "Both function overloading and templates are examples of polymorphism features of OOP. Function overloading is used when multiple functions do quite similar (not identical) operations, templates are used when multiple functions do identical operations."
   ]
  },
  {
   "cell_type": "markdown",
   "id": "9ec37a5e",
   "metadata": {},
   "source": [
    "# 2 what kind types can be template parameter?\n",
    "\n",
    "* 2.1 Any built-in or user-defined type can be used as a type argument.\n",
    "* 2.2 C++ templates support non-type parameters, also called value parameters.\n",
    "* 2.3 A template can be a template parameter."
   ]
  },
  {
   "cell_type": "markdown",
   "id": "2ed1499e",
   "metadata": {},
   "source": [
    "### 2.1 Any built-in or user-defined type can be used as a type argument."
   ]
  },
  {
   "cell_type": "markdown",
   "id": "4cc5007f",
   "metadata": {},
   "source": [
    "### 2.2 C++ templates support non-type parameters, also called value parameters."
   ]
  },
  {
   "cell_type": "markdown",
   "id": "8134edc0",
   "metadata": {},
   "source": [
    "Unlike generic types in other languages such as C# and Java, C++ templates support non-type parameters, also called value parameters. \n",
    "\n",
    "that means, Besides the template arguments that are preceded by the class or typename keywords , which represent types, templates can also have regular typed parameters, similar to those found in functions. As an example, have a look at this class template that is used to contain sequences of elements:\n"
   ]
  },
  {
   "cell_type": "code",
   "execution_count": null,
   "id": "f1a8bce5",
   "metadata": {},
   "outputs": [],
   "source": [
    "template <class T, int N>\n",
    "class mysequence {\n",
    "    T memblock [N];\n",
    "  public:\n",
    "    void setmember (int x, T value);\n",
    "    T getmember (int x);\n",
    "};\n",
    "\n",
    "template <class T, int N>\n",
    "void mysequence<T,N>::setmember (int x, T value) {\n",
    "  memblock[x]=value;\n",
    "}\n",
    "\n",
    "template <class T, int N>\n",
    "T mysequence<T,N>::getmember (int x) {\n",
    "  return memblock[x];\n",
    "};\n",
    "\n",
    "int main () {\n",
    "  mysequence <int,5> myints;\n",
    "  mysequence <double,5> myfloats;\n",
    "  myints.setmember (0,100);\n",
    "  myfloats.setmember (3,3.1416);\n",
    "  cout << myints.getmember(0) << '\\n';\n",
    "  cout << myfloats.getmember(3) << '\\n';\n",
    "  return 0;\n",
    "};"
   ]
  },
  {
   "cell_type": "code",
   "execution_count": 21,
   "id": "c9aaef5c",
   "metadata": {},
   "outputs": [
    {
     "name": "stdout",
     "output_type": "stream",
     "text": [
      "100\n",
      "3.1416\n"
     ]
    }
   ],
   "source": [
    "main();"
   ]
  },
  {
   "cell_type": "markdown",
   "id": "25bb3bf0",
   "metadata": {},
   "source": [
    "### 2.3 A template can be a template parameter."
   ]
  },
  {
   "cell_type": "markdown",
   "id": "41cc3641",
   "metadata": {},
   "source": [
    "A template can be a template parameter. In this example, MyClass2 has two template parameters: a typename parameter T and a template parameter Arr:"
   ]
  },
  {
   "cell_type": "code",
   "execution_count": null,
   "id": "5021de78",
   "metadata": {},
   "outputs": [],
   "source": [
    "template<typename T, size_t L>\n",
    "class MyArray\n",
    "{\n",
    "    T arr[L];\n",
    "public:\n",
    "    MyArray() { ... }\n",
    "};\n",
    "\n",
    "template<typename T, template<typename U, int I> class Arr>\n",
    "class MyClass2\n",
    "{\n",
    "    T t; //OK\n",
    "    Arr<T, 10> a;\n",
    "    U u; //Error. U not in scope\n",
    "};"
   ]
  },
  {
   "cell_type": "markdown",
   "id": "b3013a05",
   "metadata": {},
   "source": [
    "## 3 how many template arguments can be passed to template ?"
   ]
  },
  {
   "cell_type": "markdown",
   "id": "8a975b38",
   "metadata": {},
   "source": [
    "There is no practical limit to the number of type parameters. Separate multiple parameters by commas:"
   ]
  },
  {
   "cell_type": "code",
   "execution_count": 23,
   "id": "892f9a7e",
   "metadata": {},
   "outputs": [],
   "source": [
    "template <typename T, typename U, typename V> class Foo{};"
   ]
  },
  {
   "cell_type": "markdown",
   "id": "30afd169",
   "metadata": {},
   "source": [
    "The keyword class is equivalent to typename in this context. You can express the previous example as:"
   ]
  },
  {
   "cell_type": "code",
   "execution_count": 25,
   "id": "e40a3b0b",
   "metadata": {},
   "outputs": [],
   "source": [
    "template <class T, class U, class V> class Foo{};"
   ]
  },
  {
   "cell_type": "markdown",
   "id": "da57caf0",
   "metadata": {},
   "source": [
    "You can use the ellipsis operator (...) to define a template that takes an arbitrary number of zero or more type parameters:"
   ]
  },
  {
   "cell_type": "code",
   "execution_count": 27,
   "id": "ca3dd8b6",
   "metadata": {},
   "outputs": [],
   "source": [
    "template<typename... Arguments> class vtclass{};\n",
    "\n",
    "vtclass< > vtinstance1;\n",
    "vtclass<int> vtinstance2;\n",
    "vtclass<float, bool> vtinstance3;"
   ]
  },
  {
   "cell_type": "markdown",
   "id": "70bfc276",
   "metadata": {},
   "source": [
    "## 4 how to define and use Default template arguments"
   ]
  },
  {
   "cell_type": "markdown",
   "id": "a1b799a1",
   "metadata": {},
   "source": [
    "Class and function templates can have default arguments. When a template has a default argument you can leave it unspecified when you use it. For example, the std::vector template has a default argument for the allocator:"
   ]
  },
  {
   "cell_type": "code",
   "execution_count": 28,
   "id": "597f9268",
   "metadata": {},
   "outputs": [],
   "source": [
    "template <class T, class Allocator = allocator<T>> class vector;"
   ]
  },
  {
   "cell_type": "markdown",
   "id": "d8031ede",
   "metadata": {},
   "source": [
    "In most cases the default std::allocator class is acceptable, so you use a vector like this:"
   ]
  },
  {
   "cell_type": "code",
   "execution_count": 29,
   "id": "ea98d8a6",
   "metadata": {},
   "outputs": [],
   "source": [
    "vector<int> myInts;"
   ]
  },
  {
   "cell_type": "markdown",
   "id": "fc0389ac",
   "metadata": {},
   "source": [
    "**For multiple template arguments, all arguments after the first default argument must have default arguments.**\n",
    "\n",
    "When using a template whose parameters are all defaulted, use empty angle brackets:"
   ]
  },
  {
   "cell_type": "code",
   "execution_count": 32,
   "id": "0168e4d7",
   "metadata": {},
   "outputs": [],
   "source": [
    "template<typename A = int, typename B = double>\n",
    "class Bar\n",
    "{\n",
    "    //...\n",
    "};\n",
    "\n",
    "int main()\n",
    "{\n",
    "    Bar<> bar; // use all default type arguments\n",
    "};"
   ]
  },
  {
   "cell_type": "markdown",
   "id": "2f253c05",
   "metadata": {},
   "source": [
    "# Appendix1: Using the typename Keyword in C++"
   ]
  },
  {
   "cell_type": "markdown",
   "id": "3cbdf925",
   "metadata": {},
   "source": [
    "As a general rule, the typename keyword is mandatory to use before a qualified or dependent name that refers to a type.\n",
    "\n",
    "So, the keyword typename is introduced to specify that the identifier that follows is a type rather than a static member variable."
   ]
  },
  {
   "cell_type": "code",
   "execution_count": null,
   "id": "32625028",
   "metadata": {},
   "outputs": [],
   "source": [
    "class A {\n",
    "    public:\n",
    "        typedef int myPtr;\n",
    "};\n",
    "\n",
    "template <class T>\n",
    "class myClass {\n",
    "    public:\n",
    "        typename T::SubType * myPtr;\n",
    "}"
   ]
  },
  {
   "cell_type": "markdown",
   "id": "1f65121b",
   "metadata": {},
   "source": [
    "T::SubType * myptr //compiler will think it's multiplication\n",
    "    \n",
    "If we don’t use the keyword typename in the above code, it will lead to a compile-time error because the compiler doesn’t know whether T::SubType will refer to a type name or a static member of T."
   ]
  },
  {
   "cell_type": "markdown",
   "id": "b778adcf",
   "metadata": {},
   "source": [
    "https://stackoverflow.com/questions/610245/where-and-why-do-i-have-to-put-the-template-and-typename-keywords"
   ]
  },
  {
   "cell_type": "markdown",
   "id": "3aafc189",
   "metadata": {},
   "source": [
    "# reference\n",
    "\n",
    "* https://cplusplus.com/doc/oldtutorial/templates/\n",
    "* https://docs.microsoft.com/en-us/cpp/cpp/templates-cpp?view=msvc-170"
   ]
  },
  {
   "cell_type": "code",
   "execution_count": null,
   "id": "dc237962",
   "metadata": {},
   "outputs": [],
   "source": []
  },
  {
   "cell_type": "code",
   "execution_count": null,
   "id": "b3951854",
   "metadata": {},
   "outputs": [],
   "source": []
  }
 ],
 "metadata": {
  "kernelspec": {
   "display_name": "C++17",
   "language": "C++17",
   "name": "xcpp17"
  },
  "language_info": {
   "codemirror_mode": "text/x-c++src",
   "file_extension": ".cpp",
   "mimetype": "text/x-c++src",
   "name": "c++",
   "version": "17"
  }
 },
 "nbformat": 4,
 "nbformat_minor": 5
}
