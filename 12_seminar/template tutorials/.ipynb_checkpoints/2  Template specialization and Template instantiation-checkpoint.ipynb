{
 "cells": [
  {
   "cell_type": "markdown",
   "id": "1f8a180f",
   "metadata": {},
   "source": [
    "# Template specialization and Template instantiation"
   ]
  },
  {
   "cell_type": "markdown",
   "id": "c0130ce2",
   "metadata": {},
   "source": [
    "* Part I: Template specialization\n",
    "* Part II: Template instantiation\n",
    "* Part III: Source code organization (C++ Templates)"
   ]
  },
  {
   "cell_type": "markdown",
   "id": "8c8b49fb",
   "metadata": {},
   "source": [
    "# Part I: Template specialization"
   ]
  },
  {
   "cell_type": "markdown",
   "id": "37e0b9bf",
   "metadata": {},
   "source": [
    "# 1 motivation"
   ]
  },
  {
   "cell_type": "markdown",
   "id": "21fddaea",
   "metadata": {},
   "source": [
    "In some cases, it isn’t possible or desirable for a template to define exactly the same code for any type. For example, you might wish to define a code path to be executed only if the type argument is a pointer, or a std::wstring, or a type derived from a particular base class. In such cases you can define a specialization of the template for that particular type."
   ]
  },
  {
   "cell_type": "markdown",
   "id": "0a99d795",
   "metadata": {},
   "source": [
    "When a user instantiates the template with that type, the compiler uses the specialization to generate the class, and for all other types, the compiler chooses the more general template. Specializations in which all parameters are specialized are complete specializations. If only some of the parameters are specialized, it is called a partial specialization."
   ]
  },
  {
   "cell_type": "code",
   "execution_count": 1,
   "id": "7d373131",
   "metadata": {},
   "outputs": [],
   "source": [
    "# include <string>\n",
    "#include <iostream>\n",
    "using namespace std;"
   ]
  },
  {
   "cell_type": "code",
   "execution_count": 2,
   "id": "e3f4d208",
   "metadata": {},
   "outputs": [],
   "source": [
    "class MyClass\n",
    "{\n",
    "public:\n",
    "    int num;\n",
    "    std::wstring description;\n",
    "};"
   ]
  },
  {
   "cell_type": "code",
   "execution_count": 3,
   "id": "572684d8",
   "metadata": {},
   "outputs": [],
   "source": [
    "template <typename K, typename V>\n",
    "class MyMap{/*...*/};\n",
    "\n",
    "// partial specialization for string keys\n",
    "template<typename V>\n",
    "class MyMap<string, V> {/*...*/};\n",
    "\n",
    "MyMap<int, MyClass> classes; // uses original template\n",
    "MyMap<string, MyClass> classes2; // uses the partial specialization"
   ]
  },
  {
   "cell_type": "markdown",
   "id": "ddb0aab0",
   "metadata": {},
   "source": [
    "A template can have any number of specializations as long as each specialized type parameter is unique. Only class templates may be partially specialized. **All complete and partial specializations of a template must be declared in the same namespace as the original template.**"
   ]
  },
  {
   "cell_type": "markdown",
   "id": "7e347cf5",
   "metadata": {},
   "source": [
    "Class templates can be partially specialized, and the resulting class is still a template. Partial specialization allows template code to be partially customized for specific types in situations, such as:\n",
    "\n",
    "* A template has multiple types and only some of them need to be specialized. The result is a template parameterized on the remaining types.\n",
    "\n",
    "* A template has only one type, but a specialization is needed for pointer, reference, pointer to member, or function pointer types. The specialization itself is still a template on the type pointed to or referenced."
   ]
  },
  {
   "cell_type": "markdown",
   "id": "ab68b716",
   "metadata": {},
   "source": [
    "## 2 Example: Define partial specialization so one type is int"
   ]
  },
  {
   "cell_type": "markdown",
   "id": "e64161c2",
   "metadata": {},
   "source": [
    "The following example defines a template class that takes pairs of any two types and then defines a partial specialization of that template class specialized so that one of the types is int. The specialization defines an additional sort method that implements a simple bubble sort based on the integer."
   ]
  },
  {
   "cell_type": "code",
   "execution_count": 5,
   "id": "07fe63c8",
   "metadata": {},
   "outputs": [],
   "source": [
    "// partial_specialization_of_class_templates3.cpp\n",
    "// compile with: /EHsc\n",
    "template <class Key, class Value> class Dictionary {\n",
    "   Key* keys;\n",
    "   Value* values;\n",
    "   int size;\n",
    "   int max_size;\n",
    "public:\n",
    "   Dictionary(int initial_size) :  size(0) {\n",
    "      max_size = 1;\n",
    "      while (initial_size >= max_size)\n",
    "         max_size *= 2;\n",
    "      keys = new Key[max_size];\n",
    "      values = new Value[max_size];\n",
    "   }\n",
    "   void add(Key key, Value value) {\n",
    "      Key* tmpKey;\n",
    "      Value* tmpVal;\n",
    "      if (size + 1 >= max_size) {\n",
    "         max_size *= 2;\n",
    "         tmpKey = new Key [max_size];\n",
    "         tmpVal = new Value [max_size];\n",
    "         for (int i = 0; i < size; i++) {\n",
    "            tmpKey[i] = keys[i];\n",
    "            tmpVal[i] = values[i];\n",
    "         }\n",
    "         tmpKey[size] = key;\n",
    "         tmpVal[size] = value;\n",
    "         delete[] keys;\n",
    "         delete[] values;\n",
    "         keys = tmpKey;\n",
    "         values = tmpVal;\n",
    "      }\n",
    "      else {\n",
    "         keys[size] = key;\n",
    "         values[size] = value;\n",
    "      }\n",
    "      size++;\n",
    "   }\n",
    "\n",
    "   void print() {\n",
    "      for (int i = 0; i < size; i++)\n",
    "         cout << \"{\" << keys[i] << \", \" << values[i] << \"}\" << endl;\n",
    "   }\n",
    "};\n",
    "\n",
    "// Template partial specialization: Key is specified to be int.\n",
    "template <class Value> class Dictionary<int, Value> {\n",
    "   int* keys;\n",
    "   Value* values;\n",
    "   int size;\n",
    "   int max_size;\n",
    "public:\n",
    "   Dictionary(int initial_size) :  size(0) {\n",
    "      max_size = 1;\n",
    "      while (initial_size >= max_size)\n",
    "         max_size *= 2;\n",
    "      keys = new int[max_size];\n",
    "      values = new Value[max_size];\n",
    "   }\n",
    "   void add(int key, Value value) {\n",
    "      int* tmpKey;\n",
    "      Value* tmpVal;\n",
    "      if (size + 1 >= max_size) {\n",
    "         max_size *= 2;\n",
    "         tmpKey = new int [max_size];\n",
    "         tmpVal = new Value [max_size];\n",
    "         for (int i = 0; i < size; i++) {\n",
    "            tmpKey[i] = keys[i];\n",
    "            tmpVal[i] = values[i];\n",
    "         }\n",
    "         tmpKey[size] = key;\n",
    "         tmpVal[size] = value;\n",
    "         delete[] keys;\n",
    "         delete[] values;\n",
    "         keys = tmpKey;\n",
    "         values = tmpVal;\n",
    "      }\n",
    "      else {\n",
    "         keys[size] = key;\n",
    "         values[size] = value;\n",
    "      }\n",
    "      size++;\n",
    "   }\n",
    "\n",
    "   void sort() {\n",
    "      // Sort method is defined.\n",
    "      int smallest = 0;\n",
    "      for (int i = 0; i < size - 1; i++) {\n",
    "         for (int j = i; j < size; j++) {\n",
    "            if (keys[j] < keys[smallest])\n",
    "               smallest = j;\n",
    "         }\n",
    "         swap(keys[i], keys[smallest]);\n",
    "         swap(values[i], values[smallest]);\n",
    "      }\n",
    "   }\n",
    "\n",
    "   void print() {\n",
    "      for (int i = 0; i < size; i++)\n",
    "         cout << \"{\" << keys[i] << \", \" << values[i] << \"}\" << endl;\n",
    "   }\n",
    "};\n",
    "\n",
    "int main() {\n",
    "   Dictionary<const char*, const char*> dict(10);\n",
    "   dict.print();\n",
    "   dict.add(\"apple\", \"fruit\");\n",
    "   dict.add(\"banana\", \"fruit\");\n",
    "   dict.add(\"dog\", \"animal\");\n",
    "   dict.print();\n",
    "\n",
    "   Dictionary<int, const char*> dict_specialized(10);\n",
    "   dict_specialized.print();\n",
    "   dict_specialized.add(100, \"apple\");\n",
    "   dict_specialized.add(101, \"banana\");\n",
    "   dict_specialized.add(103, \"dog\");\n",
    "   dict_specialized.add(89, \"cat\");\n",
    "   dict_specialized.print();\n",
    "   dict_specialized.sort();\n",
    "   cout << endl << \"Sorted list:\" << endl;\n",
    "   dict_specialized.print();\n",
    "};"
   ]
  },
  {
   "cell_type": "code",
   "execution_count": 6,
   "id": "21b15334",
   "metadata": {},
   "outputs": [
    {
     "name": "stdout",
     "output_type": "stream",
     "text": [
      "{apple, fruit}\n",
      "{banana, fruit}\n",
      "{dog, animal}\n",
      "{100, apple}\n",
      "{101, banana}\n",
      "{103, dog}\n",
      "{89, cat}\n",
      "\n",
      "Sorted list:\n",
      "{89, cat}\n",
      "{100, apple}\n",
      "{101, banana}\n",
      "{103, dog}\n"
     ]
    }
   ],
   "source": [
    "main();"
   ]
  },
  {
   "cell_type": "markdown",
   "id": "a1104abf",
   "metadata": {},
   "source": [
    "# Part II: Template instantiation"
   ]
  },
  {
   "cell_type": "markdown",
   "id": "83b75d0b",
   "metadata": {},
   "source": [
    "When a function template is first called for each type, the compiler creates an instantiation. Each instantiation is a version of the templated function specialized for the type. This instantiation will be called every time the function is used for the type. If you have several identical instantiations, even in different modules, only one copy of the instantiation will end up in the executable file.(implicit instantiation.)\n",
    "\n",
    "You can use explicit instantiation to create an instantiation of a templated class or function without actually using it in your code. Because this is useful when you are creating library (.lib) files that use templates for distribution, uninstantiated template definitions are not put into object (.obj) files.(explicit instantiation)\n",
    "\n",
    "Template instantiation has two forms: explicit instantiation and implicit instantiation."
   ]
  },
  {
   "cell_type": "markdown",
   "id": "e682361f",
   "metadata": {},
   "source": [
    "## 1 explicit instantiation"
   ]
  },
  {
   "cell_type": "markdown",
   "id": "c2e92f01",
   "metadata": {},
   "source": [
    "You can explicitly tell the compiler when it should generate a definition from a template. This is called explicit instantiation. Explicit instantiation includes two forms: explicit instantiation declaration and explicit instantiation definition."
   ]
  },
  {
   "cell_type": "markdown",
   "id": "31c63018",
   "metadata": {},
   "source": [
    "### a explicit instantiation declaration"
   ]
  },
  {
   "cell_type": "markdown",
   "id": "c71c40dc",
   "metadata": {},
   "source": [
    "You can provide an explicit instantiation declaration for a template specialization if an explicit instantiation definition of the template exists in other translation units or later in the same file. If one translation unit contains the explicit instantiation definition, other translation units can use the specialization without having the specialization instantiated multiple times. The following example demonstrates this concept:"
   ]
  },
  {
   "cell_type": "code",
   "execution_count": null,
   "id": "9e5fd08a",
   "metadata": {},
   "outputs": [],
   "source": [
    "//sample1.h:\n",
    "template<typename T, T val>\n",
    "union A{\n",
    "    T foo();\n",
    "};\n",
    "extern template union A<int, 55>;\n",
    "template<class T, T val>\n",
    "T A<T,val>::foo(void){\n",
    "    return val;\n",
    "}\n",
    "\n",
    "//sampleA.C\"\n",
    "#include \"sample1.h\"\n",
    "template union A<int,55>;\n",
    "\n",
    "//sampleB.C:\n",
    "#include \"sample1.h\"\n",
    "int main(void){\n",
    "    return A<int, 55>().foo();\n",
    "}"
   ]
  },
  {
   "cell_type": "markdown",
   "id": "b7854f91",
   "metadata": {},
   "source": [
    "sampleB.C uses the explicit instantiation definition of A<int, 55>().foo() in sampleA.C."
   ]
  },
  {
   "cell_type": "markdown",
   "id": "0ab42638",
   "metadata": {},
   "source": [
    "### b Explicit instantiation definition"
   ]
  },
  {
   "cell_type": "markdown",
   "id": "b239342c",
   "metadata": {},
   "source": [
    "The following are examples of explicit instantiation definitions:"
   ]
  },
  {
   "cell_type": "code",
   "execution_count": null,
   "id": "7f88b48c",
   "metadata": {},
   "outputs": [],
   "source": [
    "template<class T> class Array { void mf(); };\n",
    "template class Array<char>;      // explicit instantiation\n",
    "template void Array<int>::mf();  // explicit instantiation\n",
    "\n",
    "template<class T> void sort(Array<T>& v) { }\n",
    "template void sort(Array<char>&); // explicit instantiation definition\n",
    "\n",
    "namespace N {\n",
    "   template<class T> void f(T&) { }\n",
    "}\n",
    "\n",
    "template void N::f<int>(int&);\n",
    "// The explicit instantiation definition is in namespace N.\n",
    "\n",
    "int* p = 0;\n",
    "template<class T> T g(T = &p);\n",
    "template char g(char);                  // explicit instantiation definition\n",
    "\n",
    "template <class T> class X {\n",
    "   private:\n",
    "      T v(T arg) { return arg; };\n",
    "};\n",
    "\n",
    "template int X<int>::v(int);    // explicit instantiation definition\n",
    "\n",
    "template<class T> T g(T val) { return val;}\n",
    "template<class T> void Array<T>::mf() { }"
   ]
  },
  {
   "cell_type": "markdown",
   "id": "77f355b1",
   "metadata": {},
   "source": [
    "An explicit instantiation definition is an instantiation of a template specialization or a its member"
   ]
  },
  {
   "cell_type": "markdown",
   "id": "d399aeea",
   "metadata": {},
   "source": [
    "* An explicit instantiation definition of a template is in the same namespace where you define the template.\n",
    "* Access checking rules do not apply to the arguments in the explicit instantiation definitions. \n",
    "* Template arguments in an explicit instantiation definition can be private types or objects. In this example, you can use the explicit instantiation definition template int X<int>::v(int) even though the member function is declared to be private.\n",
    "* The compiler does not use default arguments when you explicitly instantiate a template. In this example, you can use the explicit instantiation definition template char g(char) even though the default argument is an address of the type int."
   ]
  },
  {
   "cell_type": "markdown",
   "id": "85b49a0f",
   "metadata": {},
   "source": [
    "##  implicit instantiation."
   ]
  },
  {
   "cell_type": "markdown",
   "id": "dceb3b5d",
   "metadata": {},
   "source": [
    "Unless a template specialization has been explicitly instantiated or explicitly specialized, the compiler will generate a specialization for the template only when it needs the definition. This is called implicit instantiation.\n",
    "\n",
    "    https://www.ibm.com/docs/en/i/7.3?topic=only-implicit-instantiation-c"
   ]
  },
  {
   "cell_type": "markdown",
   "id": "d52ab099",
   "metadata": {},
   "source": [
    "**The act of creating a new definition of a function, class, or member of a class from a template declaration and one or more template arguments is called template instantiation. The definition created from a template instantiation to handle a specific set of template arguments is called a specialization.**"
   ]
  },
  {
   "cell_type": "markdown",
   "id": "3aaf2cdd",
   "metadata": {},
   "source": [
    "# Part III: Source code organization (C++ Templates)"
   ]
  },
  {
   "cell_type": "markdown",
   "id": "0c910041",
   "metadata": {},
   "source": [
    "When defining a class template, you must organize the source code in such a way that the member definitions are visible to the compiler when it needs them. You have the choice of using the inclusion model or the explicit instantiation model. \n",
    "\n",
    "In the inclusion model, you include the member definitions in every file that uses a template. This approach is simplest and provides maximum flexibility in terms of what concrete types can be used with your template. Its disadvantage is that it can increase compilation times. The times can be significant if a project or the included files themselves are large. \n",
    "\n",
    "With the explicit instantiation approach, the template itself instantiates concrete classes or class members for specific types. This approach can speed up compilation times, but it limits usage to only those classes that the template implementer has enabled ahead of time. \n",
    "\n",
    "In general, we recommend that you use the inclusion model unless the compilation times become a problem."
   ]
  },
  {
   "cell_type": "markdown",
   "id": "913e62d3",
   "metadata": {},
   "source": [
    "## motivation\n",
    "\n",
    "Templates aren't like ordinary classes in the sense that the compiler doesn't generate object code for a template or any of its members. There's nothing to generate until the template is instantiated with concrete types. When the compiler encounters a template instantiation such as MyClass<int> mc; and no class with that signature exists yet, it generates a new class. It also attempts to generate code for any member functions that are used. (implicit instantiation)\n",
    "    \n",
    "If those definitions are in a file that isn't #included, directly or indirectly, in the .cpp file that is being compiled, the compiler can't see them. From the compiler's point of view, it's not necessarily an error. The functions may be defined in another translation unit where the linker will find them. If the linker doesn't find that code, it raises an unresolved external error."
   ]
  },
  {
   "cell_type": "markdown",
   "id": "7030b877",
   "metadata": {},
   "source": [
    "## solution 1: The inclusion model"
   ]
  },
  {
   "cell_type": "markdown",
   "id": "27eb401c",
   "metadata": {},
   "source": [
    "The simplest and most common way to make template definitions visible throughout a translation unit, is to put the definitions in the header file itself. Any .cpp file that uses the template simply has to #include the header. This approach is used in the Standard Library."
   ]
  },
  {
   "cell_type": "code",
   "execution_count": null,
   "id": "f9ea57fa",
   "metadata": {},
   "outputs": [],
   "source": [
    "// in xxx.h\n",
    "#include <iostream>\n",
    "\n",
    "template<typename T, size_t N>\n",
    "class MyArray\n",
    "{\n",
    "    T arr[N];\n",
    "public:\n",
    "    // Full definitions:\n",
    "    MyArray(){}\n",
    "    void Print()\n",
    "    {\n",
    "        for (const auto v : arr)\n",
    "        {\n",
    "            std::cout << v << \" , \";\n",
    "        }\n",
    "    }\n",
    "\n",
    "    T& operator[](int i)\n",
    "   {\n",
    "       return arr[i];\n",
    "   }\n",
    "};"
   ]
  },
  {
   "cell_type": "markdown",
   "id": "f2ca427e",
   "metadata": {},
   "source": [
    "With this approach, the compiler has access to the complete template definition and can instantiate templates on-demand for any type. It's simple and relatively easy to maintain. However, the inclusion model does have a cost in terms of compilation times. This cost can be significant in large programs, especially if the template header itself #includes other headers. Every .cpp file that #includes the header will get its own copy of the function templates and all the definitions. The linker will generally be able to sort things out so that you don't end up with multiple definitions for a function, but it takes time to do this work. In smaller programs that extra compilation time is probably not significant."
   ]
  },
  {
   "cell_type": "markdown",
   "id": "97bda552",
   "metadata": {},
   "source": [
    "## solution 2: The explicit instantiation model"
   ]
  },
  {
   "cell_type": "markdown",
   "id": "597ff784",
   "metadata": {},
   "source": [
    "If the inclusion model isn't viable for your project, and you know definitively the set of types that will be used to instantiate a template, then you can separate out the template code into an .h and .cpp file, and in the .cpp file explicitly instantiate the templates. This approach generates object code that the compiler will see when it encounters user instantiations.\n",
    "\n",
    "You create an explicit instantiation by using the keyword template followed by the signature of the entity you want to instantiate. This entity can be a type or a member. If you explicitly instantiate a type, all members are instantiated.\n",
    "\n",
    "The header file MyArray.h declares template class MyArray:"
   ]
  },
  {
   "cell_type": "code",
   "execution_count": null,
   "id": "56b07542",
   "metadata": {},
   "outputs": [],
   "source": [
    "//MyArray.h\n",
    "#ifndef MYARRAY\n",
    "#define MYARRAY\n",
    "\n",
    "template<typename T, size_t N>\n",
    "class MyArray\n",
    "{\n",
    "    T arr[N];\n",
    "public:\n",
    "    MyArray();\n",
    "    void Print();\n",
    "    T& operator[](int i);\n",
    "};\n",
    "#endif"
   ]
  },
  {
   "cell_type": "markdown",
   "id": "db45df31",
   "metadata": {},
   "source": [
    "The source file MyArray.cpp explicitly instantiates template MyArray<double, 5> and template MyArray<string, 5>:"
   ]
  },
  {
   "cell_type": "code",
   "execution_count": null,
   "id": "a466d52b",
   "metadata": {},
   "outputs": [],
   "source": [
    "//MyArray.cpp\n",
    "#include <iostream>\n",
    "#include \"MyArray.h\"\n",
    "\n",
    "using namespace std;\n",
    "\n",
    "template<typename T, size_t N>\n",
    "MyArray<T,N>::MyArray(){}\n",
    "\n",
    "template<typename T, size_t N>\n",
    "void MyArray<T,N>::Print()\n",
    "{\n",
    "    for (const auto v : arr)\n",
    "    {\n",
    "        cout << v << \"'\";\n",
    "    }\n",
    "    cout << endl;\n",
    "}\n",
    "\n",
    "template MyArray<double, 5>;\n",
    "template MyArray<string, 5>;"
   ]
  },
  {
   "cell_type": "markdown",
   "id": "2cc9ff39",
   "metadata": {},
   "source": [
    "In the previous example, the explicit instantiations are at the bottom of the .cpp file. A MyArray may be used only for double or String types."
   ]
  },
  {
   "cell_type": "markdown",
   "id": "6e4fa7a0",
   "metadata": {},
   "source": [
    "# Reference\n",
    "* https://www.ibm.com/docs/en/i/7.3?topic=only-template-instantiation-c\n",
    "* https://docs.microsoft.com/en-us/cpp/cpp/source-code-organization-cpp-templates?view=msvc-170"
   ]
  },
  {
   "cell_type": "code",
   "execution_count": null,
   "id": "4099226f",
   "metadata": {},
   "outputs": [],
   "source": []
  }
 ],
 "metadata": {
  "kernelspec": {
   "display_name": "C++17",
   "language": "C++17",
   "name": "xcpp17"
  },
  "language_info": {
   "codemirror_mode": "text/x-c++src",
   "file_extension": ".cpp",
   "mimetype": "text/x-c++src",
   "name": "c++",
   "version": "17"
  }
 },
 "nbformat": 4,
 "nbformat_minor": 5
}
