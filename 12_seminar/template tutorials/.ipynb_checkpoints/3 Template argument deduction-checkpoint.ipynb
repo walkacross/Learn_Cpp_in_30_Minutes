{
 "cells": [
  {
   "cell_type": "markdown",
   "id": "6cd7730a",
   "metadata": {},
   "source": [
    "# Template argument deduction"
   ]
  },
  {
   "cell_type": "markdown",
   "id": "4923a4ae",
   "metadata": {},
   "source": [
    "* Part I: Type Inference in C++ (auto and decltype)\n",
    "* Part II: Template argument deduction"
   ]
  },
  {
   "cell_type": "markdown",
   "id": "2b885031",
   "metadata": {},
   "source": [
    "# Part I: Type Inference in C++ (auto and decltype)"
   ]
  },
  {
   "cell_type": "markdown",
   "id": "6d58d8f9",
   "metadata": {},
   "source": [
    "Type Inference refers to automatic deduction of the data type of an expression in a programming language. Before C++ 11, each data type needed to be explicitly declared at compile-time, limiting the values of an expression at runtime but after the new version of C++, many keywords are included which allows a programmer to leave the type deduction to the compiler itself. \n",
    "With type inference capabilities, we can spend less time having to write out things the compiler already knows. As all the types are deduced in the compiler phase only, the time for compilation increases slightly but it does not affect the run time of the program."
   ]
  },
  {
   "cell_type": "markdown",
   "id": "c206366f",
   "metadata": {},
   "source": [
    "* auto\n",
    "* decltype"
   ]
  },
  {
   "cell_type": "markdown",
   "id": "154cc7d4",
   "metadata": {},
   "source": [
    "## auto keyword"
   ]
  },
  {
   "cell_type": "markdown",
   "id": "79caa657",
   "metadata": {},
   "source": [
    "1) auto keyword: The auto keyword specifies that the type of the variable that is being declared will be automatically deducted from its initializer. In the case of functions, if their return type is auto then that will be evaluated by return type expression at runtime. Good use of auto is to avoid long initializations when creating iterators for containers.   "
   ]
  },
  {
   "cell_type": "markdown",
   "id": "b19174f7",
   "metadata": {},
   "source": [
    "> **The variable declared with auto keyword should be initialized at the time of its declaration only or else there will be a compile-time error.** "
   ]
  },
  {
   "cell_type": "code",
   "execution_count": 13,
   "id": "04b459fd",
   "metadata": {},
   "outputs": [],
   "source": [
    "#include <bits/stdc++.h>\n",
    "using namespace std;"
   ]
  },
  {
   "cell_type": "code",
   "execution_count": 14,
   "id": "10953e00",
   "metadata": {},
   "outputs": [],
   "source": [
    "// C++ program to demonstrate working of auto\n",
    "// and type inference\n",
    "int main(){\n",
    "\t// auto a; this line will give error\n",
    "\t// because 'a' is not initialized at\n",
    "\t// the time of declaration\n",
    "\t// a=33;\n",
    "\n",
    "\t// see here x ,y,ptr are\n",
    "\t// initialised at the time of\n",
    "\t// declaration hence there is\n",
    "\t// no error in them\n",
    "\tauto x = 4;\n",
    "\tauto y = 3.37;\n",
    "\tauto ptr = &x;\n",
    "\tcout << typeid(x).name() << endl\n",
    "\t\t<< typeid(y).name() << endl\n",
    "\t\t<< typeid(ptr).name() << endl;\n",
    "\n",
    "\treturn 0;\n",
    "};"
   ]
  },
  {
   "cell_type": "code",
   "execution_count": 15,
   "id": "6ac23358",
   "metadata": {},
   "outputs": [
    {
     "name": "stdout",
     "output_type": "stream",
     "text": [
      "i\n",
      "d\n",
      "Pi\n"
     ]
    }
   ],
   "source": [
    "main();"
   ]
  },
  {
   "cell_type": "markdown",
   "id": "2f2d2b36",
   "metadata": {},
   "source": [
    "Typeid is an operator which is used where the dynamic type of an object needs to be known. \n",
    "\n",
    "typeid(x).name() returns the data type of x, for example, it return ‘i’ for integers, ‘d’ for doubles, ‘Pi’ for the pointer to integer etc. But the actual name returned is mostly compiler dependent. "
   ]
  },
  {
   "cell_type": "markdown",
   "id": "025aa0b1",
   "metadata": {},
   "source": [
    "Note: auto becomes int type if even an integer reference is assigned to it. To make it reference type, we use auto &. \n",
    "\n",
    "* Function that returns a ‘reference to int’ type : int& fun() {};\n",
    "* m will default to int type instead of int& type : auto m = fun();\n",
    "* n will be of int& type because of use of extra & with auto keyword : auto& n = fun();"
   ]
  },
  {
   "cell_type": "markdown",
   "id": "721db696",
   "metadata": {},
   "source": [
    "## decltype Keyword\n",
    "2) decltype Keyword: It inspects the declared type of an entity or the type of an expression. ‘auto’ lets you declare a variable with a particular type whereas decltype lets you extract the type from the variable so decltype is sort of an operator that evaluates the type of passed expression. \n",
    "Explanation of the above keywords and their uses is given below: "
   ]
  },
  {
   "cell_type": "code",
   "execution_count": 18,
   "id": "157fcab8",
   "metadata": {},
   "outputs": [],
   "source": [
    "// C++ program to demonstrate use of decltype\n",
    "// Driver Code\n",
    "int main()\n",
    "{\n",
    "\tint x = 5;\n",
    "\n",
    "\t// j will be of type int : data type of x\n",
    "\tdecltype(x) j = x + 5;\n",
    "\n",
    "\tcout << typeid(j).name();\n",
    "\n",
    "\treturn 0;\n",
    "};"
   ]
  },
  {
   "cell_type": "code",
   "execution_count": 17,
   "id": "74a769ce",
   "metadata": {},
   "outputs": [],
   "source": [
    "int var;\n",
    "const int&& fx();\n",
    "struct A { double x; };\n",
    "const A* a = new A();"
   ]
  },
  {
   "cell_type": "markdown",
   "id": "140f60cb",
   "metadata": {},
   "source": [
    "Next, examine the types that are returned by the four decltype statements in the following table."
   ]
  },
  {
   "cell_type": "markdown",
   "id": "30689709",
   "metadata": {},
   "source": [
    "* decltype(var);\tint\tThe type of variable var.\n",
    "* decltype(a->x);\tdouble\tThe type of the member access.    \n",
    "* decltype(fx());\tconst int&&\tAn rvalue reference to a const int.\n",
    "* decltype((a->x));\tconst double&\tThe inner parentheses cause the statement to be evaluated as an expression instead of a member access. And because a is declared as a const pointer, the type is a reference to const double."
   ]
  },
  {
   "cell_type": "markdown",
   "id": "89bd0b8d",
   "metadata": {},
   "source": [
    "decltype vs typeid\n",
    "\n",
    "* Decltype gives the type information at compile time while typeid gives at runtime.\n",
    "* So, if we have a base class reference (or pointer) referring to (or pointing to) a derived class object, the decltype would give type as base class reference (or pointer, but typeid would give the derived type reference (or pointer)."
   ]
  },
  {
   "cell_type": "markdown",
   "id": "2d1fb16b",
   "metadata": {},
   "source": [
    "# Part II: Template argument deduction"
   ]
  },
  {
   "cell_type": "markdown",
   "id": "0afffa22",
   "metadata": {},
   "source": [
    "# 1 CTAD automatically  -- If you do not specify the template parameter explicitly"
   ]
  },
  {
   "cell_type": "markdown",
   "id": "d326a615",
   "metadata": {},
   "source": [
    "# motivation"
   ]
  },
  {
   "cell_type": "markdown",
   "id": "e4db0dfd",
   "metadata": {},
   "source": [
    "When you call a template function, you may omit any template argument that the compiler can determine or deduce by the usage and context of that template function call.\n",
    "\n",
    "The compiler tries to deduce a template argument by comparing the type of the corresponding template parameter with the type of the argument used in the function call. The two types that the compiler compares (the template parameter and the argument used in the function call) must be of a certain structure in order for template argument deduction to work. The following lists these type structures:"
   ]
  },
  {
   "cell_type": "markdown",
   "id": "efaa27ee",
   "metadata": {},
   "source": [
    "> motivation1: sometimes you do not need enter the template argument, the compiler will help you deduce it automtically"
   ]
  },
  {
   "cell_type": "markdown",
   "id": "8bac6073",
   "metadata": {},
   "source": [
    "Starting in C++17, when instantiating an object from a class template, the compiler can deduce the template types from the types of the object’s initializer (this is called class template argument deduction or CTAD for short). For example:"
   ]
  },
  {
   "cell_type": "code",
   "execution_count": 2,
   "id": "9c877e10",
   "metadata": {},
   "outputs": [],
   "source": [
    "#include <utility> // for std::pair\n",
    "\n",
    "int main()\n",
    "{\n",
    "    std::pair<int, int> p1{ 1, 2 }; // explicitly specify class template std::pair<int, int> (C++11 onward)\n",
    "    std::pair p2{ 1, 2 };           // CTAD used to deduce std::pair<int, int> from the initializers (C++17)\n",
    "\n",
    "    return 0;\n",
    "}"
   ]
  },
  {
   "cell_type": "markdown",
   "id": "c9a1966c",
   "metadata": {},
   "source": [
    "CTAD is only performed if no template argument list is present. Therefore, both of the following are errors:"
   ]
  },
  {
   "cell_type": "code",
   "execution_count": null,
   "id": "55cd746b",
   "metadata": {},
   "outputs": [],
   "source": [
    "#include <utility> // for std::pair\n",
    "\n",
    "int main()\n",
    "{\n",
    "    std::pair<> p1 { 1, 2 };    // error: too few template arguments, both arguments not deduced\n",
    "    std::pair<int> p2 { 3, 4 }; // error: too few template arguments, second argument not deduced\n",
    "\n",
    "    return 0;\n",
    "}"
   ]
  },
  {
   "cell_type": "markdown",
   "id": "9a19c829",
   "metadata": {},
   "source": [
    "# 2 deduction guides -if automatical CTAD  failed"
   ]
  },
  {
   "cell_type": "markdown",
   "id": "7d2d3f89",
   "metadata": {},
   "source": [
    "In general, CTAD automatically works when class templates have constructors whose signatures mention all of the class template parameters (like MyPair above). However, sometimes constructors themselves are templated, which breaks the connection that CTAD relies on. In those cases, the author of the class template can provide “deduction guides” that tell the compiler how to deduce class template arguments from constructor arguments."
   ]
  },
  {
   "cell_type": "markdown",
   "id": "98e12780",
   "metadata": {},
   "source": [
    "In most cases, CTAD works right out of the box. However, in certain cases, the compiler may need a little extra help understanding how to deduce the template arguments properly."
   ]
  },
  {
   "cell_type": "markdown",
   "id": "477e4af5",
   "metadata": {},
   "source": [
    "> motivation2: sometimes you have to provide “deduction guides” that tell the compiler how to deduce class template arguments. "
   ]
  },
  {
   "cell_type": "markdown",
   "id": "3632c00d",
   "metadata": {},
   "source": [
    "You may be surprised to find that the following program (which is almost identical to the example that uses std::pair above) doesn’t compile in C++17:"
   ]
  },
  {
   "cell_type": "code",
   "execution_count": 3,
   "id": "bed09e28",
   "metadata": {},
   "outputs": [
    {
     "name": "stderr",
     "output_type": "stream",
     "text": [
      "\u001b[1minput_line_10:11:10: \u001b[0m\u001b[0;1;31merror: \u001b[0m\u001b[1mno viable constructor or deduction guide for deduction of template arguments of\n",
      "      'pair'\u001b[0m\n",
      "    pair p2{ 1, 2 };           // compile error in C++17\n",
      "\u001b[0;1;32m         ^\n",
      "\u001b[0m\u001b[1minput_line_10:3:8: \u001b[0m\u001b[0;1;30mnote: \u001b[0mcandidate function template not viable: requires 0 arguments, but 2 were\n",
      "      provided\u001b[0m\n",
      "struct pair\n",
      "\u001b[0;1;32m       ^\n",
      "\u001b[0m\u001b[1minput_line_10:3:8: \u001b[0m\u001b[0;1;30mnote: \u001b[0mcandidate function template not viable: requires 1 argument, but 2 were provided\u001b[0m\n"
     ]
    },
    {
     "ename": "Interpreter Error",
     "evalue": "",
     "output_type": "error",
     "traceback": [
      "Interpreter Error: "
     ]
    }
   ],
   "source": [
    "// define our own pair type\n",
    "template <typename T, typename U>\n",
    "struct pair\n",
    "{\n",
    "    T first{};\n",
    "    U second{};\n",
    "};\n",
    "\n",
    "int main()\n",
    "{\n",
    "    pair<int, int> p1{ 1, 2 }; // ok: we're explicitly specifying the template arguments\n",
    "    pair p2{ 1, 2 };           // compile error in C++17\n",
    "\n",
    "    return 0;\n",
    "}"
   ]
  },
  {
   "cell_type": "markdown",
   "id": "00eb0748",
   "metadata": {},
   "source": [
    "If you compile this in C++17, you’ll likely get some error about “class template argument deduction failed” or “cannot deduce template arguments” or “No viable constructor or deduction guide”. This is because in C++17, CTAD doesn’t know how to deduce the template arguments for aggregate class templates. To address this, we can provide the compiler with a deduction guide, which tells the compiler how to deduce the template arguments for a given class template.\n",
    "\n",
    "Here’s the same program with a deduction guide:"
   ]
  },
  {
   "cell_type": "code",
   "execution_count": 5,
   "id": "59db0704",
   "metadata": {},
   "outputs": [
    {
     "name": "stderr",
     "output_type": "stream",
     "text": [
      "\u001b[1minput_line_12:10:1: \u001b[0m\u001b[0;1;31merror: \u001b[0m\u001b[1mdeduction guide must be declared in the same scope as template\n",
      "      '__cling_N56::pair'\u001b[0m\n",
      "pair(T, U) -> pair<T, U>;\n",
      "\u001b[0;1;32m^\n",
      "\u001b[0m\u001b[1minput_line_12:2:8: \u001b[0m\u001b[0;1;30mnote: \u001b[0mtemplate is declared here\u001b[0m\n",
      "struct pair\n",
      "\u001b[0;1;32m       ^\n",
      "\u001b[0m\u001b[1minput_line_12:14:10: \u001b[0m\u001b[0;1;31merror: \u001b[0m\u001b[1mno viable constructor or deduction guide for deduction of template arguments of\n",
      "      'pair'\u001b[0m\n",
      "    pair p2{ 1, 2 };     // CTAD used to deduce pair<int, int> from the ...\n",
      "\u001b[0;1;32m         ^\n",
      "\u001b[0m\u001b[1minput_line_12:2:8: \u001b[0m\u001b[0;1;30mnote: \u001b[0mcandidate function template not viable: requires 0 arguments, but 2 were\n",
      "      provided\u001b[0m\n",
      "struct pair\n",
      "\u001b[0;1;32m       ^\n",
      "\u001b[0m\u001b[1minput_line_12:2:8: \u001b[0m\u001b[0;1;30mnote: \u001b[0mcandidate function template not viable: requires 1 argument, but 2 were provided\u001b[0m\n"
     ]
    },
    {
     "ename": "Interpreter Error",
     "evalue": "",
     "output_type": "error",
     "traceback": [
      "Interpreter Error: "
     ]
    }
   ],
   "source": [
    "template <typename T, typename U>\n",
    "struct pair\n",
    "{\n",
    "    T first{};\n",
    "    U second{};\n",
    "};\n",
    "\n",
    "// Here's a deduction guide for our pair class\n",
    "// pair objects initialized with arguments of type T and U should deduce to pair<T, U>\n",
    "template <typename T, typename U>\n",
    "pair(T, U) -> pair<T, U>;\n",
    "\n",
    "int main()\n",
    "{\n",
    "    pair<int, int> p1{ 1, 2 }; // explicitly specify class template pair<int, int> (C++11 onward)\n",
    "    pair p2{ 1, 2 };     // CTAD used to deduce pair<int, int> from the initializers (C++17)\n",
    "\n",
    "    return 0;\n",
    "};"
   ]
  },
  {
   "cell_type": "markdown",
   "id": "6d29becb",
   "metadata": {},
   "source": [
    "This example should compile under C++17.\n",
    "\n",
    "The deduction guide for our pair class is pretty simple, but let’s take a closer look at how it works."
   ]
  },
  {
   "cell_type": "code",
   "execution_count": null,
   "id": "2270beb1",
   "metadata": {},
   "outputs": [],
   "source": [
    "// Here's a deduction guide for our pair class\n",
    "// pair objects initialized with arguments of type T and U should deduce to pair<T, U>\n",
    "template <typename T, typename U>\n",
    "pair(T, U) -> pair<T, U>;"
   ]
  },
  {
   "cell_type": "markdown",
   "id": "2a25bd09",
   "metadata": {},
   "source": [
    "First, we use the same template type definition as in our pair class. This makes sense, because if our deduction guide is going to tell the compiler how to deduce the types for a pair<T, U>, we have to define what T and U are (template types). Second, on the right hand side of the arrow, we have the type that we’re helping the compiler to deduce. In this case, we want the compiler to be able to deduce template arguments for objects of type pair<T, U>, so that’s exactly what we put here. Finally, on the left side of the arrow, we tell the compiler what kind of declaration to look for. In this case, we’re telling it to look for a declaration of some object named pair with two arguments (one of type T, the other of type U). We could also write this as pair(T t, U u) (where t and u are the names of the parameters, but since we don’t use t and u, we don’t need to give them names).\n",
    "\n",
    "Putting it all together, we’re telling the compiler that if it sees a declaration of a pair with two arguments (of types T and U respectively), it should deduce the type to be a pair<T, U>.\n",
    "\n",
    "So when the compiler sees the definition pair p2{ 1, 2 }; in our program, it will say, “oh, this is a declaration of a pair and there are two arguments of type int and int, so using the deduction guide, I should deduce this to be a pair<int, int>“."
   ]
  },
  {
   "cell_type": "markdown",
   "id": "d02513a3",
   "metadata": {},
   "source": [
    "# 3 how to deduce the type of template argument  if \n",
    "(1) omit any template argument\n",
    "\n",
    "(2) function arguments depends on the types of its template arguments\n",
    "\n",
    "(3) the type of function arguments and passed parameter might vary because of const and & keyword (implicit conversition)"
   ]
  },
  {
   "cell_type": "markdown",
   "id": "f638621f",
   "metadata": {},
   "source": [
    "> mitivation3: you need to know the deduced type, because it affect your operation in your function and output"
   ]
  },
  {
   "cell_type": "code",
   "execution_count": null,
   "id": "9be658dc",
   "metadata": {},
   "outputs": [],
   "source": [
    "template<typename T>\n",
    "void f(T& param){ //param is a reference\n",
    "    T a_variable; // what the type of the a_variable at different senario?\n",
    "};      \n",
    "\n",
    "const int cx = x;      // cx is a const int\n",
    "\n",
    "f(x);  ///???"
   ]
  },
  {
   "cell_type": "code",
   "execution_count": null,
   "id": "c50168b0",
   "metadata": {},
   "outputs": [],
   "source": []
  },
  {
   "cell_type": "markdown",
   "id": "dd098d8d",
   "metadata": {},
   "source": [
    "Template Generic Syntax\n",
    "~~~\n",
    "template<typename T>\n",
    "void f(ParamType param);\n",
    "\n",
    "f(expr);\n",
    "~~~"
   ]
  },
  {
   "cell_type": "markdown",
   "id": "2ee0f7af",
   "metadata": {},
   "source": [
    "**Case 1: ParamType is a Reference or Pointer, but not a Universal or Forward Reference.** In this case type deduction works this way.\n",
    "* The compiler ignores the reference part if it exists in expr. \n",
    "* The compiler then pattern-matches expr's type against ParamType to determing T."
   ]
  },
  {
   "cell_type": "code",
   "execution_count": null,
   "id": "8676196d",
   "metadata": {},
   "outputs": [],
   "source": [
    "template<typename T>\n",
    "void f(T& param){ //param is a reference\n",
    "    T a_variable; // what the type of the a_variable at different senario?\n",
    "};      \n",
    "\n",
    "int x = 27;            // x is an int\n",
    "const int cx = x;      // cx is a const int\n",
    "const int& rx = x;     // rx is a reference to x as a const int\n",
    "\n",
    "f(x);                  // T is int, param's type is int&\n",
    "f(cx);                 // T is const int, param's type is const int&\n",
    "f(rx);                 // T is const int, param's type is const int&"
   ]
  },
  {
   "cell_type": "code",
   "execution_count": null,
   "id": "608320c5",
   "metadata": {},
   "outputs": [],
   "source": [
    "* step1: according to the function argument and parameter with implicite conversition principle, determine the paramType\n",
    "~~~\n",
    "\n",
    "~~~\n",
    "* step2: according the the template argument and  paramType, determine the T"
   ]
  },
  {
   "cell_type": "markdown",
   "id": "e38a5f55",
   "metadata": {},
   "source": [
    "**Case 2: ParamType is a Universal Reference or Forward Reference.** \n",
    "* In this case type deduction is the same as in case 1 if the expr is an rvalue. \n",
    "* If expr is an lvalue, both T and ParamType are deduced to be lvalue references."
   ]
  },
  {
   "cell_type": "code",
   "execution_count": null,
   "id": "cb717fc6",
   "metadata": {},
   "outputs": [],
   "source": [
    "template<typename T>\n",
    "void f(T&& param);     // param is a universal reference\n",
    "\n",
    "int x = 27;            // x is an int\n",
    "const int cx = x;      // cx is a const int\n",
    "const int& rx = x;     // rx is a reference to x as a const int\n",
    "\n",
    "f(x);                  // x is lvalue, so T is int&, param's type is also int&\n",
    "f(cx);                 // cx is lvalue, so T is const int&, param's type is also const int&\n",
    "f(rx);                 // rx is lvalue, so T is const int&, param's type is also const int&\n",
    "f(27);                 // 27 is rvalue, so T is int, param's type is therefore int&&"
   ]
  },
  {
   "cell_type": "markdown",
   "id": "3fb859ae",
   "metadata": {},
   "source": [
    "Case 3: ParamType is Neither a Pointer nor a Reference. \n",
    "* If expr is a reference the reference part is ignored. \n",
    "* If expr is const that is ignored as well. \n",
    "* If it is volatile that is also ignored when deducing T's type."
   ]
  },
  {
   "cell_type": "code",
   "execution_count": null,
   "id": "a91e0ec6",
   "metadata": {},
   "outputs": [],
   "source": [
    "template<typename T>\n",
    "void f(T param);       // param is now passed by value\n",
    "\n",
    "int x = 27;            // x is an int\n",
    "const int cx = x;      // cx is a const int\n",
    "const int& rx = x;     // rx is a reference to x as a const int\n",
    "\n",
    "f(x);                  // T's and param's types are both int\n",
    "f(cx);                 // T's and param's types are again both int\n",
    "f(rx);                 // T's and param's types are still both int"
   ]
  },
  {
   "cell_type": "markdown",
   "id": "5e2fce11",
   "metadata": {},
   "source": [
    "# 4 how declare a template function whose return type depends on the types of its template arguments."
   ]
  },
  {
   "cell_type": "markdown",
   "id": "da1afcc7",
   "metadata": {},
   "source": [
    "The decltype type specifier yields the type of a specified expression. The decltype type specifier, together with the auto keyword, is useful primarily to developers who write template libraries. Use auto and decltype to declare a template function whose return type depends on the types of its template arguments. Or, use auto and decltype to declare a template function that wraps a call to another function, and then returns the return type of the wrapped function."
   ]
  },
  {
   "cell_type": "markdown",
   "id": "2b4df1ca",
   "metadata": {},
   "source": [
    "In C++14, you can use decltype(auto) with no trailing return type to declare a template function whose return type depends on the types of its template arguments.\n",
    "\n",
    "In C++11, you can use the decltype type specifier on a trailing return type, together with the auto keyword, to declare a template function whose return type depends on the types of its template arguments. For example, consider the following code example in which the return type of the template function depends on the types of the template arguments. In the code example, the UNKNOWN placeholder indicates that the return type cannot be specified."
   ]
  },
  {
   "cell_type": "code",
   "execution_count": null,
   "id": "650d3127",
   "metadata": {},
   "outputs": [],
   "source": [
    "template<typename T, typename U>\n",
    "UNKNOWN func(T&& t, U&& u){ return t + u; };"
   ]
  },
  {
   "cell_type": "markdown",
   "id": "b9264b84",
   "metadata": {},
   "source": [
    "The introduction of the decltype type specifier enables a developer to obtain the type of the expression that the template function returns. Use the alternative function declaration syntax that is shown later, the auto keyword, and the decltype type specifier to declare a late-specified return type. The late-specified return type is determined when the declaration is compiled, instead of when it is coded."
   ]
  },
  {
   "cell_type": "markdown",
   "id": "42e0103c",
   "metadata": {},
   "source": [
    "In the following code example, the late-specified return type of the myFunc template function is determined by the types of the t and u template arguments. As a best coding practice, the code example also uses rvalue references and the forward function template, which support perfect forwarding. For more information, see Rvalue Reference Declarator: &&."
   ]
  },
  {
   "cell_type": "code",
   "execution_count": null,
   "id": "75a961da",
   "metadata": {},
   "outputs": [],
   "source": [
    "//C++11\n",
    "template<typename T, typename U>\n",
    "auto myFunc(T&& t, U&& u) -> decltype (forward<T>(t) + forward<U>(u))\n",
    "        { return forward<T>(t) + forward<U>(u); };\n",
    "\n",
    "//C++14\n",
    "template<typename T, typename U>\n",
    "decltype(auto) myFunc(T&& t, U&& u)\n",
    "        { return forward<T>(t) + forward<U>(u); };"
   ]
  },
  {
   "cell_type": "markdown",
   "id": "b34e8d68",
   "metadata": {},
   "source": [
    "# reference\n",
    "* https://riptutorial.com/cplusplus/example/25566/template-type-deduction"
   ]
  },
  {
   "cell_type": "code",
   "execution_count": null,
   "id": "6ad9ea29",
   "metadata": {},
   "outputs": [],
   "source": []
  }
 ],
 "metadata": {
  "kernelspec": {
   "display_name": "C++17",
   "language": "C++17",
   "name": "xcpp17"
  },
  "language_info": {
   "codemirror_mode": "text/x-c++src",
   "file_extension": ".cpp",
   "mimetype": "text/x-c++src",
   "name": "c++",
   "version": "17"
  }
 },
 "nbformat": 4,
 "nbformat_minor": 5
}
