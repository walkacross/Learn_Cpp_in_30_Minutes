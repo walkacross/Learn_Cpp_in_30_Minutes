{
 "cells": [
  {
   "cell_type": "markdown",
   "id": "8c72c52d",
   "metadata": {},
   "source": [
    "# how to control template behave"
   ]
  },
  {
   "cell_type": "markdown",
   "id": "eda0df2c",
   "metadata": {},
   "source": [
    "https://www.cppstories.com/2016/02/notes-on-c-sfinae/"
   ]
  },
  {
   "cell_type": "markdown",
   "id": "3c556140",
   "metadata": {},
   "source": [
    "# 1 Substitution failure is not an error (SFINAE)"
   ]
  },
  {
   "cell_type": "markdown",
   "id": "f4bfa0a1",
   "metadata": {},
   "source": [
    "What is SFINAE? Where can you use this metaprogramming technique? Are there any better alternatives in Modern C++? And how about Concepts from C++20?"
   ]
  },
  {
   "cell_type": "markdown",
   "id": "fccfda0f",
   "metadata": {},
   "source": [
    "> Substitution failure is not an error (SFINAE) refers to a situation in C++ where an invalid substitution of template parameters is not in itself an error. David Vandevoorde first introduced the acronym SFINAE to describe related programming techniques."
   ]
  },
  {
   "cell_type": "code",
   "execution_count": 3,
   "id": "c76a8fe4",
   "metadata": {},
   "outputs": [],
   "source": [
    "#include <iostream>\n",
    "using namespace std;"
   ]
  },
  {
   "cell_type": "code",
   "execution_count": 6,
   "id": "c970cf0b",
   "metadata": {},
   "outputs": [],
   "source": [
    "struct Bar {\n",
    "    typedef double internalType;  \n",
    "};"
   ]
  },
  {
   "cell_type": "code",
   "execution_count": 7,
   "id": "ca27ce71",
   "metadata": {},
   "outputs": [],
   "source": [
    "template <typename T> \n",
    "typename T::internalType foo(const T& t) { \n",
    "    cout << \"foo<T>\\n\"; \n",
    "    return 0; \n",
    "};"
   ]
  },
  {
   "cell_type": "code",
   "execution_count": 8,
   "id": "ad7c1b17",
   "metadata": {},
   "outputs": [
    {
     "name": "stderr",
     "output_type": "stream",
     "text": [
      "\u001b[1minput_line_15:3:5: \u001b[0m\u001b[0;1;31merror: \u001b[0m\u001b[1mno matching function for call to 'foo'\u001b[0m\n",
      "    foo(0); // << error!\n",
      "\u001b[0;1;32m    ^~~\n",
      "\u001b[0m\u001b[1minput_line_14:2:26: \u001b[0m\u001b[0;1;30mnote: \u001b[0mcandidate template ignored: substitution failure [with T = int]: type 'int'\n",
      "      cannot be used prior to '::' because it has no members\u001b[0m\n",
      "typename T::internalType foo(const T& t) { \n",
      "\u001b[0;1;32m         ~               ^\n",
      "\u001b[0m"
     ]
    },
    {
     "ename": "Interpreter Error",
     "evalue": "",
     "output_type": "error",
     "traceback": [
      "Interpreter Error: "
     ]
    }
   ],
   "source": [
    "int main() {\n",
    "    foo(Bar());\n",
    "    foo(0); // << error!\n",
    "};"
   ]
  },
  {
   "cell_type": "markdown",
   "id": "90415da0",
   "metadata": {},
   "source": [
    "> candidate template ignored: substitution failure [with T = int]: type 'int'\n",
    "      cannot be used prior to '::' because it has no members"
   ]
  },
  {
   "cell_type": "markdown",
   "id": "d3ecb9a4",
   "metadata": {},
   "source": [
    "We have one function template that returns T::internalType, and we call it with Bar and int param types.\n",
    "\n",
    "The code, of course, will not compile. The first call of foo(Bar()); is a proper construction, but the second call generates the following error (GCC):"
   ]
  },
  {
   "cell_type": "code",
   "execution_count": null,
   "id": "172a1b89",
   "metadata": {},
   "outputs": [],
   "source": [
    "When we make a simple correction and provide a suitable function for int types. As simple as:"
   ]
  },
  {
   "cell_type": "code",
   "execution_count": 10,
   "id": "53539788",
   "metadata": {},
   "outputs": [
    {
     "name": "stderr",
     "output_type": "stream",
     "text": [
      "In file included from input_line_5:1:\n",
      "In file included from /home/sz/anaconda3/envs/cling/include/xeus/xinterpreter.hpp:17:\n",
      "In file included from /home/sz/anaconda3/envs/cling/include/xeus/xcomm.hpp:19:\n",
      "In file included from /home/sz/anaconda3/envs/cling/include/nlohmann/json.hpp:42:\n",
      "In file included from /home/sz/anaconda3/envs/cling/bin/../lib/gcc/../../x86_64-conda-linux-gnu/include/c++/9.4.0/iterator:64:\n",
      "\u001b[1m/home/sz/anaconda3/envs/cling/bin/../lib/gcc/../../x86_64-conda-linux-gnu/include/c++/9.4.0/ostream:568:8: \u001b[0m\u001b[0;1;31merror: \u001b[0m\u001b[1mno member named 'setstate' in 'std::basic_ostream<char>'\u001b[0m\n",
      "        __out.setstate(ios_base::badbit);\n",
      "\u001b[0;1;32m        ~~~~~ ^\n",
      "\u001b[0m\u001b[1minput_line_17:1:23: \u001b[0m\u001b[0;1;30mnote: \u001b[0min instantiation of function template specialization\n",
      "      'std::operator<<<std::char_traits<char> >' requested here\u001b[0m\n",
      "int foo(int i) { cout << \"foo(int)\\n\"; return 0; };\n",
      "\u001b[0;1;32m                      ^\n",
      "\u001b[0m"
     ]
    },
    {
     "ename": "Interpreter Error",
     "evalue": "",
     "output_type": "error",
     "traceback": [
      "Interpreter Error: "
     ]
    }
   ],
   "source": [
    "int foo(int i) { cout << \"foo(int)\\n\"; return 0; };"
   ]
  },
  {
   "cell_type": "markdown",
   "id": "369350a2",
   "metadata": {},
   "source": [
    "The code can be built and run."
   ]
  },
  {
   "cell_type": "markdown",
   "id": "7bc33573",
   "metadata": {},
   "source": [
    "Why is that?\n",
    "\n",
    "When we added an overloaded function for the int type, the compiler could find a proper match and invoke the code. But in the compilation process, the compiler also ‘looks’ at the templated function header. This function is invalid for the int type, so why was there not even a warning reported (like we got when there was no second function provided)? To understand this, we need to look at the process of building the overload resolution set for a function call."
   ]
  },
  {
   "cell_type": "markdown",
   "id": "e1c82bb9",
   "metadata": {},
   "source": [
    "### Overload Resolution   \n",
    "When the compiler tries to compile a function call (simplified):\n",
    "\n",
    "* Perform a name lookup (see more @CppReference).\n",
    "* For function templates the template argument values are deduced from the types of the actual arguments passed into the function.\n",
    "1. All occurrences of the template parameter (in the return type and parameters types) are substituted with those deduced types.\n",
    "2. When this process leads to invalid type (like int::internalType) the particular function is removed from the overload resolution set. (SFINAE)\n",
    "* At the end, we have a list of viable functions that can be used for the specific call.\n",
    "1. If this set is empty, then the compilation fails.\n",
    "2. If more than one function is chosen, we have an ambiguity.\n",
    "3. In general, the candidate function, whose parameters match the arguments most closely is the one that is called."
   ]
  },
  {
   "cell_type": "markdown",
   "id": "885ba82f",
   "metadata": {},
   "source": [
    "In our example: typename T::internalType foo(const T& t) was not a good match for int and it was rejected from overload resolution set. But at the end, int foo(int i) was the only option in the set, so the compiler did not report any problems."
   ]
  },
  {
   "cell_type": "markdown",
   "id": "2d778dcc",
   "metadata": {},
   "source": [
    "## Where can I use it?   \n",
    "I hope you get a basic idea what SFINAE does, but where can we use this technique? A general answer: whenever we want to select a proper function/specialization for a specific type.\n",
    "\n",
    "* Call a function when T has a given method (like call toString() if T has toString method)\n",
    "* Disallow narrowing or wrong conversions from wrapper types. For example, this is used to prevent std::variant from deducing the wrong types. See Everything You Need to Know About std::variant from C++17 - type conversions.\n",
    "* ..."
   ]
  },
  {
   "cell_type": "markdown",
   "id": "a088ca2d",
   "metadata": {},
   "source": [
    "Ok, but how can we write such SFINAE expressions? Are there any helpers?\n",
    "\n",
    "Let’s meet std::enable_if.\n",
    "    \n",
    "# 2 std::enable_if"
   ]
  },
  {
   "cell_type": "markdown",
   "id": "f97a2c32",
   "metadata": {},
   "source": [
    "One of the primary uses of SFINAE can be found through enable_if expressions.\n",
    "\n",
    "enable_if is a set of tools, available in the Standard Library since C++11, that internally use SFINAE. They allow to include or exclude overloads from possible function templates or class template specialization.\n",
    "\n",
    "For example:\n",
    "\n"
   ]
  },
  {
   "cell_type": "code",
   "execution_count": null,
   "id": "f6727423",
   "metadata": {},
   "outputs": [],
   "source": [
    "// C++11:\n",
    "template <class T>\n",
    "typename std::enable_if<std::is_arithmetic<T>::value, T>::type \n",
    "foo(T t) {\n",
    "  std::cout << \"foo<arithmetic T>\\n\";\n",
    "  return t;\n",
    "}"
   ]
  },
  {
   "cell_type": "markdown",
   "id": "48f77fd5",
   "metadata": {},
   "source": [
    "This function ‘works’ for all the types, that are arithmetic (int, long, float…). If you pass other types (for instance MyClass), it will fail to instantiate. In other words, template instantiations for non-arithmetic types are rejected from overload resolution sets. This construction might be used as a template parameter, function parameter or as a function return type.\n",
    "\n",
    "enable_if<condition, T>::type will generate T, if the condition is true, or an invalid substitution if condition is false.\n",
    "\n",
    "enable_if can be used along with type traits to provide the best function version based on the trait criteria.\n",
    "\n",
    "Also please note that since C++14 and C++17 we have a nicer syntax and more compact. There’s no need to use ::type or ::value for enable_if or the traits, as there are _v and _t variable templates and template aliases introduced.\n",
    "\n",
    "Our previous code can become:"
   ]
  },
  {
   "cell_type": "code",
   "execution_count": null,
   "id": "3ca9ba26",
   "metadata": {},
   "outputs": [],
   "source": [
    "// C++17:\n",
    "template <class T>\n",
    "typename std::enable_if_t<std::is_arithmetic_v<T>, T> // << shorter!\n",
    "foo(T t) {\n",
    "  std::cout << \"foo<arithmetic T>\\n\";\n",
    "  return t;\n",
    "}"
   ]
  },
  {
   "cell_type": "code",
   "execution_count": null,
   "id": "355056fd",
   "metadata": {},
   "outputs": [],
   "source": [
    "Please notice the use of std::enable_if_t and std::is_arithmetic_v.\n",
    "\n",
    "See the full example:"
   ]
  },
  {
   "cell_type": "code",
   "execution_count": 13,
   "id": "54ff505c",
   "metadata": {},
   "outputs": [
    {
     "name": "stderr",
     "output_type": "stream",
     "text": [
      "In file included from input_line_1:1:\n",
      "In file included from /home/sz/anaconda3/envs/cling/bin/../lib/gcc/../../x86_64-conda-linux-gnu/include/c++/9.4.0/new:40:\n",
      "In file included from /home/sz/anaconda3/envs/cling/bin/../lib/gcc/../../x86_64-conda-linux-gnu/include/c++/9.4.0/exception:144:\n",
      "In file included from /home/sz/anaconda3/envs/cling/bin/../lib/gcc/../../x86_64-conda-linux-gnu/include/c++/9.4.0/bits/nested_exception.h:40:\n",
      "In file included from /home/sz/anaconda3/envs/cling/bin/../lib/gcc/../../x86_64-conda-linux-gnu/include/c++/9.4.0/bits/move.h:55:\n",
      "\u001b[1m/home/sz/anaconda3/envs/cling/bin/../lib/gcc/../../x86_64-conda-linux-gnu/include/c++/9.4.0/type_traits:137:31: \u001b[0m\u001b[0;1;31merror: \u001b[0m\u001b[1mno member named 'value' in\n",
      "      'std::__not_<std::is_lvalue_reference<std::basic_ostream<char> &> >'\u001b[0m\n",
      "    : public conditional<_B1::value, __and_<_B2, _B3, _Bn...>, _B1>::type\n",
      "\u001b[0;1;32m                         ~~~~~^\n",
      "\u001b[0m\u001b[1m/home/sz/anaconda3/envs/cling/bin/../lib/gcc/../../x86_64-conda-linux-gnu/include/c++/9.4.0/ostream:685:24: \u001b[0m\u001b[0;1;30mnote: \u001b[0min instantiation of template class\n",
      "      'std::__and_<std::__not_<std::is_lvalue_reference<std::basic_ostream<char>\n",
      "      &> >, std::__is_convertible_to_basic_ostream<std::basic_ostream<char> &>,\n",
      "      std::__is_insertable<std::basic_ostream<char> &, char const (&)[19], void>\n",
      "      >' requested here\u001b[0m\n",
      "    typename enable_if<__and_<__not_<is_lvalue_reference<_Ostream>>,\n",
      "\u001b[0;1;32m                       ^\n",
      "\u001b[0m\u001b[1minput_line_21:4:13: \u001b[0m\u001b[0;1;30mnote: \u001b[0mwhile substituting deduced template arguments into function template\n",
      "      'operator<<' [with _Ostream = std::basic_ostream<char> &, _Tp = char [19]]\u001b[0m\n",
      "  std::cout << \"foo<arithmetic T>\\n\";\n",
      "\u001b[0;1;32m            ^\n",
      "\u001b[0mIn file included from input_line_1:1:\n",
      "In file included from /home/sz/anaconda3/envs/cling/bin/../lib/gcc/../../x86_64-conda-linux-gnu/include/c++/9.4.0/new:40:\n",
      "In file included from /home/sz/anaconda3/envs/cling/bin/../lib/gcc/../../x86_64-conda-linux-gnu/include/c++/9.4.0/exception:144:\n",
      "In file included from /home/sz/anaconda3/envs/cling/bin/../lib/gcc/../../x86_64-conda-linux-gnu/include/c++/9.4.0/bits/nested_exception.h:40:\n",
      "In file included from /home/sz/anaconda3/envs/cling/bin/../lib/gcc/../../x86_64-conda-linux-gnu/include/c++/9.4.0/bits/move.h:55:\n",
      "\u001b[1m/home/sz/anaconda3/envs/cling/bin/../lib/gcc/../../x86_64-conda-linux-gnu/include/c++/9.4.0/type_traits:137:31: \u001b[0m\u001b[0;1;31merror: \u001b[0m\u001b[1mno member named 'value' in\n",
      "      'std::__not_<std::is_lvalue_reference<std::basic_ostream<char> &> >'\u001b[0m\n",
      "    : public conditional<_B1::value, __and_<_B2, _B3, _Bn...>, _B1>::type\n",
      "\u001b[0;1;32m                         ~~~~~^\n",
      "\u001b[0m\u001b[1m/home/sz/anaconda3/envs/cling/bin/../lib/gcc/../../x86_64-conda-linux-gnu/include/c++/9.4.0/ostream:685:24: \u001b[0m\u001b[0;1;30mnote: \u001b[0min instantiation of template class\n",
      "      'std::__and_<std::__not_<std::is_lvalue_reference<std::basic_ostream<char>\n",
      "      &> >, std::__is_convertible_to_basic_ostream<std::basic_ostream<char> &>,\n",
      "      std::__is_insertable<std::basic_ostream<char> &, char const (&)[14], void>\n",
      "      >' requested here\u001b[0m\n",
      "    typename enable_if<__and_<__not_<is_lvalue_reference<_Ostream>>,\n",
      "\u001b[0;1;32m                       ^\n",
      "\u001b[0m\u001b[1minput_line_21:10:13: \u001b[0m\u001b[0;1;30mnote: \u001b[0mwhile substituting deduced template arguments into function template\n",
      "      'operator<<' [with _Ostream = std::basic_ostream<char> &, _Tp = char [14]]\u001b[0m\n",
      "  std::cout << \"foo fallback\\n\";\n",
      "\u001b[0;1;32m            ^\n",
      "\u001b[0mIn file included from input_line_1:1:\n",
      "In file included from /home/sz/anaconda3/envs/cling/bin/../lib/gcc/../../x86_64-conda-linux-gnu/include/c++/9.4.0/new:40:\n",
      "In file included from /home/sz/anaconda3/envs/cling/bin/../lib/gcc/../../x86_64-conda-linux-gnu/include/c++/9.4.0/exception:144:\n",
      "In file included from /home/sz/anaconda3/envs/cling/bin/../lib/gcc/../../x86_64-conda-linux-gnu/include/c++/9.4.0/bits/nested_exception.h:40:\n",
      "In file included from /home/sz/anaconda3/envs/cling/bin/../lib/gcc/../../x86_64-conda-linux-gnu/include/c++/9.4.0/bits/move.h:55:\n",
      "\u001b[1m/home/sz/anaconda3/envs/cling/bin/../lib/gcc/../../x86_64-conda-linux-gnu/include/c++/9.4.0/type_traits:2873:63: \u001b[0m\u001b[0;1;31merror: \u001b[0m\u001b[1mno member named 'value' in 'std::is_arithmetic<std::__cxx11::basic_string<char>\n",
      "      >'\u001b[0m\n",
      "  inline constexpr bool is_arithmetic_v = is_arithmetic<_Tp>::value;\n",
      "\u001b[0;1;32m                                          ~~~~~~~~~~~~~~~~~~~~^\n",
      "\u001b[0m\u001b[1minput_line_21:8:33: \u001b[0m\u001b[0;1;30mnote: \u001b[0min instantiation of variable template specialization\n",
      "      'std::is_arithmetic_v<std::__cxx11::basic_string<char> >' requested here\u001b[0m\n",
      "typename std::enable_if_t<!std::is_arithmetic_v<T>, void>\n",
      "\u001b[0;1;32m                                ^\n",
      "\u001b[0m\u001b[1minput_line_21:14:5: \u001b[0m\u001b[0;1;30mnote: \u001b[0mwhile substituting deduced template arguments into function template 'foo' [with\n",
      "      T = std::__cxx11::basic_string<char>]\u001b[0m\n",
      "    foo(std::string{});\n",
      "\u001b[0;1;32m    ^\n",
      "\u001b[0m\u001b[1minput_line_21:14:5: \u001b[0m\u001b[0;1;31merror: \u001b[0m\u001b[1mno matching function for call to 'foo'\u001b[0m\n",
      "    foo(std::string{});\n",
      "\u001b[0;1;32m    ^~~\n",
      "\u001b[0m\u001b[1minput_line_21:3:1: \u001b[0m\u001b[0;1;30mnote: \u001b[0mcandidate template ignored: substitution failure [with T =\n",
      "      std::__cxx11::basic_string<char>]\u001b[0m\n",
      "foo(T t) {\n",
      "\u001b[0;1;32m^\n",
      "\u001b[0m\u001b[1minput_line_21:9:1: \u001b[0m\u001b[0;1;30mnote: \u001b[0mcandidate template ignored: substitution failure [with T =\n",
      "      std::__cxx11::basic_string<char>]: non-type template argument is not a\n",
      "      constant expression\u001b[0m\n",
      "foo(T t) {\n",
      "\u001b[0;1;32m^\n",
      "\u001b[0mIn file included from input_line_5:1:\n",
      "In file included from /home/sz/anaconda3/envs/cling/include/xeus/xinterpreter.hpp:17:\n",
      "In file included from /home/sz/anaconda3/envs/cling/include/xeus/xcomm.hpp:19:\n",
      "In file included from /home/sz/anaconda3/envs/cling/include/nlohmann/json.hpp:42:\n",
      "In file included from /home/sz/anaconda3/envs/cling/bin/../lib/gcc/../../x86_64-conda-linux-gnu/include/c++/9.4.0/iterator:64:\n",
      "\u001b[1m/home/sz/anaconda3/envs/cling/bin/../lib/gcc/../../x86_64-conda-linux-gnu/include/c++/9.4.0/ostream:568:8: \u001b[0m\u001b[0;1;31merror: \u001b[0m\u001b[1mno member named 'setstate' in 'std::basic_ostream<char>'\u001b[0m\n",
      "        __out.setstate(ios_base::badbit);\n",
      "\u001b[0;1;32m        ~~~~~ ^\n",
      "\u001b[0m\u001b[1minput_line_21:4:13: \u001b[0m\u001b[0;1;30mnote: \u001b[0min instantiation of function template specialization\n",
      "      'std::operator<<<std::char_traits<char> >' requested here\u001b[0m\n",
      "  std::cout << \"foo<arithmetic T>\\n\";\n",
      "\u001b[0;1;32m            ^\n",
      "\u001b[0m\u001b[1minput_line_21:13:5: \u001b[0m\u001b[0;1;30mnote: \u001b[0min instantiation of function template specialization '__cling_N513::foo<int>'\n",
      "      requested here\u001b[0m\n",
      "    foo(0);\n",
      "\u001b[0;1;32m    ^\n",
      "\u001b[0m"
     ]
    },
    {
     "ename": "Interpreter Error",
     "evalue": "",
     "output_type": "error",
     "traceback": [
      "Interpreter Error: "
     ]
    }
   ],
   "source": [
    "#include <iostream>\n",
    "#include <type_traits>\n",
    "\n",
    "template <class T>\n",
    "typename std::enable_if_t<std::is_arithmetic_v<T>, T> // << shorter!\n",
    "foo(T t) {\n",
    "  std::cout << \"foo<arithmetic T>\\n\";\n",
    "  return t;\n",
    "};\n",
    "\n",
    "template <class T>\n",
    "typename std::enable_if_t<!std::is_arithmetic_v<T>, void>\n",
    "foo(T t) {\n",
    "  std::cout << \"foo fallback\\n\";\n",
    "};\n",
    "\n",
    "int main() {\n",
    "    foo(0);\n",
    "    foo(std::string{});\n",
    "};"
   ]
  },
  {
   "cell_type": "code",
   "execution_count": null,
   "id": "588107f8",
   "metadata": {},
   "outputs": [],
   "source": [
    "alternative syntax about enbale_if is"
   ]
  },
  {
   "cell_type": "code",
   "execution_count": null,
   "id": "8c9c2e6d",
   "metadata": {},
   "outputs": [],
   "source": [
    "// if you think put enable_if_t in declaration is disgusting\n",
    "template<typename T, typename = std::enable_if_t(std::is_arithmetic_v<T>, T)>\n",
    "foo(T t) {\n",
    "  std::cout << \"foo<arithmetic T>\\n\";\n",
    "  return t;\n",
    "};"
   ]
  },
  {
   "cell_type": "code",
   "execution_count": null,
   "id": "009707a5",
   "metadata": {},
   "outputs": [],
   "source": [
    "another way is to use with using\n",
    "template<typename T>\n",
    "using EnableIfArithmetic =  std::enable_if_t(std::is_arithmetic_v<T>, T)\n",
    "\n",
    "template<typename T, typename = EnableIfArithmetic<T>>\n",
    "foo(T t) {\n",
    "  std::cout << \"foo<arithmetic T>\\n\";\n",
    "  return t;\n",
    "};"
   ]
  },
  {
   "cell_type": "markdown",
   "id": "e2c4ef5f",
   "metadata": {},
   "source": [
    "# Alternatives to SFINAE"
   ]
  },
  {
   "cell_type": "markdown",
   "id": "81da9266",
   "metadata": {},
   "source": [
    "### Any Disadvantages of SFINAE?   \n",
    "SFINAE and enable_if are compelling features, but also it’s hard to get it right. Simple examples might work, but in real-life scenarios, you might get into all sorts of problems:\n",
    "\n",
    "* Template errors: do you like reading template errors generated by the compiler? Especially when you use STL types?\n",
    "* Readability\n",
    "* Nested templates usually won’t work in enable_if statements\n",
    "Here is a discussion at StackOverflow: Why should I avoid std::enable_if in function signatures.\n",
    "\n",
    "Can we do something better?"
   ]
  },
  {
   "cell_type": "markdown",
   "id": "cdf2da66",
   "metadata": {},
   "source": [
    "We have at least three things:\n",
    "\n",
    "* tag dispatching\n",
    "* compile-time if\n",
    "* and… Concepts!\n",
    "Let’s review them briefly."
   ]
  },
  {
   "cell_type": "markdown",
   "id": "1a256519",
   "metadata": {},
   "source": [
    "## Tag Dispatching   \n",
    "This is a much more readable version of selecting which version of a function is called. First, we define a core function, and then we call version A or B depending on some compile-time condition."
   ]
  },
  {
   "cell_type": "code",
   "execution_count": null,
   "id": "cc2efb4e",
   "metadata": {},
   "outputs": [],
   "source": [
    "template <typename T>\n",
    "int get_int_value_impl(T t, std::true_type) {\n",
    "    return static_cast<int>(t+0.5f);\n",
    "}\n",
    "\n",
    "template <typename T>\n",
    "int get_int_value_impl(T t, std::false_type) {\n",
    "    return static_cast<int>(t);\n",
    "}\n",
    "\n",
    "template <typename T>\n",
    "int get_int_value(T t) {\n",
    "    return get_int_value_impl(t, std::is_floating_point<T>{});\n",
    "}"
   ]
  },
  {
   "cell_type": "code",
   "execution_count": null,
   "id": "7fe84a53",
   "metadata": {},
   "outputs": [],
   "source": [
    "When you call get_int_value the compiler will then check the value of std::is_floating_point and then call the matching _impl function."
   ]
  },
  {
   "cell_type": "markdown",
   "id": "6dac2fd3",
   "metadata": {},
   "source": [
    "## Compile Time if(Since C++17)   \n",
    "Since C++17 we have a new tool, build in the language, that allows you to check the condition at compile time - without the need to write complex templated code!\n",
    "\n",
    "In a short form we can present it:"
   ]
  },
  {
   "cell_type": "code",
   "execution_count": null,
   "id": "6bd79804",
   "metadata": {},
   "outputs": [],
   "source": [
    "template <typename T>\n",
    "int get_int_value(T t) {\n",
    "     if constexpr (std::is_floating_point<T>) {\n",
    "         return static_cast<int>(t+0.5f);\n",
    "     }\n",
    "     else {\n",
    "         return static_cast<int>(t);\n",
    "     }\n",
    "}"
   ]
  },
  {
   "cell_type": "markdown",
   "id": "c3a2c722",
   "metadata": {},
   "source": [
    "## Concepts - Since C++20   \n",
    "With each C++ Standard revision, we get much better techniques and tools to write templates. In C++20 we’ll get a long-awaited feature, that will revolutionise the way we write templates!\n",
    "\n",
    "With Concepts, you’ll be able to add constraints on the template parameters and get better compiler warnings.\n",
    "\n",
    "One basic example:"
   ]
  },
  {
   "cell_type": "code",
   "execution_count": null,
   "id": "27ef6573",
   "metadata": {},
   "outputs": [],
   "source": [
    "// define a concept:\n",
    "template <class T>\n",
    "concept SignedIntegral = std::is_integral_v<T> && std::is_signed_v<T>;\n",
    "\n",
    "// use:\n",
    "template <SignedIntegral T>\n",
    "void signedIntsOnly(T val) { }"
   ]
  },
  {
   "cell_type": "markdown",
   "id": "f27553e8",
   "metadata": {},
   "source": [
    "In the code above we first create a concept that describes types that are signed and integral. Please notice that we can use existing type traits. Later, we use it to define a function template that supports only types that match the concept. Here we don’t use typename T, but we can refer to the name of a concept."
   ]
  },
  {
   "cell_type": "markdown",
   "id": "c7a38e9f",
   "metadata": {},
   "source": [
    "### Summary   \n",
    "In this post, we covered theory and examples of SFINAE - a template programming technique that allows you to reject code from the overload resolution sets. In raw form, this can be a bit complicated, but thanks to modern C++ we have many tools that can help: for example enable_if, std::declval and a few others. What’s more, if you’re lucky to work with the latest C++ standard, you can leverage if constexpr from C++17 and also Concepts from C++20."
   ]
  },
  {
   "cell_type": "code",
   "execution_count": null,
   "id": "052767b6",
   "metadata": {},
   "outputs": [],
   "source": []
  }
 ],
 "metadata": {
  "kernelspec": {
   "display_name": "C++17",
   "language": "C++17",
   "name": "xcpp17"
  },
  "language_info": {
   "codemirror_mode": "text/x-c++src",
   "file_extension": ".cpp",
   "mimetype": "text/x-c++src",
   "name": "c++",
   "version": "17"
  }
 },
 "nbformat": 4,
 "nbformat_minor": 5
}
