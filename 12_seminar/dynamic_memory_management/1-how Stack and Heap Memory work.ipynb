{
 "cells": [
  {
   "cell_type": "markdown",
   "id": "6a0923ed",
   "metadata": {},
   "source": [
    "> https://courses.engr.illinois.edu/cs225/fa2023/resources/stack-heap/"
   ]
  },
  {
   "cell_type": "markdown",
   "id": "7f3f8734",
   "metadata": {},
   "source": [
    "# 1 Overview\n",
    "When a program is running, it takes up memory. Sometimes we are not even aware of the memory being allocated. In fact, every time you create a new variable, your program is allocating more memory for you to store that variable. This article focuses on two kinds of memories: stack and heap.\n",
    "\n",
    "# 2 General Memory Layout\n",
    "Each running program has its own memory layout, separated from other programs. The layout consists of a lot of segments, including:\n",
    "\n",
    "stack: stores local variables\n",
    "heap: dynamic memory for programmer to allocate\n",
    "data: stores global variables, separated into initialized and uninitialized\n",
    "text: stores the code being executed\n",
    "In order to pinpoint each memory location in a program’s memory, we assign each byte of memory an “address”. The addresses go from 0 all the way to the largest possible address, depending on the machine. As the figure below, the text, data, and heap segments have low address numbers, while the stack memory has higher addresses."
   ]
  },
  {
   "cell_type": "markdown",
   "id": "0d3cae73",
   "metadata": {},
   "source": [
    "![](./images/memory_layout.jpeg)"
   ]
  },
  {
   "cell_type": "markdown",
   "id": "d3d7c2d2",
   "metadata": {},
   "source": [
    "By convention, we express these addresses in base 16 numbers. For instance, the smallest possible address is 0x00000000 (where the 0x means base 16), and the largest possible address could be 0xFFFFFFFF."
   ]
  },
  {
   "cell_type": "markdown",
   "id": "9ce4f63f",
   "metadata": {},
   "source": [
    "# 3 allocate stack memory for a local variable in the scope of a function"
   ]
  },
  {
   "cell_type": "markdown",
   "id": "76924e70",
   "metadata": {},
   "source": [
    "As shown above, the stack segment is near the top of memory with high address. Every time a function is called, the machine allocates some stack memory for it. When a new local variables is declared, more stack memory is allocated for that function to store the variable. Such allocations make the stack grow downwards. After the function returns, the stack memory of this function is deallocated, which means all local variables become invalid. The allocation and deallocation for stack memory is automatically done. The variables allocated on the stack are called stack variables, or automatic variables.\n",
    "\n",
    "The following figures show examples of what stack memory looks like when the corresponding code is run:"
   ]
  },
  {
   "cell_type": "markdown",
   "id": "858374e6",
   "metadata": {},
   "source": [
    "![allocate_memory_for_local_variable_in_stack](./images/allocate_memory_for_local_variable_in_stack.jpeg)"
   ]
  },
  {
   "cell_type": "markdown",
   "id": "88cb3efc",
   "metadata": {},
   "source": [
    "## common mistake: return a pointer from the address of a local vaibale in low-level function"
   ]
  },
  {
   "cell_type": "markdown",
   "id": "700fcbee",
   "metadata": {},
   "source": [
    "Since the stack memory of a function gets deallocated after the function returns, there is no guarantee that the value stored in those area will stay the same. A common mistake is to return a pointer to a stack variable in a helper function. After the caller gets this pointer, the invalid stack memory can be overwritten at anytime. The following figures demonstrate one example of such scenario. Assume there is a Cube class that has methods getVolume and getSurfaceArea, as well as a private variable width."
   ]
  },
  {
   "cell_type": "markdown",
   "id": "4af70619",
   "metadata": {},
   "source": [
    "![allocate_memory_for_local_variable_in_stack](./images/common_mistake.jpeg)"
   ]
  },
  {
   "cell_type": "markdown",
   "id": "65aec569",
   "metadata": {},
   "source": [
    "# 4 allocate heap memory for a object with controllable lifetime by programmer"
   ]
  },
  {
   "cell_type": "markdown",
   "id": "cec9f80f",
   "metadata": {},
   "source": [
    "In the previous section we saw that functions cannot return pointers of stack variables. To solve this issue, you can either return by copy, or put the value at somewhere more permanent than stack memory. Heap memory is such a place. Unlike stack memory, heap memory is allocated explicitly by programmers and it won’t be deallocated until it is explicitly freed. To allocate heap memory in C++, use the keyword new followed by the constructor of what you want to allocate. The return value of new operator will be the address of what you just created (which points to somewhere in the heap).\n",
    "\n",
    "The figures below demonstrate what happens in both stack and heap when the corresponding code is executed:"
   ]
  },
  {
   "cell_type": "markdown",
   "id": "192754a1",
   "metadata": {},
   "source": [
    "## 4.1 The need for dynamic memory allocation"
   ]
  },
  {
   "cell_type": "markdown",
   "id": "0b231bd7",
   "metadata": {},
   "source": [
    "> https://www.learncpp.com/cpp-tutorial/dynamic-memory-allocation-with-new-and-delete/"
   ]
  },
  {
   "cell_type": "markdown",
   "id": "90f8b40a",
   "metadata": {},
   "source": [
    "![allocate_memory_for_local_variable_in_stack](./images/allocate_memory_in_heap.jpeg)"
   ]
  },
  {
   "cell_type": "markdown",
   "id": "388d453d",
   "metadata": {},
   "source": [
    "## 4.2 how and what happens when stack-heap memory works?"
   ]
  },
  {
   "cell_type": "markdown",
   "id": "b71221c6",
   "metadata": {},
   "source": [
    "To free heap memory, use the key word delete followed by the pointer to the heap memory. Be careful about the memory you freed. If you try to use the pointers to those memory after you free them, it will cause undefined behavior. To avoid such issues, it is good practice to set the value of freed pointers to nullptr immediately after delete. Here is an example that correctly frees memory after using it."
   ]
  },
  {
   "cell_type": "markdown",
   "id": "96ae6852",
   "metadata": {},
   "source": [
    "![](./images/step1.jpeg)"
   ]
  },
  {
   "cell_type": "markdown",
   "id": "26457bc7",
   "metadata": {},
   "source": [
    "![](./images/step2.jpeg)"
   ]
  },
  {
   "cell_type": "markdown",
   "id": "e1f65fe2",
   "metadata": {},
   "source": [
    "![](./images/step3.jpeg)"
   ]
  },
  {
   "cell_type": "markdown",
   "id": "9411bde1",
   "metadata": {},
   "source": [
    "![](./images/step4.jpeg)"
   ]
  },
  {
   "cell_type": "markdown",
   "id": "54161b39",
   "metadata": {},
   "source": [
    "![](./images/step5.jpeg)"
   ]
  },
  {
   "cell_type": "markdown",
   "id": "38b21abb",
   "metadata": {},
   "source": [
    "![](./images/step6.jpeg)"
   ]
  },
  {
   "cell_type": "markdown",
   "id": "e419766d",
   "metadata": {},
   "source": [
    "![](./images/step7.jpeg)"
   ]
  },
  {
   "cell_type": "markdown",
   "id": "9ae31d22",
   "metadata": {},
   "source": [
    "![](./images/step8.jpeg)"
   ]
  },
  {
   "cell_type": "markdown",
   "id": "109ab068",
   "metadata": {},
   "source": [
    "> In the figures above, you can see that heap memory are not allocated continuously from bottom to top. This is because unlike stack where the invalid memory is always at the bottom, the user can free heap memory that’s in between valid memories, causing fragmentations in the heap. In order to reuse memory efficiently, there are numerous heap allocation scheme that try to pick the “best” spot for you. You will learn more about memory allocation in a system programming class."
   ]
  },
  {
   "cell_type": "markdown",
   "id": "52b5d4e2",
   "metadata": {},
   "source": [
    "## 4.3 what mistakes will happen when use heap-memory"
   ]
  },
  {
   "cell_type": "markdown",
   "id": "f542a04b",
   "metadata": {},
   "source": [
    "### 4.3.1 memory leaks"
   ]
  },
  {
   "cell_type": "markdown",
   "id": "115409be",
   "metadata": {},
   "source": [
    "> https://www.learncpp.com/cpp-tutorial/dynamic-memory-allocation-with-new-and-delete/"
   ]
  },
  {
   "cell_type": "markdown",
   "id": "8ee36186",
   "metadata": {},
   "source": [
    "Consider the following function:\n",
    "~~~\n",
    "void doSomething()\n",
    "{\n",
    "    int* ptr{ new int{} };\n",
    "}\n",
    "~~~"
   ]
  },
  {
   "cell_type": "markdown",
   "id": "8714411d",
   "metadata": {},
   "source": [
    "Dynamically allocated memory stays allocated until it is explicitly deallocated or until the program ends (and the operating system cleans it up, assuming your operating system does that). However, the pointers used to hold dynamically allocated memory addresses follow the normal scoping rules for local variables. This mismatch can create interesting problems."
   ]
  },
  {
   "cell_type": "markdown",
   "id": "6b392366",
   "metadata": {},
   "source": [
    "This function allocates an integer dynamically, but never frees it using delete. **Because pointers variables are just normal variables, when the function ends, ptr will go out of scope. And because ptr is the only variable holding the address of the dynamically allocated integer, when ptr is destroyed there are no more references to the dynamically allocated memory. This means the program has now “lost” the address of the dynamically allocated memory. As a result, this dynamically allocated integer can not be deleted.**\n",
    "\n",
    "This is called a memory leak. Memory leaks happen when your program loses the address of some bit of dynamically allocated memory before giving it back to the operating system. When this happens, your program can’t delete the dynamically allocated memory, because it no longer knows where it is. The operating system also can’t use this memory, because that memory is considered to be still in use by your program.\n",
    "\n",
    "Memory leaks eat up free memory while the program is running, making less memory available not only to this program, but to other programs as well. Programs with severe memory leak problems can eat all the available memory, causing the entire machine to run slowly or even crash. Only after your program terminates is the operating system able to clean up and “reclaim” all leaked memory.\n",
    "\n",
    "Although memory leaks can result from a pointer going out of scope, there are other ways that memory leaks can result. For example, a memory leak can occur if a pointer holding the address of the dynamically allocated memory is assigned another value:"
   ]
  },
  {
   "cell_type": "markdown",
   "id": "04d91e65",
   "metadata": {},
   "source": [
    "### 4.3.2 Dangling pointers\n",
    "\n",
    "C++ does not make any guarantees about what will happen to the contents of deallocated memory, or to the value of the pointer being deleted. In most cases, the memory returned to the operating system will contain the same values it had before it was returned, and the pointer will be left pointing to the now deallocated memory.\n",
    "\n",
    "A pointer that is pointing to deallocated memory is called a dangling pointer. Dereferencing or deleting a dangling pointer will lead to undefined behavior. Consider the following program:"
   ]
  },
  {
   "cell_type": "markdown",
   "id": "cf81bfcd",
   "metadata": {},
   "source": [
    "~~~\n",
    "#include <iostream>\n",
    "\n",
    "int main()\n",
    "{\n",
    "    int* ptr{ new int }; // dynamically allocate an integer\n",
    "    *ptr = 7; // put a value in that memory location\n",
    "\n",
    "    delete ptr; // return the memory to the operating system.  ptr is now a dangling pointer.\n",
    "\n",
    "    std::cout << *ptr; // Dereferencing a dangling pointer will cause undefined behavior\n",
    "    delete ptr; // trying to deallocate the memory again will also lead to undefined behavior.\n",
    "\n",
    "    return 0;\n",
    "}\n",
    "~~~"
   ]
  },
  {
   "cell_type": "markdown",
   "id": "6c2184b7",
   "metadata": {},
   "source": [
    "In the above program, the value of 7 that was previously assigned to the allocated memory will probably still be there, but it’s possible that the value at that memory address could have changed. It’s also possible the memory could be allocated to another application (or for the operating system’s own usage), and trying to access that memory will cause the operating system to shut the program down.\n",
    "\n",
    "Deallocating memory may create multiple dangling pointers. Consider the following example:\n",
    "~~~\n",
    "#include <iostream>\n",
    "\n",
    "int main()\n",
    "{\n",
    "    int* ptr{ new int{} }; // dynamically allocate an integer\n",
    "    int* otherPtr{ ptr }; // otherPtr is now pointed at that same memory location\n",
    "\n",
    "    delete ptr; // return the memory to the operating system.  ptr and otherPtr are now dangling pointers.\n",
    "    ptr = nullptr; // ptr is now a nullptr\n",
    "\n",
    "    // however, otherPtr is still a dangling pointer!\n",
    "\n",
    "    return 0;\n",
    "}\n",
    "~~~"
   ]
  },
  {
   "cell_type": "markdown",
   "id": "4ccecc36",
   "metadata": {},
   "source": [
    "There are a few best practices that can help here.\n",
    "    \n",
    "* First, try to avoid having multiple pointers point at the same piece of dynamic memory. If this is not possible, be clear about which pointer “owns” the memory (and is responsible for deleting it) and which pointers are just accessing it.\n",
    "\n",
    "* Second, when you delete a pointer, if that pointer is not going out of scope immediately afterward, set the pointer to nullptr. We’ll talk more about null pointers, and why they are useful in a bit."
   ]
  },
  {
   "cell_type": "markdown",
   "id": "ee0a18a9",
   "metadata": {},
   "source": [
    "# 5 conclusion"
   ]
  },
  {
   "cell_type": "markdown",
   "id": "296900cf",
   "metadata": {},
   "source": [
    "here is the key points:\n",
    "* A pointer variable (or pointer in short) is basically the same as the other variables, which can store a piece of data. Unlike normal variable which stores a value (such as an int, a double, a char), a pointer stores a memory address. that's saying pointer is an object that holds a memory address (typically of another variable) as its value. This allows us to store the address of some other object to use later.\n",
    "\n",
    "* the raw pointer own the ownership of the object in the heap that points to, the meanning of ownership here is: the pointer has the right to control the lifetime of that object in heap, by creation(new) and destroy(delete ptr)\n",
    "\n",
    "* A pointer is a local variable in the scope of a function, when the function ends, ptr will go out of scope. And because ptr is the only variable holding the address of the dynamically allocated integer, when ptr is destroyed there are no more references to the dynamically allocated memory. This means the program has now “lost” the address of the dynamically allocated memory. As a result, this dynamically allocated integer can not be deleted. this will result in memory leaks."
   ]
  },
  {
   "cell_type": "markdown",
   "id": "ce1c7a7a",
   "metadata": {},
   "source": [
    "### what to do"
   ]
  },
  {
   "cell_type": "markdown",
   "id": "f9cd134c",
   "metadata": {},
   "source": [
    "* First, try to avoid having multiple pointers point at the same piece of dynamic memory. If this is not possible, be clear about which pointer “owns” the memory (and is responsible for deleting it) and which pointers are just accessing it.\n",
    "\n",
    "* Second, when you delete a pointer, if that pointer is not going out of scope immediately afterward, set the pointer to nullptr. We’ll talk more about null pointers, and why they are useful in a bit."
   ]
  },
  {
   "cell_type": "code",
   "execution_count": null,
   "id": "c27f8f3c",
   "metadata": {},
   "outputs": [],
   "source": []
  }
 ],
 "metadata": {
  "kernelspec": {
   "display_name": "C++17",
   "language": "C++17",
   "name": "xcpp17"
  },
  "language_info": {
   "codemirror_mode": "text/x-c++src",
   "file_extension": ".cpp",
   "mimetype": "text/x-c++src",
   "name": "c++",
   "version": "17"
  }
 },
 "nbformat": 4,
 "nbformat_minor": 5
}
