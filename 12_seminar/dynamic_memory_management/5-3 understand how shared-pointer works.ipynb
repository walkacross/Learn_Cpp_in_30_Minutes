{
 "cells": [
  {
   "cell_type": "code",
   "execution_count": 5,
   "id": "7fa239e5",
   "metadata": {},
   "outputs": [],
   "source": [
    "#include <memory>\n",
    "#include <iostream>\n",
    "#include <map>\n",
    "#include <string>\n",
    "#include <atomic>"
   ]
  },
  {
   "cell_type": "markdown",
   "id": "13ccff35",
   "metadata": {},
   "source": [
    "> When you create dynamic resources you need to think about ownership ie. who is responsible for deleting it? The object that should be responsible for deleting the resource should manage the resource using some kind of smart pointer (or a container)."
   ]
  },
  {
   "cell_type": "markdown",
   "id": "6a74242c",
   "metadata": {},
   "source": [
    "Unlike std::unique_ptr, which is designed to singly own and manage a resource, std::shared_ptr is meant to solve the case where you need multiple smart pointers co-owning a resource.\n",
    "    \n",
    "This means that it is fine to have multiple std::shared_ptr pointing to the same resource. Internally, std::shared_ptr keeps track of how many std::shared_ptr are sharing the resource. As long as at least one std::shared_ptr is pointing to the resource, the resource will not be deallocated, even if individual std::shared_ptr are destroyed. As soon as the last std::shared_ptr managing the resource goes out of scope (or is reassigned to point at something else), the resource will be deallocated."
   ]
  },
  {
   "cell_type": "markdown",
   "id": "24b83c39",
   "metadata": {},
   "source": [
    "* 1 Basic operation of std::shared_ptr\n",
    "* 2 re-implenent std::shared_ptr\n",
    "* 3 what happens when std::shared_ptr in a function declration\n",
    "* 4 what happens when std::shared_ptr as member variable in a class"
   ]
  },
  {
   "cell_type": "code",
   "execution_count": 6,
   "id": "2d0e0913",
   "metadata": {},
   "outputs": [],
   "source": [
    "class Resource\n",
    "{\n",
    "public:\n",
    "    int number;\n",
    "    \n",
    "    Resource(int n) {\n",
    "        number = n;\n",
    "        std::cout << \"Resource acquired\\n\"; \n",
    "    }\n",
    "    \n",
    "    ~Resource() { \n",
    "        std::cout << \"Resource destroyed\\n\"; \n",
    "    }\n",
    "    \n",
    "    friend std::ostream& operator<<(std::ostream& out, const Resource& res){\n",
    "        out << \"I am a resource\\n\";\n",
    "        return out;\n",
    "    }\n",
    "};"
   ]
  },
  {
   "cell_type": "markdown",
   "id": "112f871a",
   "metadata": {},
   "source": [
    "# 1 Basic operation of std::shared_ptr"
   ]
  },
  {
   "cell_type": "code",
   "execution_count": 7,
   "id": "ae162627",
   "metadata": {},
   "outputs": [
    {
     "name": "stdout",
     "output_type": "stream",
     "text": [
      "Resource acquired\n",
      "the number of shared_ptr objects referring to the same managed object: 1\n",
      "the number of shared_ptr objects referring to the same managed object: 2\n",
      "Killing one shared pointer\n",
      "the number of shared_ptr objects referring to the same managed object: 1\n",
      "Killing another shared pointer\n",
      "Resource destroyed\n"
     ]
    }
   ],
   "source": [
    "{\n",
    "    // allocate a Resource object and have it owned by std::shared_ptr\n",
    "    Resource* res { new Resource(111) };\n",
    "    std::shared_ptr<Resource> ptr1{ res };\n",
    "    //returns the number of shared_ptr objects referring to the same managed object\n",
    "    std::cout << \"the number of shared_ptr objects referring to the same managed object: \" << ptr1.use_count() << std::endl; \n",
    "    {\n",
    "        std::shared_ptr<Resource> ptr2 { ptr1 }; // make another std::shared_ptr pointing to the same thing\n",
    "        std::cout << \"the number of shared_ptr objects referring to the same managed object: \" << ptr1.use_count() << std::endl;\n",
    "        std::cout << \"Killing one shared pointer\\n\";\n",
    "    } // ptr2 goes out of scope here, but nothing happens\n",
    "    \n",
    "    std::cout << \"the number of shared_ptr objects referring to the same managed object: \" << ptr1.use_count() << std::endl;\n",
    "    std::cout << \"Killing another shared pointer\\n\";\n",
    "} // ptr1 goes out of scope here, and the allocated Resource is destroyed"
   ]
  },
  {
   "cell_type": "code",
   "execution_count": 14,
   "id": "4dd9931c",
   "metadata": {},
   "outputs": [
    {
     "name": "stdout",
     "output_type": "stream",
     "text": [
      "Resource acquired\n",
      "3\n",
      "3\n",
      "3\n",
      "4\n",
      "4\n",
      "4\n",
      "Resource destroyed\n"
     ]
    }
   ],
   "source": [
    "{\n",
    "    std::shared_ptr<Resource> sptr1( new Resource(123) );\n",
    "    std::shared_ptr<Resource> sptr2 = sptr1;\n",
    "    std::shared_ptr<Resource> sptr3;\n",
    "    std::shared_ptr<Resource> sptr4;\n",
    " \n",
    "    sptr3 = sptr2;\n",
    "\n",
    "    std::cout << sptr1.use_count() << std::endl;\n",
    "    std::cout << sptr2.use_count() << std::endl;\n",
    "    std::cout << sptr3.use_count() << std::endl;\n",
    "\n",
    "    sptr4 = sptr2;\n",
    "\n",
    "    std::cout << sptr1.use_count() << std::endl;\n",
    "    std::cout << sptr2.use_count() << std::endl;\n",
    "    std::cout << sptr3.use_count() << std::endl;\n",
    "}\n"
   ]
  },
  {
   "cell_type": "code",
   "execution_count": 17,
   "id": "a9698d17",
   "metadata": {},
   "outputs": [
    {
     "name": "stdout",
     "output_type": "stream",
     "text": [
      "Resource acquired\n",
      "3\n",
      "3\n",
      "3\n",
      "3\n",
      "0\n",
      "3\n",
      "3\n",
      "std::move set the pointer in sptr2 to nullptr\n",
      "Resource destroyed\n"
     ]
    }
   ],
   "source": [
    "{\n",
    "    std::shared_ptr<Resource> sptr1( new Resource(123) );\n",
    "    std::shared_ptr<Resource> sptr2 = sptr1;\n",
    "    std::shared_ptr<Resource> sptr3;\n",
    "    std::shared_ptr<Resource> sptr4;\n",
    " \n",
    "    sptr3 = sptr2;\n",
    "\n",
    "    std::cout << sptr1.use_count() << std::endl;\n",
    "    std::cout << sptr2.use_count() << std::endl;\n",
    "    std::cout << sptr3.use_count() << std::endl;\n",
    "\n",
    "    sptr4 = std::move(sptr2);\n",
    "    \n",
    "    std::cout << sptr1.use_count() << std::endl;\n",
    "    std::cout << sptr2.use_count() << std::endl;\n",
    "    std::cout << sptr3.use_count() << std::endl;\n",
    "    std::cout << sptr4.use_count() << std::endl;\n",
    "    if(sptr2.get() == nullptr){\n",
    "        std::cout << \"std::move set the pointer in sptr2 to nullptr\" << std::endl;\n",
    "    }\n",
    "    \n",
    "}"
   ]
  },
  {
   "cell_type": "markdown",
   "id": "b19d7574",
   "metadata": {},
   "source": [
    "# 2 re-implement std::shared_ptr"
   ]
  },
  {
   "cell_type": "markdown",
   "id": "b3bb1d9c",
   "metadata": {},
   "source": [
    "Unlike std::unique_ptr, which uses a single pointer internally, std::shared_ptr uses two pointers internally. One pointer points at the resource being managed. The other points at a “control block”, which is a dynamically allocated object that tracks of a bunch of stuff, including how many std::shared_ptr are pointing at the resource. When a std::shared_ptr is created via a std::shared_ptr constructor, the memory for the managed object (which is usually passed in) and control block (which the constructor creates) are allocated separately."
   ]
  },
  {
   "cell_type": "code",
   "execution_count": 8,
   "id": "4ed85d9e",
   "metadata": {},
   "outputs": [],
   "source": [
    "class SharedCount {\n",
    "   private:\n",
    "    std::atomic<int> count_;\n",
    "\n",
    "    \n",
    "   public:\n",
    "    SharedCount() : count_{1} {}\n",
    "\n",
    "    void add() { ++count_; }\n",
    "\n",
    "    void minus() { --count_; }\n",
    "\n",
    "    int get() const { return count_; }\n",
    "};"
   ]
  },
  {
   "cell_type": "code",
   "execution_count": 9,
   "id": "f0b68dcd",
   "metadata": {},
   "outputs": [],
   "source": [
    "template <typename T>\n",
    "class SharedPtr {\n",
    "    private:\n",
    "    T* ptr_;\n",
    "    SharedCount* ref_count_;\n",
    "\n",
    "    \n",
    "   public:\n",
    "    SharedPtr(T* ptr) : ptr_{ptr}, ref_count_{new SharedCount} {}\n",
    "\n",
    "    SharedPtr() : ptr_{nullptr}, ref_count_{new SharedCount} {}\n",
    "\n",
    "    ~SharedPtr() { clean(); }\n",
    "    \n",
    "    //copy constructor\n",
    "    SharedPtr(const SharedPtr& p) {\n",
    "        this->ptr_ = p.ptr_;\n",
    "        this->ref_count_ = p.ref_count_;\n",
    "        ref_count_->add();\n",
    "    }\n",
    "    \n",
    "    // move constructor\n",
    "    SharedPtr(SharedPtr&& p) {\n",
    "        this->ptr_ = p.ptr_;\n",
    "        this->ref_count_ = p.ref_count_;\n",
    "        p.ptr_ = nullptr;\n",
    "        p.ref_count_ = nullptr;\n",
    "    }\n",
    "    \n",
    "    // copy assignment operator\n",
    "    SharedPtr& operator=(const SharedPtr& p) {\n",
    "        if (this == &p) return *this;\n",
    "        clean();\n",
    "        this->ptr_ = p.ptr_;\n",
    "        this->ref_count_ = p.ref_count_;\n",
    "        ref_count_->add();\n",
    "        return *this;\n",
    "    }\n",
    "    \n",
    "    // move assignment operator\n",
    "    SharedPtr& operator=(SharedPtr&& p) {\n",
    "        if (this == &p) return *this;\n",
    "        clean();\n",
    "        this->ptr_ = p.ptr_;\n",
    "        this->ref_count_ = p.ref_count_;\n",
    "        p.ptr_ = nullptr;\n",
    "        p.ref_count_ = nullptr;\n",
    "        return *this;\n",
    "    }\n",
    "\n",
    "    int use_count() { return ref_count_->get(); }\n",
    "\n",
    "    T* get() const { return ptr_; }\n",
    "\n",
    "    T* operator->() const { return ptr_; }\n",
    "\n",
    "    T& operator*() const { return *ptr_; }\n",
    "\n",
    "    operator bool() const { return ptr_; }\n",
    "    \n",
    "    private:\n",
    "    void clean() {\n",
    "        if (ref_count_) {\n",
    "            ref_count_->minus();\n",
    "            if (ref_count_->get() == 0) {\n",
    "                if (ptr_) delete ptr_;\n",
    "                delete ref_count_;\n",
    "            }\n",
    "        }\n",
    "    }\n",
    "\n",
    "};"
   ]
  },
  {
   "cell_type": "code",
   "execution_count": 10,
   "id": "22e5fc22",
   "metadata": {},
   "outputs": [
    {
     "name": "stdout",
     "output_type": "stream",
     "text": [
      "Resource acquired\n",
      "the number of shared_ptr objects referring to the same managed object: 1\n",
      "the number of shared_ptr objects referring to the same managed object: 2\n",
      "Killing one shared pointer\n",
      "the number of shared_ptr objects referring to the same managed object: 1\n",
      "Killing another shared pointer\n",
      "Resource destroyed\n"
     ]
    }
   ],
   "source": [
    "{\n",
    "    // allocate a Resource object and have it owned by std::shared_ptr\n",
    "    Resource* res { new Resource(222) };\n",
    "    SharedPtr<Resource> ptr1{ res };\n",
    "    //returns the number of shared_ptr objects referring to the same managed object\n",
    "    std::cout << \"the number of shared_ptr objects referring to the same managed object: \" << ptr1.use_count() << std::endl; \n",
    "    {\n",
    "        SharedPtr<Resource> ptr2 { ptr1 }; // make another std::shared_ptr pointing to the same thing\n",
    "        std::cout << \"the number of shared_ptr objects referring to the same managed object: \" << ptr1.use_count() << std::endl;\n",
    "        std::cout << \"Killing one shared pointer\\n\";\n",
    "    } // ptr2 goes out of scope here, but nothing happens\n",
    "    \n",
    "    std::cout << \"the number of shared_ptr objects referring to the same managed object: \" << ptr1.use_count() << std::endl;\n",
    "    std::cout << \"Killing another shared pointer\\n\";\n",
    "} // ptr1 goes out of scope here, and the allocated Resource is destroyed"
   ]
  },
  {
   "cell_type": "markdown",
   "id": "52bb87ef",
   "metadata": {},
   "source": [
    "This also explains why independently creating two std::shared_ptr pointed to the same resource gets us into trouble. Each std::shared_ptr will have one pointer pointing at the resource. However, each std::shared_ptr will independently allocate its own control block, which will indicate that it is the only pointer owning that resource. Thus, when that std::shared_ptr goes out of scope, it will deallocate the resource, not realizing there are other std::shared_ptr also trying to manage that resource.\n",
    "\n",
    "However, when a std::shared_ptr is cloned using copy assignment, the data in the control block can be appropriately updated to indicate that there are now additional std::shared_ptr co-managing the resource."
   ]
  },
  {
   "cell_type": "markdown",
   "id": "6424c236",
   "metadata": {},
   "source": [
    "# 3 when to how to use smart pointer as function argument?"
   ]
  },
  {
   "cell_type": "markdown",
   "id": "a1fd56d9",
   "metadata": {},
   "source": [
    "* question 1: whether or not to use a smart pointer as function argument?\n",
    "* question 2: Should we pass a shared_ptr by reference or by value?"
   ]
  },
  {
   "cell_type": "markdown",
   "id": "89414dc6",
   "metadata": {},
   "source": [
    "I think people are unnecessarily scared of using raw pointers as function parameters. If the function is not going to store the pointer or otherwise affect its lifetime, a raw pointer works just as well and represents the lowest common denominator. Consider for example how you would pass a unique_ptr into a function that takes a shared_ptr as a parameter, either by value or by const reference?\n",
    "~~~\n",
    "void DoSomething(myClass * p);\n",
    "\n",
    "DoSomething(myClass_shared_ptr.get());\n",
    "DoSomething(myClass_unique_ptr.get());\n",
    "~~~\n",
    "A raw pointer as a function parameter does not prevent you from using smart pointers in the calling code, where it really matters."
   ]
  },
  {
   "cell_type": "markdown",
   "id": "7bc2eaef",
   "metadata": {},
   "source": [
    "* Guideline: Don’t pass a smart pointer as a function parameter unless you want to use or manipulate the smart pointer itself, such as to share or transfer ownership.\n",
    "\n",
    "* Guideline: Express that a function will store and share ownership of a heap object using a by-value shared_ptr parameter.\n",
    "\n",
    "* Guideline: Use a non-const shared_ptr& parameter only to modify the shared_ptr. Use a const shared_ptr& as a parameter only if you’re not sure whether or not you’ll take a copy and share ownership; otherwise use widget* instead (or if not nullable, a widget&)."
   ]
  },
  {
   "cell_type": "markdown",
   "id": "61ff77bc",
   "metadata": {},
   "source": [
    "# 4 forbidden behavior in std::shared_ptr"
   ]
  },
  {
   "cell_type": "markdown",
   "id": "ea3faf2a",
   "metadata": {},
   "source": [
    "## double deallocation of heap-object"
   ]
  },
  {
   "cell_type": "markdown",
   "id": "f30ba565",
   "metadata": {},
   "source": [
    "~~~\n",
    "{\n",
    "    Resource* res { new Resource(111) };\n",
    "    std::shared_ptr<Resource> ptr1 { res };\n",
    "    {\n",
    "        std::shared_ptr<Resource> ptr2 { res }; // create ptr2 directly from res (instead of ptr1)\n",
    "\n",
    "        std::cout << \"Killing one shared pointer\\n\";\n",
    "    } // ptr2 goes out of scope here, and the allocated Resource is destroyed\n",
    "\n",
    "    std::cout << \"Killing another shared pointer\\n\";\n",
    "} // ptr1 goes out of scope here, and the allocated Resource is destroyed again\n",
    "~~~\n",
    "The difference here is that we created two std::shared_ptr independently from each other. As a consequence, even though they’re both pointing to the same Resource, they aren’t aware of each other. When ptr2 goes out of scope, it thinks it’s the only owner of the Resource, and deallocates it. When ptr1 later goes out of the scope, it thinks the same thing, and tries to delete the Resource again. Then bad things happen.\n",
    "\n",
    "Fortunately, this is easily avoided: if you need more than one std::shared_ptr to a given resource, copy an existing std::shared_ptr."
   ]
  },
  {
   "cell_type": "markdown",
   "id": "f68ec827",
   "metadata": {},
   "source": []
  }
 ],
 "metadata": {
  "kernelspec": {
   "display_name": "C++17",
   "language": "C++17",
   "name": "xcpp17"
  },
  "language_info": {
   "codemirror_mode": "text/x-c++src",
   "file_extension": ".cpp",
   "mimetype": "text/x-c++src",
   "name": "c++",
   "version": "17"
  }
 },
 "nbformat": 4,
 "nbformat_minor": 5
}
