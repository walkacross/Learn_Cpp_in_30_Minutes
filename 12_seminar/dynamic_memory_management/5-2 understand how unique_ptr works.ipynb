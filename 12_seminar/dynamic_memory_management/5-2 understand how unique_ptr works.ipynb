{
 "cells": [
  {
   "cell_type": "code",
   "execution_count": 1,
   "id": "ff50aad4",
   "metadata": {},
   "outputs": [],
   "source": [
    "#include <memory>\n",
    "#include <iostream>\n",
    "#include <map>\n",
    "#include <string>"
   ]
  },
  {
   "cell_type": "markdown",
   "id": "33cbaa6c",
   "metadata": {},
   "source": [
    "* 1 Basic operation of std::unique_ptr\n",
    "* 2 re-implenent std::unique_ptr\n",
    "* 3 what happens when std::unique_ptr in a function declration\n",
    "* 4 what happens when std::unique_ptr as member variable in a class"
   ]
  },
  {
   "cell_type": "code",
   "execution_count": 2,
   "id": "79cefb9c",
   "metadata": {},
   "outputs": [],
   "source": [
    "class Resource\n",
    "{\n",
    "public:\n",
    "    int number;\n",
    "    \n",
    "    Resource(int n) {\n",
    "        number = n;\n",
    "        std::cout << \"Resource acquired\\n\"; \n",
    "    }\n",
    "    \n",
    "    ~Resource() { \n",
    "        std::cout << \"Resource destroyed\\n\"; \n",
    "    }\n",
    "    \n",
    "    friend std::ostream& operator<<(std::ostream& out, const Resource& res){\n",
    "        out << \"I am a resource\\n\";\n",
    "        return out;\n",
    "    }\n",
    "};"
   ]
  },
  {
   "cell_type": "markdown",
   "id": "1f4e2b35",
   "metadata": {},
   "source": [
    "# 1 Basic operation of std::unique_ptr"
   ]
  },
  {
   "cell_type": "markdown",
   "id": "0b68cd8c",
   "metadata": {},
   "source": [
    "## 1.a How to construct a std::unique_ptr"
   ]
  },
  {
   "cell_type": "markdown",
   "id": "8def74fc",
   "metadata": {},
   "source": [
    "method1: use new"
   ]
  },
  {
   "cell_type": "code",
   "execution_count": 3,
   "id": "cb989cea",
   "metadata": {},
   "outputs": [
    {
     "name": "stdout",
     "output_type": "stream",
     "text": [
      "Resource acquired\n"
     ]
    }
   ],
   "source": [
    "std::unique_ptr<Resource> res1{new Resource(5)}"
   ]
  },
  {
   "cell_type": "markdown",
   "id": "2adf046c",
   "metadata": {},
   "source": [
    "method2: use std:make_unique"
   ]
  },
  {
   "cell_type": "code",
   "execution_count": 4,
   "id": "82714a14",
   "metadata": {},
   "outputs": [
    {
     "name": "stdout",
     "output_type": "stream",
     "text": [
      "Resource acquired\n"
     ]
    }
   ],
   "source": [
    "std::unique_ptr<Resource> res2 = std::make_unique<Resource>(5);"
   ]
  },
  {
   "cell_type": "code",
   "execution_count": 5,
   "id": "770818b3",
   "metadata": {},
   "outputs": [
    {
     "name": "stdout",
     "output_type": "stream",
     "text": [
      "Resource acquired\n",
      "I am a resource\n",
      "\n",
      "the attribute of heap-object: 5\n",
      "Resource destroyed\n"
     ]
    }
   ],
   "source": [
    "{\n",
    "    std::unique_ptr<Resource> res3 = std::make_unique<Resource>(5);\n",
    "    \n",
    "    //dereference the pointer\n",
    "    std::cout << *res3 << std::endl;\n",
    "    \n",
    "    // access the object pointer points to\n",
    "    std::cout << \"the attribute of heap-object: \" << res3->number << std::endl;\n",
    "}"
   ]
  },
  {
   "cell_type": "markdown",
   "id": "fba224ff",
   "metadata": {},
   "source": [
    "**Because the std::unique_ptr is allocated on the stack here(a local variable), it’s guaranteed to eventually go out of scope, and when it does, it will delete the Resource it is managing.**"
   ]
  },
  {
   "cell_type": "markdown",
   "id": "2f679557",
   "metadata": {},
   "source": [
    "## 1.b how std::unique_ptr work and the lifetime of smart_pointer and  the Resource it point to."
   ]
  },
  {
   "cell_type": "code",
   "execution_count": 6,
   "id": "722b2a0e",
   "metadata": {},
   "outputs": [],
   "source": [
    "int auto_release_heap_memory_when_unique_ptr_go_out_of_scope(){\n",
    "    \n",
    "    std::unique_ptr<Resource> resource_ptr =  std::make_unique<Resource>(2);\n",
    "    \n",
    "    std::cout << \"unique_ptr is going out of scope \" << std::endl;\n",
    "    return 0;\n",
    "}; //res1 go out of scope, and then release Resource"
   ]
  },
  {
   "cell_type": "code",
   "execution_count": 7,
   "id": "586c9944",
   "metadata": {},
   "outputs": [
    {
     "name": "stdout",
     "output_type": "stream",
     "text": [
      "Resource acquired\n",
      "unique_ptr is going out of scope \n",
      "Resource destroyed\n"
     ]
    }
   ],
   "source": [
    "int a = auto_release_heap_memory_when_unique_ptr_go_out_of_scope();"
   ]
  },
  {
   "cell_type": "markdown",
   "id": "cee54f78",
   "metadata": {},
   "source": [
    "std::unique_ptr is a smart pointer that owns and manages another object through a pointer and disposes of that object when the unique_ptr goes out of scope.\n",
    "\n",
    "The object is disposed of, using the associated deleter when either of the following happens:\n",
    "\n",
    "* the managing unique_ptr object is destroyed\n",
    "* the managing unique_ptr object is assigned another pointer via operator= or reset()."
   ]
  },
  {
   "cell_type": "code",
   "execution_count": 8,
   "id": "c18aaaae",
   "metadata": {},
   "outputs": [],
   "source": [
    "int control_the_lifetime_of_heap_object_by_unique_ptr_member_function(){\n",
    "    \n",
    "    std::unique_ptr<Resource> resource_ptr = std::make_unique<Resource>(2);\n",
    "    std::cout << \"access the attribute of heap-object: \" << resource_ptr->number << std::endl;\n",
    "    std::cout << \"release the heap-memory-object by mannual\" << std::endl;\n",
    "    resource_ptr.reset(); // is equally to resource_ptr = nullptr,// delete the object, leaving unique_ptr empty\n",
    "    std::cout << \"unique_ptr is going out of scope \" << std::endl;\n",
    "    return 0;\n",
    "}; //res1 go out of scope, and then release Resource"
   ]
  },
  {
   "cell_type": "code",
   "execution_count": 9,
   "id": "7209494e",
   "metadata": {},
   "outputs": [
    {
     "name": "stdout",
     "output_type": "stream",
     "text": [
      "Resource acquired\n",
      "access the attribute of heap-object: 2\n",
      "release the heap-memory-object by mannual\n",
      "Resource destroyed\n",
      "unique_ptr is going out of scope \n"
     ]
    }
   ],
   "source": [
    "int b = control_the_lifetime_of_heap_object_by_unique_ptr_member_function();"
   ]
  },
  {
   "cell_type": "markdown",
   "id": "34d8e74f",
   "metadata": {},
   "source": [
    "## 1.c std::unique_ptr: copy construct and copy assgnment disabled and you can only it's move semantic"
   ]
  },
  {
   "cell_type": "markdown",
   "id": "a0dc2d36",
   "metadata": {},
   "source": [
    "copy construction and copy assignment are disabled\n",
    "\n",
    "That is, std::unique_ptr should completely own the object it manages, not share that ownership with other classes."
   ]
  },
  {
   "cell_type": "markdown",
   "id": "b5865854",
   "metadata": {},
   "source": [
    "![](./images/unique_ptr.png)"
   ]
  },
  {
   "cell_type": "code",
   "execution_count": 10,
   "id": "eeafc31b",
   "metadata": {},
   "outputs": [],
   "source": [
    "int test_rule_of_five(){\n",
    "    std::unique_ptr<Resource> p1{ new Resource{22} }; // Resource created here\n",
    "\tstd::unique_ptr<Resource> p2{}; // Start as nullptr\n",
    " \n",
    "\tstd::cout << \"p1 is \" << (static_cast<bool>(p1) ? \"not null\\n\" : \"null\\n\");\n",
    "\tstd::cout << \"p2 is \" << (static_cast<bool>(p2) ? \"not null\\n\" : \"null\\n\");\n",
    " \n",
    "    // //Copy construction is not allowed\n",
    "    //unique_ptr<MyObject> p3(p1);\n",
    "\t\n",
    "    // res2 = res1; // Won't compile: copy assignment is disabled\n",
    "    \n",
    "    // the output of std:move is a rvalue, the call the move assignment operator rather than copy assignment which is disabled \n",
    "\tp2 = std::move(p1); // res2 assumes ownership, res1 is set to null\n",
    " \n",
    "\tstd::cout << \"Ownership transferred\\n\";\n",
    " \n",
    "\tstd::cout << \"p1 is \" << (static_cast<bool>(p1) ? \"not null\\n\" : \"null\\n\");\n",
    "\tstd::cout << \"p2 is \" << (static_cast<bool>(p2) ? \"not null\\n\" : \"null\\n\");\n",
    "     \n",
    "    std::cout << *p2 << std::endl;\n",
    "    \n",
    "\treturn 0;\n",
    "};"
   ]
  },
  {
   "cell_type": "code",
   "execution_count": 11,
   "id": "8d0e4b10",
   "metadata": {},
   "outputs": [
    {
     "name": "stdout",
     "output_type": "stream",
     "text": [
      "Resource acquired\n",
      "p1 is not null\n",
      "p2 is null\n",
      "Ownership transferred\n",
      "p1 is null\n",
      "p2 is not null\n",
      "I am a resource\n",
      "\n",
      "Resource destroyed\n"
     ]
    }
   ],
   "source": [
    "int b = test_rule_of_five();"
   ]
  },
  {
   "cell_type": "markdown",
   "id": "4e01a1b8",
   "metadata": {},
   "source": [
    "if you want to transfer the contents managed by std::unique_ptr, you must use move semantics. In the program above, we accomplish this via std::move (which converts res1 into an r-value, which triggers a move assignment instead of a copy assignment)."
   ]
  },
  {
   "cell_type": "markdown",
   "id": "6cd72f20",
   "metadata": {},
   "source": [
    "# 2 reimplement a unique_ptr"
   ]
  },
  {
   "cell_type": "code",
   "execution_count": 12,
   "id": "eae249c5",
   "metadata": {},
   "outputs": [],
   "source": [
    "template <typename T>\n",
    "class UniquePtr {\n",
    "    private:\n",
    "    T* ptr_;\n",
    "    \n",
    "    public:\n",
    "    \n",
    "    UniquePtr(T* ptr) : ptr_{ptr} {}\n",
    "\n",
    "    UniquePtr() : ptr_{nullptr} {}\n",
    "\n",
    "    UniquePtr(const UniquePtr& p) = delete;\n",
    "    UniquePtr& operator=(const UniquePtr& p) = delete;\n",
    "\n",
    "    UniquePtr(UniquePtr&& p) {\n",
    "        this->ptr_ = p.ptr_;\n",
    "        p.ptr_ = nullptr;\n",
    "    }\n",
    "\n",
    "    UniquePtr& operator=(UniquePtr&& p) {\n",
    "        clean();\n",
    "        this->ptr_ = p.ptr_;\n",
    "        p.ptr_ = nullptr;\n",
    "        return *this;\n",
    "    }\n",
    "\n",
    "    T* get() const { return ptr_; }\n",
    "\n",
    "    T* operator->() const { return ptr_; }\n",
    "\n",
    "    T& operator*() const { return *ptr_; }\n",
    "\n",
    "    operator bool() const { return ptr_; }\n",
    "\n",
    "    ~UniquePtr() { clean(); }\n",
    "\n",
    "   private:\n",
    "    void clean() {\n",
    "        if (ptr_) delete ptr_;\n",
    "    }\n",
    "\n",
    "};"
   ]
  },
  {
   "cell_type": "code",
   "execution_count": 13,
   "id": "7148c2be",
   "metadata": {},
   "outputs": [
    {
     "name": "stdout",
     "output_type": "stream",
     "text": [
      "Resource acquired\n",
      "access heap-object attribute by unique_ptr: 11\n",
      "another_custom_unique_ptr is going out of scope \n",
      "Resource destroyed\n"
     ]
    }
   ],
   "source": [
    "{\n",
    "    Resource* resource_ptr = new Resource(11);\n",
    "    UniquePtr<Resource> a_custom_unique_ptr(resource_ptr);\n",
    "    std::cout << \"access heap-object attribute by unique_ptr: \" << a_custom_unique_ptr->number << std::endl;\n",
    "    UniquePtr<Resource> another_custom_unique_ptr(std::move(a_custom_unique_ptr));\n",
    "    std::cout << \"another_custom_unique_ptr is going out of scope \" << std::endl;\n",
    "} // "
   ]
  },
  {
   "cell_type": "markdown",
   "id": "65292116",
   "metadata": {},
   "source": [
    "# 3 what happens when std::unique_ptr in a function declration"
   ]
  },
  {
   "cell_type": "markdown",
   "id": "b98b53c3",
   "metadata": {},
   "source": [
    "## 3-1: Passing std::unique_ptr to a function"
   ]
  },
  {
   "cell_type": "markdown",
   "id": "95890c0c",
   "metadata": {},
   "source": [
    "If you want the function to take ownership of the contents of the pointer, pass the std::unique_ptr by value. Note that because copy semantics have been disabled, you’ll need to use std::move to actually pass the variable in."
   ]
  },
  {
   "cell_type": "markdown",
   "id": "1cf690a7",
   "metadata": {},
   "source": [
    "Moving a unique_ptr vs. using get()?"
   ]
  },
  {
   "cell_type": "code",
   "execution_count": 14,
   "id": "a18c19e9",
   "metadata": {},
   "outputs": [],
   "source": [
    "void takeOwnership(std::unique_ptr<Resource> res){\n",
    "     if (res)\n",
    "          std::cout << *res << '\\n';\n",
    "}; // the Resource is destroyed here\n"
   ]
  },
  {
   "cell_type": "markdown",
   "id": "f1624332",
   "metadata": {},
   "source": [
    "std::unique_ptr has an overloaded operator* and operator-> that can be used to return the resource being managed. Operator* returns a reference to the managed resource, and operator-> returns a pointer.\n",
    "\n",
    "Remember that std::unique_ptr may not always be managing an object -- either because it was created empty (using the default constructor or passing in a nullptr as the parameter), or because the resource it was managing got moved to another std::unique_ptr. So before we use either of these operators, we should check whether the std::unique_ptr actually has a resource. Fortunately, this is easy: std::unique_ptr has a cast to bool that returns true if the std::unique_ptr is managing a resource."
   ]
  },
  {
   "cell_type": "code",
   "execution_count": 15,
   "id": "248dc833",
   "metadata": {},
   "outputs": [
    {
     "name": "stdout",
     "output_type": "stream",
     "text": [
      "Resource acquired\n",
      "I am a resource\n",
      "\n",
      "Resource destroyed\n",
      "Ending program\n"
     ]
    }
   ],
   "source": [
    "int test_unique_pointer_as_function_parameter1(){\n",
    "    \n",
    "    auto ptr{ std::make_unique<Resource>(111)};\n",
    " \n",
    "//    takeOwnership(ptr); // This doesn't work, need to use move semantics\n",
    "    takeOwnership(std::move(ptr)); // ok: use move semantics\n",
    " \n",
    "    std::cout << \"Ending program\\n\";\n",
    " \n",
    "    return 0;\n",
    "};\n",
    "\n",
    "int d1 = test_unique_pointer_as_function_parameter1();"
   ]
  },
  {
   "cell_type": "markdown",
   "id": "0b1f5451",
   "metadata": {},
   "source": [
    "However, most of the time, you won’t want the function to take ownership of the resource. Although you can pass a std::unique_ptr by reference (which will allow the function to use the object without assuming ownership), you should only do so when the called function might alter or change the object being managed.\n",
    "\n",
    "Instead, it’s better to just pass the resource itself (by pointer or reference, depending on whether null is a valid argument). This allows the function to remain agnostic of how the caller is managing its resources. To get a raw resource pointer from a std::unique_ptr, you can use the get() member function:"
   ]
  },
  {
   "cell_type": "code",
   "execution_count": 16,
   "id": "dfff0871",
   "metadata": {},
   "outputs": [],
   "source": [
    "// The function only uses the resource, so we'll accept a pointer to the resource, not a reference to the whole std::unique_ptr<Resource>\n",
    "void justUseResource(Resource* res){\n",
    "    if (res)\n",
    "          std::cout << *res << '\\n';\n",
    "};"
   ]
  },
  {
   "cell_type": "code",
   "execution_count": 17,
   "id": "6c2a92e7",
   "metadata": {},
   "outputs": [
    {
     "name": "stdout",
     "output_type": "stream",
     "text": [
      "Resource acquired\n",
      "I am a resource\n",
      "\n",
      "Ending program\n",
      "Resource destroyed\n"
     ]
    }
   ],
   "source": [
    "int test_unique_pointer_as_function_parameter2(){\n",
    "    \n",
    "    auto ptr{ std::make_unique<Resource>(111)};\n",
    " \n",
    "    justUseResource(ptr.get()); // ok\n",
    " \n",
    "    std::cout << \"Ending program\\n\";\n",
    " \n",
    "    return 0;\n",
    "};\n",
    "\n",
    "int d2 = test_unique_pointer_as_function_parameter2();"
   ]
  },
  {
   "cell_type": "markdown",
   "id": "7f3efbd2",
   "metadata": {},
   "source": [
    "## 3-2: Returning std::unique_ptr from a function"
   ]
  },
  {
   "cell_type": "markdown",
   "id": "ab075231",
   "metadata": {},
   "source": [
    "**return by value, raw pointer to Resource, unique_ptr reference??**"
   ]
  },
  {
   "cell_type": "markdown",
   "id": "68e12029",
   "metadata": {},
   "source": [
    "### case1: return by value: be carefully"
   ]
  },
  {
   "cell_type": "code",
   "execution_count": 18,
   "id": "598beefc",
   "metadata": {},
   "outputs": [],
   "source": [
    "std::unique_ptr<Resource> createUniquePointer(){\n",
    "    // method 1:\n",
    "    /*create a local unique pointer\n",
    "    std::unique_ptr<Resource> p1(new Resource(111));\n",
    "    \n",
    "    Just wanted to add one more point that returning by value should be the default choice here because a named value in the return statement in the worst case, i.e. without elisions in C++11, C++14 and C++17 is treated as an rvalue. So for example the following function compiles with the -fno-elide-constructors flag\n",
    "    return p1; // p1 will surrender ownership\n",
    "    */\n",
    "    \n",
    "    //method2\n",
    "    //return std:move(p1);\n",
    "    \n",
    "    //method3\n",
    "    return std::make_unique<Resource>(111); //call the implicit std:move senmantics \n",
    "    \n",
    "};\n"
   ]
  },
  {
   "cell_type": "code",
   "execution_count": 19,
   "id": "dc95275d",
   "metadata": {},
   "outputs": [
    {
     "name": "stdout",
     "output_type": "stream",
     "text": [
      "Resource acquired\n",
      "I am a resource\n",
      "\n",
      "program end \n",
      "Resource destroyed\n"
     ]
    }
   ],
   "source": [
    "void test_unique_pointer_as_function_return(){\n",
    "    std::unique_ptr<Resource> a1; //unique_ptr points to nothing\n",
    "    a1=createUniquePointer(); //now a1 owns the object, here call the move assignment operator\n",
    "    \n",
    "    std::cout << *a1 << std::endl;\n",
    "    std::cout << \"program end \" << std::endl;\n",
    "};\n",
    "\n",
    "test_unique_pointer_as_function_return();"
   ]
  },
  {
   "cell_type": "markdown",
   "id": "744bbc55",
   "metadata": {},
   "source": [
    "In the above code, createResource() returns a std::unique_ptr by value. If this value is not assigned to anything, the temporary return value will go out of scope and the Resource will be cleaned up. If it is assigned (as shown in main()), in C++14 or earlier, move semantics will be employed to transfer the Resource from the return value to the object assigned to (in the above example, ptr), and in C++17 or newer, the return will be elided. This makes returning a resource by std::unique_ptr much safer than returning raw pointers!\n",
    "\n",
    "In general, you should not return std::unique_ptr by pointer (ever) or reference (unless you have a specific compelling reason to)."
   ]
  },
  {
   "cell_type": "markdown",
   "id": "cdb10f91",
   "metadata": {},
   "source": [
    "### case2: return by smart pointer reference: bad idea,"
   ]
  },
  {
   "cell_type": "markdown",
   "id": "13db54d1",
   "metadata": {},
   "source": [
    " it is indicative of bad design. Having a non-const reference means that you can steal the resource or replace it without having to offer separate methods.\n",
    " \n",
    " https://stackoverflow.com/questions/48863969/can-i-pass-a-unique-ptrs-reference-to-a-function"
   ]
  },
  {
   "cell_type": "code",
   "execution_count": 20,
   "id": "a0d41afb",
   "metadata": {},
   "outputs": [],
   "source": [
    "class TmContainer {\n",
    "public:\n",
    "    TmContainer() {\n",
    "        // Create some sort of complex object on heap and store unique_ptr to it\n",
    "        m_time = std::unique_ptr<tm>(new tm());\n",
    "        // Store something meaningful in its fields\n",
    "        m_time->tm_year = 42;\n",
    "    }\n",
    "\n",
    "    std::unique_ptr<tm>& time() { return m_time; }\n",
    "\n",
    "private:\n",
    "    std::unique_ptr<tm> m_time;\n",
    "};"
   ]
  },
  {
   "cell_type": "markdown",
   "id": "4a925509",
   "metadata": {},
   "source": [
    "~~~\n",
    "// Just create a handle to the managed object\n",
    "auto& tm_ptr = tm_container.time();\n",
    "do_something_to_tm(*tm_ptr);\n",
    "\n",
    "// Steal the resource\n",
    "std::unique_ptr<TmContainer> other_tm_ptr = std::move(tm_ptr);\n",
    "\n",
    "// Replace the managed object with another one\n",
    "tm_ptr = std::make_unique<TmContainer>;\n",
    "~~~"
   ]
  },
  {
   "cell_type": "markdown",
   "id": "0e26ff02",
   "metadata": {},
   "source": [
    "### case3: return raw pointer of Resource"
   ]
  },
  {
   "cell_type": "markdown",
   "id": "c73676c9",
   "metadata": {},
   "source": [
    "You should only return and accept smart pointers when you care about their ownership semantics. If you only care about what they're pointing to, you should instead return a reference or a raw pointer."
   ]
  },
  {
   "cell_type": "markdown",
   "id": "93db981e",
   "metadata": {},
   "source": [
    "https://stackoverflow.com/questions/43400850/return-a-unique-ptr-by-reference"
   ]
  },
  {
   "cell_type": "markdown",
   "id": "ea6a3fc3",
   "metadata": {},
   "source": [
    "So I need the users of this class to get access to the order unique_ptr if found. However I'm not going to move the object out of the vector so I'm returning the unique_ptr as const ref. My implementation of the find_order method:\n",
    "\n",
    "~~~\n",
    "class order_collection {\n",
    "    typedef std::unique_ptr<order> ord_ptr;\n",
    "    typedef std::vector<ord_ptr> ord_ptr_vec;\n",
    "    ord_ptr_vec orders;\n",
    "    ord_ptr null_unique;\n",
    "public:\n",
    "    ...\n",
    "    const ord_ptr & find_order(std::string);\n",
    "    ....\n",
    "~~~\n",
    "        \n",
    "~~~\n",
    "const order_collection::ord_ptr & order_collection::find_order(std::string id) {\n",
    "    auto it = std::find_if(orders.begin(),orders.end(),\n",
    "                           [&](const order_collection::ord_ptr & sptr) {\n",
    "                               return sptr->getId() == id;\n",
    "                           });\n",
    "\n",
    "    if (it == orders.end())\n",
    "        return null_unique; // can't return nullptr here\n",
    "    return *it;\n",
    "}\n",
    "~~~"
   ]
  },
  {
   "cell_type": "markdown",
   "id": "26a287e4",
   "metadata": {},
   "source": [
    "Since I'm returning by reference I can't return a nullptr. If I try to do so, I get warning : returning reference to a temporary. And if nothing is found the program crashes. So I added a unique_ptr<order> member variable called null_unique and I return it when find doesn't find an order. This solves the problem and warning is gone and doesn't crash when no order is found.\n",
    "\n",
    "However I'm doubting my solution as it make my class ugly. Is this the best practice for handling this situation?"
   ]
  },
  {
   "cell_type": "markdown",
   "id": "8e26928e",
   "metadata": {},
   "source": [
    "Since you're returning a dummy null_unique, it is clear that the caller of the method doesn't care about the ownership semantics. You can also have a null state: you should therefore return a raw pointer:"
   ]
  },
  {
   "cell_type": "markdown",
   "id": "7cd9e4d6",
   "metadata": {},
   "source": [
    "~~~\n",
    "order* order_collection::find_order(std::string id) {\n",
    "    auto it = std::find_if(orders.begin(),orders.end(),\n",
    "                           [&](const order_collection::ord_ptr & sptr) {\n",
    "                               return sptr->getId() == id;\n",
    "                           });\n",
    "\n",
    "    if (it == orders.end())\n",
    "        return nullptr;\n",
    "    return it->get();\n",
    "}\n",
    "~~~"
   ]
  },
  {
   "cell_type": "markdown",
   "id": "e6ec12ef",
   "metadata": {},
   "source": [
    "It doesn't really make sense to return a unique_ptr here, reference or otherwise. A unique_ptr implies ownership over the object, and those aren't really the semantics being conveyed by this code.\n",
    "\n",
    "As suggested in the comments, simply returning a raw pointer is fine here, provided that your Project Design explicitly prohibits you or anyone on your team from calling delete or delete[] outside the context of the destructor of a Resource-owning object."
   ]
  },
  {
   "cell_type": "markdown",
   "id": "7a397ab2",
   "metadata": {},
   "source": [
    "> +1 for the raw pointer solution. I will also add that it's very common to return iterators to collections for find-like operations. You'd return the end iterator on not found. Perhaps with C++17 people will start moving towards a std::optional approach, though"
   ]
  },
  {
   "cell_type": "markdown",
   "id": "28cb2f5d",
   "metadata": {},
   "source": [
    "## 1-f: unique_pointer in dict"
   ]
  },
  {
   "cell_type": "code",
   "execution_count": 21,
   "id": "ffc691bf",
   "metadata": {},
   "outputs": [],
   "source": [
    "using ResourceMap = std::map<std::string, std::unique_ptr<Resource>>;"
   ]
  },
  {
   "cell_type": "code",
   "execution_count": 22,
   "id": "08612c87",
   "metadata": {},
   "outputs": [
    {
     "name": "stdout",
     "output_type": "stream",
     "text": [
      "Resource acquired\n",
      "Resource acquired\n",
      "Resource acquired\n"
     ]
    }
   ],
   "source": [
    "ResourceMap myMap;\n",
    "myMap[\"000001\"] = std::make_unique<Resource>(11);\n",
    "myMap[\"000002\"] = std::make_unique<Resource>(21);\n",
    "myMap[\"000003\"] = std::make_unique<Resource>(31);"
   ]
  },
  {
   "cell_type": "code",
   "execution_count": 23,
   "id": "dd8dcf33",
   "metadata": {},
   "outputs": [],
   "source": [
    "using RMI = std::map<std::string, std::unique_ptr<Resource>>::iterator;"
   ]
  },
  {
   "cell_type": "code",
   "execution_count": 24,
   "id": "acc9039d",
   "metadata": {},
   "outputs": [],
   "source": [
    "RMI it = myMap.find(\"000002\");"
   ]
  },
  {
   "cell_type": "code",
   "execution_count": 25,
   "id": "fac1a9e5",
   "metadata": {},
   "outputs": [
    {
     "name": "stdout",
     "output_type": "stream",
     "text": [
      "21\n"
     ]
    }
   ],
   "source": [
    "std::cout << it -> second -> number << std::endl;"
   ]
  },
  {
   "cell_type": "code",
   "execution_count": 26,
   "id": "574ff499",
   "metadata": {},
   "outputs": [
    {
     "name": "stdout",
     "output_type": "stream",
     "text": [
      "21\n"
     ]
    }
   ],
   "source": [
    "{\n",
    "    //std::unique_ptr<Resource> a_copy = std::move(it -> second);\n",
    "    std::cout << it -> second -> number << std::endl;\n",
    "}"
   ]
  },
  {
   "cell_type": "code",
   "execution_count": 27,
   "id": "397108ab",
   "metadata": {},
   "outputs": [
    {
     "name": "stdout",
     "output_type": "stream",
     "text": [
      "000001:11\n",
      "000002:21\n",
      "000003:31\n"
     ]
    }
   ],
   "source": [
    "for(auto i = myMap.begin(); i!=myMap.end(); i++){\n",
    "    std::cout <<i->first << \":\" << i->second -> number << std::endl;\n",
    "}"
   ]
  },
  {
   "cell_type": "code",
   "execution_count": 28,
   "id": "ca7de421",
   "metadata": {},
   "outputs": [
    {
     "name": "stdout",
     "output_type": "stream",
     "text": [
      "21\n",
      "Resource destroyed\n"
     ]
    }
   ],
   "source": [
    "{\n",
    "    std::unique_ptr<Resource> a_copy = std::move(it -> second);\n",
    "    std::cout << a_copy -> number << std::endl;\n",
    "}"
   ]
  },
  {
   "cell_type": "code",
   "execution_count": 29,
   "id": "0dab3fe2",
   "metadata": {},
   "outputs": [],
   "source": [
    "//for(auto i = myMap.begin(); i!=myMap.end(); i++){\n",
    "//    std::cout <<i->first << \":\" << i->second -> number << std::endl;\n",
    "//}"
   ]
  },
  {
   "cell_type": "markdown",
   "id": "cf19070d",
   "metadata": {},
   "source": [
    "why ? because the value of the 000002 is nullptr because std::move"
   ]
  },
  {
   "cell_type": "markdown",
   "id": "9f3bddb5",
   "metadata": {},
   "source": [
    "# 4 std::unique_ptr serves as a member variable in a class"
   ]
  },
  {
   "cell_type": "markdown",
   "id": "1fb730d8",
   "metadata": {},
   "source": [
    "You can, of course, use std::unique_ptr as a composition member of your class. This way, you don’t have to worry about ensuring your class destructor deletes the dynamic memory, as the std::unique_ptr will be automatically destroyed when the class object is destroyed.\n",
    "\n",
    "However, if the class object is not destroyed properly (e.g. it is dynamically allocated and not deallocated properly), then the std::unique_ptr member will not be destroyed either, and the object being managed by the std::unique_ptr will not be deallocated."
   ]
  },
  {
   "cell_type": "markdown",
   "id": "01b64d87",
   "metadata": {},
   "source": [
    ">　https://stackoverflow.com/questions/15648844/using-smart-pointers-for-class-members"
   ]
  },
  {
   "cell_type": "markdown",
   "id": "1fc7ba00",
   "metadata": {},
   "source": [
    "### context\n",
    "I'm having trouble understanding the usage of smart pointers as class members in C++11. I have read a lot about smart pointers and I think I do understand how unique_ptr and shared_ptr/weak_ptr work in general. What I don't understand is the real usage. It seems like everybody recommends using unique_ptr as the way to go almost all the time. But how would I implement something like this:\n",
    "~~~\n",
    "class Device {\n",
    "};\n",
    "\n",
    "class Settings {\n",
    "    Device *device;\n",
    "public:\n",
    "    Settings(Device *device) {\n",
    "        this->device = device;\n",
    "    }\n",
    "\n",
    "    Device *getDevice() {\n",
    "        return device;\n",
    "    }\n",
    "};    \n",
    "\n",
    "int main() {\n",
    "    Device *device = new Device();\n",
    "    Settings settings(device);\n",
    "    // ...\n",
    "    Device *myDevice = settings.getDevice();\n",
    "    // do something with myDevice...\n",
    "}\n",
    "~~~"
   ]
  },
  {
   "cell_type": "markdown",
   "id": "2b424834",
   "metadata": {},
   "source": [
    "Let's say I would like to replace the pointers with smart pointers. A unique_ptr would not work because of getDevice(), right? So that's the time when I use shared_ptr and weak_ptr? No way of using unique_ptr? Seems to me like for most cases shared_ptr makes more sense unless I'm using a pointer in a really small scope?\n",
    "~~~\n",
    "class Device {\n",
    "};\n",
    "\n",
    "class Settings {\n",
    "    std::shared_ptr<Device> device;\n",
    "public:\n",
    "    Settings(std::shared_ptr<Device> device) {\n",
    "        this->device = device;\n",
    "    }\n",
    "\n",
    "    std::weak_ptr<Device> getDevice() {\n",
    "        return device;\n",
    "    }\n",
    "};\n",
    "\n",
    "int main() {\n",
    "    std::shared_ptr<Device> device(new Device());\n",
    "    Settings settings(device);\n",
    "    // ...\n",
    "    std::weak_ptr<Device> myDevice = settings.getDevice();\n",
    "    // do something with myDevice...\n",
    "}\n",
    "~~~"
   ]
  },
  {
   "cell_type": "markdown",
   "id": "00761906",
   "metadata": {},
   "source": [
    "### answer"
   ]
  },
  {
   "cell_type": "markdown",
   "id": "68b05755",
   "metadata": {},
   "source": [
    "What is important here is to determine the appropriate ownership policy for your Device object, i.e. who is going to be the owner of the object pointed to by your (smart) pointer.\n",
    "\n",
    "Is it going to be the instance of the Settings object alone? Will the Device object have to be destroyed automatically when the Settings object gets destroyed, or should it outlive that object?\n",
    "\n",
    "In the first case, std::unique_ptr is what you need, since it makes Settings the only (unique) owner of the pointed object, and the only object which is responsible for its destruction.\n",
    "\n",
    "Under this assumption, getDevice() should return a simple observing pointer (observing pointers are pointers which do not keep the pointed object alive). The simplest kind of observing pointer is a raw pointer:\n",
    "\n",
    "~~~\n",
    "#include <memory>\n",
    "\n",
    "class Device {\n",
    "};\n",
    "\n",
    "class Settings {\n",
    "    std::unique_ptr<Device> device;\n",
    "public:\n",
    "    Settings(std::unique_ptr<Device> d) {\n",
    "        device = std::move(d);\n",
    "    }\n",
    "\n",
    "    Device* getDevice() {\n",
    "        return device.get();\n",
    "    }\n",
    "};\n",
    "\n",
    "int main() {\n",
    "    std::unique_ptr<Device> device(new Device());\n",
    "    Settings settings(std::move(device));\n",
    "    // ...\n",
    "    Device *myDevice = settings.getDevice();\n",
    "    // do something with myDevice...\n",
    "}\n",
    "\n",
    "~~~\n",
    "\n",
    "[NOTE 1: You may be wondering why I am using raw pointers here, when everybody keeps telling that raw pointers are bad, unsafe, and dangerous. Actually, that is a precious warning, but it is important to put it in the correct context: raw pointers are bad when used for performing manual memory management, i.e. allocating and deallocating objects through new and delete. When used purely as a means to achieve reference semantics and pass around non-owning, observing pointers, there is nothing intrinsically dangerous in raw pointers, except maybe for the fact that one should take care not to dereference a dangling pointer. - END NOTE 1]\n",
    "\n",
    "[NOTE 2: As it emerged in the comments, in this particular case where the ownership is unique and the owned object is always guaranteed to be present (i.e. the internal data member device is never going to be nullptr), function getDevice() could (and maybe should) return a reference rather than a pointer. While this is true, I decided to return a raw pointer here because I meant this to be a short answer that one could generalize to the case where device could be nullptr, and to show that raw pointers are OK as long as one does not use them for manual memory management. - END NOTE 2]"
   ]
  },
  {
   "cell_type": "markdown",
   "id": "14b5dfb4",
   "metadata": {},
   "source": [
    "The situation is radically different, of course, if your Settings object should not have the exclusive ownership of the device. This could be the case, for instance, if the destruction of the Settings object should not imply the destruction of the pointed Device object as well.\n",
    "\n",
    "This is something that only you as a designer of your program can tell; from the example you provide, it is hard for me to tell whether this is the case or not.\n",
    "\n",
    "To help you figure it out, you may ask yourself whether there are any other objects apart from Settings that are entitled to keep the Device object alive as long as they hold a pointer to it, instead of being just passive observers. If that is indeed the case, then you need a shared ownership policy, which is what std::shared_ptr offers:\n",
    "~~~\n",
    "#include <memory>\n",
    "\n",
    "class Device {\n",
    "};\n",
    "\n",
    "class Settings {\n",
    "    std::shared_ptr<Device> device;\n",
    "public:\n",
    "    Settings(std::shared_ptr<Device> const& d) {\n",
    "        device = d;\n",
    "    }\n",
    "\n",
    "    std::shared_ptr<Device> getDevice() {\n",
    "        return device;\n",
    "    }\n",
    "};\n",
    "\n",
    "int main() {\n",
    "    std::shared_ptr<Device> device = std::make_shared<Device>();\n",
    "    Settings settings(device);\n",
    "    // ...\n",
    "    std::shared_ptr<Device> myDevice = settings.getDevice();\n",
    "    // do something with myDevice...\n",
    "}\n",
    "~~~\n",
    "Notice, that weak_ptr is an observing pointer, not an owning pointer - in other words, it does not keep the pointed object alive if all other owning pointers to the pointed object go out of scope.\n",
    "\n",
    "The advantage of weak_ptr over a regular raw pointer is that you can safely tell whether weak_ptr is dangling or not (i.e. whether it is pointing to a valid object, or if the object originally pointed to has been destroyed). This can be done by calling the expired() member function on the weak_ptr object."
   ]
  },
  {
   "cell_type": "markdown",
   "id": "9b2f7070",
   "metadata": {},
   "source": [
    "# 5 forbidden behavior in std::unique_ptr"
   ]
  },
  {
   "cell_type": "markdown",
   "id": "561b4b99",
   "metadata": {},
   "source": [
    "There are two easy ways to misuse std::unique_ptrs, both of which are easily avoided. First, don’t let multiple classes manage the same resource."
   ]
  },
  {
   "cell_type": "markdown",
   "id": "9c941e45",
   "metadata": {},
   "source": [
    "## 5.1 don’t let multiple classes manage the same resource"
   ]
  },
  {
   "cell_type": "markdown",
   "id": "567d80d1",
   "metadata": {},
   "source": [
    "~~~\n",
    "Resource* res{ new Resource() };\n",
    "std::unique_ptr<Resource> res1{ res };\n",
    "std::unique_ptr<Resource> res2{ res };\n",
    "~~~"
   ]
  },
  {
   "cell_type": "markdown",
   "id": "c16e1112",
   "metadata": {},
   "source": [
    "While this is legal syntactically, the end result will be that both res1 and res2 will try to delete the Resource(double delete), which will lead to undefined behavior."
   ]
  },
  {
   "cell_type": "markdown",
   "id": "6da9b896",
   "metadata": {},
   "source": [
    "## 5.2 don’t manually delete the resource out from underneath the std::unique_ptr."
   ]
  },
  {
   "cell_type": "markdown",
   "id": "bb46e722",
   "metadata": {},
   "source": [
    "~~~\n",
    "Resource* res{ new Resource() };\n",
    "std::unique_ptr<Resource> res1{ res };\n",
    "delete res;\n",
    "~~~"
   ]
  },
  {
   "cell_type": "code",
   "execution_count": 30,
   "id": "3cd13f63",
   "metadata": {},
   "outputs": [
    {
     "name": "stdout",
     "output_type": "stream",
     "text": [
      "Resource acquired\n",
      "111\n",
      "Resource destroyed\n"
     ]
    }
   ],
   "source": [
    "{\n",
    "    std::unique_ptr<Resource> up(new Resource{111});\n",
    "    std::cout << up->number << std::endl;\n",
    "\n",
    "    Resource* p = up.get();\n",
    "    //delete p;\n",
    "}"
   ]
  },
  {
   "cell_type": "markdown",
   "id": "5f362ffa",
   "metadata": {},
   "source": [
    "# appendix 1: how to get the raw pointer from unique_ptr"
   ]
  },
  {
   "cell_type": "markdown",
   "id": "43722532",
   "metadata": {},
   "source": [
    "**std::unique_ptr<T,Deleter>::get**\n",
    "\n",
    "Returns a pointer to the managed object or nullptr if no object is owned."
   ]
  },
  {
   "cell_type": "code",
   "execution_count": 31,
   "id": "ccca5991",
   "metadata": {},
   "outputs": [
    {
     "name": "stdout",
     "output_type": "stream",
     "text": [
      "Resource acquired\n",
      "111\n",
      "I am a resource\n",
      "\n",
      "111\n",
      "I am a resource\n",
      "\n",
      "22\n",
      "22\n"
     ]
    }
   ],
   "source": [
    "std::unique_ptr<Resource> up(new Resource{111});\n",
    "std::cout << up->number << std::endl;\n",
    "\n",
    "Resource* p = up.get();\n",
    "std::cout << *p << std::endl;\n",
    "std::cout << p -> number << std::endl;\n",
    "\n",
    "p -> number = 22;\n",
    "std::cout << *p << std::endl;\n",
    "std::cout << p -> number << std::endl;\n",
    "\n",
    "std::cout << up->number << std::endl;"
   ]
  },
  {
   "cell_type": "markdown",
   "id": "6795063c",
   "metadata": {},
   "source": [
    "***see***: the research subject of smart pointer is the pointer itself, which mean we can create a pointer which has many attributes we desired. such as the unique_ptr can not be copied constructed and copy assigned."
   ]
  },
  {
   "cell_type": "markdown",
   "id": "efcde94d",
   "metadata": {},
   "source": [
    "> std::unique_ptr is a smart pointer that owns and manages another object through a pointer and disposes of that object when the unique_ptr goes out of scope.\n",
    "\n",
    "The object is disposed of, using the associated deleter when either of the following happens:\n",
    "\n",
    "the managing unique_ptr object is destroyed\n",
    "\n",
    "the managing unique_ptr object is assigned another pointer via operator= or reset()"
   ]
  }
 ],
 "metadata": {
  "kernelspec": {
   "display_name": "C++14",
   "language": "C++14",
   "name": "xcpp14"
  },
  "language_info": {
   "codemirror_mode": "text/x-c++src",
   "file_extension": ".cpp",
   "mimetype": "text/x-c++src",
   "name": "c++",
   "version": "14"
  }
 },
 "nbformat": 4,
 "nbformat_minor": 5
}
