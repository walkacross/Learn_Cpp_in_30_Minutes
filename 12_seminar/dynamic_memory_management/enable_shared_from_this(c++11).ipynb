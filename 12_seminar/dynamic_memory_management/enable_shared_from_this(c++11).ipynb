{
 "cells": [
  {
   "cell_type": "markdown",
   "id": "9b377096",
   "metadata": {},
   "source": [
    "# std::enable_shared_from_this\n",
    "\n",
    "Defined in header < memory >\t\t\n",
    "template< class T > class enable_shared_from_this;(since C++11)"
   ]
  },
  {
   "cell_type": "markdown",
   "id": "cd56119f",
   "metadata": {},
   "source": [
    "## 1 motivation"
   ]
  },
  {
   "cell_type": "markdown",
   "id": "def3a0c1",
   "metadata": {},
   "source": [
    "std::enable_shared_from_this allows an object t that is currently managed by a std::shared_ptr named pt to safely generate additional std::shared_ptr instances pt1, pt2, ... that all share ownership of t with pt.\n",
    "\n",
    "Publicly inheriting from std::enable_shared_from_this<T> provides the type T with a member function shared_from_this. If an object t of type T is managed by a std::shared_ptr<T> named pt, then calling T::shared_from_this will return a new std::shared_ptr<T> that shares ownership of t with pt."
   ]
  },
  {
   "cell_type": "markdown",
   "id": "cacb8c96",
   "metadata": {},
   "source": [
    "**enable_shared_from_this provides the safe alternative to an expression like std::shared_ptr<T>(this), which is likely to result in this being destructed more than once by multiple owners that are unaware of each other (see example below).**"
   ]
  },
  {
   "cell_type": "code",
   "execution_count": 1,
   "id": "58b8efb3",
   "metadata": {},
   "outputs": [],
   "source": [
    "#include <memory>\n",
    "#include <iostream>"
   ]
  },
  {
   "cell_type": "markdown",
   "id": "5444ebb9",
   "metadata": {},
   "source": [
    "## 2 use case"
   ]
  },
  {
   "cell_type": "markdown",
   "id": "b0dac356",
   "metadata": {},
   "source": [
    "* (constructor) constructs an enable_shared_from_this object(protected member function)\n",
    "* (destructor) destroys an enable_shared_from_this object(protected member function)\n",
    "* operator= returns a reference to this(protected member function)\n",
    "* shared_from_this returns a shared_ptr which shares ownership of *this(public member function)\n",
    "* weak_from_this(C++17) returns the weak_ptr which shares ownership of *this(public member function)"
   ]
  },
  {
   "cell_type": "code",
   "execution_count": 2,
   "id": "f935bf50",
   "metadata": {},
   "outputs": [],
   "source": [
    "struct Good: public std::enable_shared_from_this<Good> // note: public inheritance\n",
    "{\n",
    "    std::shared_ptr<Good> getptr() {\n",
    "        return shared_from_this();\n",
    "    }\n",
    "};\n",
    " \n",
    "struct Bad\n",
    "{\n",
    "    std::shared_ptr<Bad> getptr() {\n",
    "        return std::shared_ptr<Bad>(this);\n",
    "    }\n",
    "    ~Bad() { std::cout << \"Bad::~Bad() called\\n\"; }\n",
    "};"
   ]
  },
  {
   "cell_type": "code",
   "execution_count": 3,
   "id": "5ac13d45",
   "metadata": {},
   "outputs": [],
   "source": [
    "int main(){\n",
    "    // Good: the two shared_ptr's share the same object\n",
    "    std::shared_ptr<Good> gp1 = std::make_shared<Good>();\n",
    "    std::shared_ptr<Good> gp2 = gp1->getptr();\n",
    "    std::cout << \"gp2.use_count() = \" << gp2.use_count() << '\\n';\n",
    " \n",
    "    // Bad: shared_from_this is called without having std::shared_ptr owning the caller \n",
    "    try {\n",
    "        Good not_so_good;\n",
    "        std::shared_ptr<Good> gp1 = not_so_good.getptr();\n",
    "    } catch(std::bad_weak_ptr& e) {\n",
    "        // undefined behavior (until C++17) and std::bad_weak_ptr thrown (since C++17)\n",
    "        std::cout << e.what() << '\\n';    \n",
    "    }\n",
    "    // Bad, each shared_ptr thinks it's the only owner of the object\n",
    "    std::shared_ptr<Bad> bp1 = std::make_shared<Bad>();\n",
    "    std::shared_ptr<Bad> bp2 = bp1->getptr();\n",
    "    std::cout << \"bp2.use_count() = \" << bp2.use_count() << '\\n';\n",
    "} // UB: double-delete of Bad"
   ]
  },
  {
   "cell_type": "code",
   "execution_count": null,
   "id": "eb824c37",
   "metadata": {},
   "outputs": [],
   "source": [
    "main();\n",
    "/*\n",
    "gp2.use_count() = 2\n",
    "bad_weak_ptr\n",
    "bp2.use_count() = 1\n",
    "Bad::~Bad() called\n",
    "Bad::~Bad() called\n",
    "*** glibc detected *** ./test: double free or corruption\n",
    "\n",
    "*/"
   ]
  },
  {
   "cell_type": "markdown",
   "id": "470102f4",
   "metadata": {},
   "source": [
    "## 3 how this works?"
   ]
  },
  {
   "cell_type": "markdown",
   "id": "bcd72009",
   "metadata": {},
   "source": [
    "A common implementation for enable_shared_from_this is to hold a weak reference (such as std::weak_ptr) to this. The constructors of std::shared_ptr detect the presence of an unambiguous and accessible (since C++17) enable_shared_from_this base and assign the newly created std::shared_ptr to the internally stored weak reference if not already owned by a live std::shared_ptr (since C++17). Constructing a std::shared_ptr for an object that is already managed by another std::shared_ptr will not consult the internally stored weak reference and thus will lead to undefined behavior.\n",
    "\n",
    "It is permitted to call shared_from_this only on a previously shared object, i.e. on an object managed by std::shared_ptr<T>. Otherwise the behavior is undefined (until C++17)std::bad_weak_ptr is thrown (by the shared_ptr constructor from a default-constructed weak_this) (since C++17)."
   ]
  }
 ],
 "metadata": {
  "kernelspec": {
   "display_name": "C++17",
   "language": "C++17",
   "name": "xcpp17"
  },
  "language_info": {
   "codemirror_mode": "text/x-c++src",
   "file_extension": ".cpp",
   "mimetype": "text/x-c++src",
   "name": "c++",
   "version": "17"
  }
 },
 "nbformat": 4,
 "nbformat_minor": 5
}
